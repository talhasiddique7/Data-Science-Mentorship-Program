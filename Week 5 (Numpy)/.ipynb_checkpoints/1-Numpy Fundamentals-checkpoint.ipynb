{
 "cells": [
  {
   "cell_type": "markdown",
   "metadata": {
    "id": "lFF783PD7ypT"
   },
   "source": [
    "### What is numpy?\n",
    "\n",
    "NumPy is the fundamental package for scientific computing in Python. It is a Python library that provides a multidimensional array object, various derived objects (such as masked arrays and matrices), and an assortment of routines for fast operations on arrays, including mathematical, logical, shape manipulation, sorting, selecting, I/O, discrete Fourier transforms, basic linear algebra, basic statistical operations, random simulation and much more.\n",
    "\n",
    "\n",
    "At the core of the NumPy package, is the ndarray object. This encapsulates n-dimensional arrays of homogeneous data types"
   ]
  },
  {
   "cell_type": "markdown",
   "metadata": {
    "id": "HPRzhmwiZkOP"
   },
   "source": [
    "### Numpy Arrays Vs Python Sequences\n",
    "\n",
    "- NumPy arrays have a fixed size at creation, unlike Python lists (which can grow dynamically). Changing the size of an ndarray will create a new array and delete the original.\n",
    "\n",
    "- The elements in a NumPy array are all required to be of the same data type, and thus will be the same size in memory.\n",
    "\n",
    "- NumPy arrays facilitate advanced mathematical and other types of operations on large numbers of data. Typically, such operations are executed more efficiently and with less code than is possible using Python’s built-in sequences.\n",
    "\n",
    "- A growing plethora of scientific and mathematical Python-based packages are using NumPy arrays; though these typically support Python-sequence input, they convert such input to NumPy arrays prior to processing, and they often output NumPy arrays."
   ]
  },
  {
   "cell_type": "markdown",
   "metadata": {
    "id": "0PyrZ724szaG"
   },
   "source": [
    "### Creating Numpy Arrays"
   ]
  },
  {
   "cell_type": "code",
   "execution_count": 1,
   "metadata": {
    "colab": {
     "base_uri": "https://localhost:8080/"
    },
    "executionInfo": {
     "elapsed": 742,
     "status": "ok",
     "timestamp": 1704121260463,
     "user": {
      "displayName": "TALHA SIDDIQUE",
      "userId": "16213719004269784609"
     },
     "user_tz": -300
    },
    "id": "V4AVNXrts3sL",
    "outputId": "ee7e473c-7ba5-4989-a47c-e15b67273421"
   },
   "outputs": [
    {
     "name": "stdout",
     "output_type": "stream",
     "text": [
      "[1 2 3]\n"
     ]
    }
   ],
   "source": [
    "# np.array\n",
    "import numpy as np\n",
    "\n",
    "a = np.array([1,2,3])\n",
    "print(a)"
   ]
  },
  {
   "cell_type": "code",
   "execution_count": 2,
   "metadata": {
    "colab": {
     "base_uri": "https://localhost:8080/"
    },
    "executionInfo": {
     "elapsed": 64,
     "status": "ok",
     "timestamp": 1704121261110,
     "user": {
      "displayName": "TALHA SIDDIQUE",
      "userId": "16213719004269784609"
     },
     "user_tz": -300
    },
    "id": "AAfxD1kCs6R5",
    "outputId": "6fcb8759-25e7-4588-d59a-298b2e270259"
   },
   "outputs": [
    {
     "name": "stdout",
     "output_type": "stream",
     "text": [
      "[[1 2 3]\n",
      " [4 5 6]]\n"
     ]
    }
   ],
   "source": [
    "# 2D and 3D\n",
    "b = np.array([[1,2,3],[4,5,6]])\n",
    "print(b)"
   ]
  },
  {
   "cell_type": "code",
   "execution_count": 3,
   "metadata": {
    "colab": {
     "base_uri": "https://localhost:8080/"
    },
    "executionInfo": {
     "elapsed": 59,
     "status": "ok",
     "timestamp": 1704121261110,
     "user": {
      "displayName": "TALHA SIDDIQUE",
      "userId": "16213719004269784609"
     },
     "user_tz": -300
    },
    "id": "MyrHdd6J6CrF",
    "outputId": "503984f6-8561-4e6d-ae69-0ec48abe367a"
   },
   "outputs": [
    {
     "name": "stdout",
     "output_type": "stream",
     "text": [
      "[[[1 2]\n",
      "  [3 4]]\n",
      "\n",
      " [[5 6]\n",
      "  [7 8]]]\n"
     ]
    }
   ],
   "source": [
    "c = np.array([[[1,2],[3,4]],[[5,6],[7,8]]])\n",
    "print(c)"
   ]
  },
  {
   "cell_type": "code",
   "execution_count": 4,
   "metadata": {
    "colab": {
     "base_uri": "https://localhost:8080/"
    },
    "executionInfo": {
     "elapsed": 55,
     "status": "ok",
     "timestamp": 1704121261110,
     "user": {
      "displayName": "TALHA SIDDIQUE",
      "userId": "16213719004269784609"
     },
     "user_tz": -300
    },
    "id": "FM8AwUOdFqC7",
    "outputId": "f1cb8334-d854-4bf4-8d9c-007c25486327"
   },
   "outputs": [
    {
     "data": {
      "text/plain": [
       "array([1., 2., 3.])"
      ]
     },
     "execution_count": 4,
     "metadata": {},
     "output_type": "execute_result"
    }
   ],
   "source": [
    "# dtype\n",
    "np.array([1,2,3],dtype=float)"
   ]
  },
  {
   "cell_type": "code",
   "execution_count": 5,
   "metadata": {
    "colab": {
     "base_uri": "https://localhost:8080/"
    },
    "executionInfo": {
     "elapsed": 53,
     "status": "ok",
     "timestamp": 1704121261111,
     "user": {
      "displayName": "TALHA SIDDIQUE",
      "userId": "16213719004269784609"
     },
     "user_tz": -300
    },
    "id": "ZY187Au_s8vm",
    "outputId": "4e64a610-9249-49f7-f9ba-8b8894b03e62"
   },
   "outputs": [
    {
     "data": {
      "text/plain": [
       "array([1, 3, 5, 7, 9])"
      ]
     },
     "execution_count": 5,
     "metadata": {},
     "output_type": "execute_result"
    }
   ],
   "source": [
    "# np.arange creating array with sequence\n",
    "np.arange(1,11,2)"
   ]
  },
  {
   "cell_type": "code",
   "execution_count": 6,
   "metadata": {
    "colab": {
     "base_uri": "https://localhost:8080/"
    },
    "executionInfo": {
     "elapsed": 50,
     "status": "ok",
     "timestamp": 1704121261111,
     "user": {
      "displayName": "TALHA SIDDIQUE",
      "userId": "16213719004269784609"
     },
     "user_tz": -300
    },
    "id": "3Gc7BaJZwl7e",
    "outputId": "d2431201-8466-4d0e-8ea7-d900ba93b25f"
   },
   "outputs": [
    {
     "data": {
      "text/plain": [
       "array([[[[ 0,  1],\n",
       "         [ 2,  3]],\n",
       "\n",
       "        [[ 4,  5],\n",
       "         [ 6,  7]]],\n",
       "\n",
       "\n",
       "       [[[ 8,  9],\n",
       "         [10, 11]],\n",
       "\n",
       "        [[12, 13],\n",
       "         [14, 15]]]])"
      ]
     },
     "execution_count": 6,
     "metadata": {},
     "output_type": "execute_result"
    }
   ],
   "source": [
    "# with reshape\n",
    "np.arange(16).reshape(2,2,2,2)"
   ]
  },
  {
   "cell_type": "code",
   "execution_count": 7,
   "metadata": {
    "colab": {
     "base_uri": "https://localhost:8080/"
    },
    "executionInfo": {
     "elapsed": 46,
     "status": "ok",
     "timestamp": 1704121261111,
     "user": {
      "displayName": "TALHA SIDDIQUE",
      "userId": "16213719004269784609"
     },
     "user_tz": -300
    },
    "id": "R2BYpYcGs-9l",
    "outputId": "ca1d5647-a50a-4b96-f6f4-7130bb99c75e"
   },
   "outputs": [
    {
     "data": {
      "text/plain": [
       "array([[1., 1., 1., 1.],\n",
       "       [1., 1., 1., 1.],\n",
       "       [1., 1., 1., 1.]])"
      ]
     },
     "execution_count": 7,
     "metadata": {},
     "output_type": "execute_result"
    }
   ],
   "source": [
    "# np.ones and np.zeros\n",
    "np.ones((3,4))"
   ]
  },
  {
   "cell_type": "code",
   "execution_count": 8,
   "metadata": {
    "colab": {
     "base_uri": "https://localhost:8080/"
    },
    "executionInfo": {
     "elapsed": 41,
     "status": "ok",
     "timestamp": 1704121261111,
     "user": {
      "displayName": "TALHA SIDDIQUE",
      "userId": "16213719004269784609"
     },
     "user_tz": -300
    },
    "id": "vOjv_Euj8HGR",
    "outputId": "9a833a05-a16e-4e2c-d165-5f76a5912b59"
   },
   "outputs": [
    {
     "data": {
      "text/plain": [
       "array([[0., 0., 0., 0.],\n",
       "       [0., 0., 0., 0.],\n",
       "       [0., 0., 0., 0.]])"
      ]
     },
     "execution_count": 8,
     "metadata": {},
     "output_type": "execute_result"
    }
   ],
   "source": [
    "np.zeros((3,4))"
   ]
  },
  {
   "cell_type": "code",
   "execution_count": 9,
   "metadata": {
    "colab": {
     "base_uri": "https://localhost:8080/"
    },
    "executionInfo": {
     "elapsed": 39,
     "status": "ok",
     "timestamp": 1704121261112,
     "user": {
      "displayName": "TALHA SIDDIQUE",
      "userId": "16213719004269784609"
     },
     "user_tz": -300
    },
    "id": "fYEeYi7itCRM",
    "outputId": "04076a70-27ed-464c-e0c7-3d2c84acff74"
   },
   "outputs": [
    {
     "data": {
      "text/plain": [
       "array([[0.47384725, 0.65587349, 0.28343349, 0.01925161],\n",
       "       [0.71273591, 0.15711459, 0.69518523, 0.09167138],\n",
       "       [0.99261317, 0.37022469, 0.17573662, 0.81116704]])"
      ]
     },
     "execution_count": 9,
     "metadata": {},
     "output_type": "execute_result"
    }
   ],
   "source": [
    "# np.random\n",
    "\n",
    "np.random.random((3,4))"
   ]
  },
  {
   "cell_type": "code",
   "execution_count": 10,
   "metadata": {
    "colab": {
     "base_uri": "https://localhost:8080/"
    },
    "executionInfo": {
     "elapsed": 36,
     "status": "ok",
     "timestamp": 1704121261112,
     "user": {
      "displayName": "TALHA SIDDIQUE",
      "userId": "16213719004269784609"
     },
     "user_tz": -300
    },
    "id": "vel7WrgltE3P",
    "outputId": "bedb0beb-0c57-4ea3-f72f-ed6c4dddcee7"
   },
   "outputs": [
    {
     "data": {
      "text/plain": [
       "array([-10,  -8,  -6,  -4,  -2,   1,   3,   5,   7,  10])"
      ]
     },
     "execution_count": 10,
     "metadata": {},
     "output_type": "execute_result"
    }
   ],
   "source": [
    "# np.linspace\n",
    "np.linspace(-10,10,10,dtype=int)"
   ]
  },
  {
   "cell_type": "code",
   "execution_count": 11,
   "metadata": {
    "colab": {
     "base_uri": "https://localhost:8080/"
    },
    "executionInfo": {
     "elapsed": 33,
     "status": "ok",
     "timestamp": 1704121261112,
     "user": {
      "displayName": "TALHA SIDDIQUE",
      "userId": "16213719004269784609"
     },
     "user_tz": -300
    },
    "id": "ewyMuXh1tJzi",
    "outputId": "916b9238-d51e-4194-c313-b71f7f911a2c"
   },
   "outputs": [
    {
     "data": {
      "text/plain": [
       "array([[1., 0., 0.],\n",
       "       [0., 1., 0.],\n",
       "       [0., 0., 1.]])"
      ]
     },
     "execution_count": 11,
     "metadata": {},
     "output_type": "execute_result"
    }
   ],
   "source": [
    "# np.identity\n",
    "np.identity(3)"
   ]
  },
  {
   "cell_type": "markdown",
   "metadata": {
    "id": "LphXpjZJtNyI"
   },
   "source": [
    "### Array Attributes"
   ]
  },
  {
   "cell_type": "code",
   "execution_count": 79,
   "metadata": {
    "colab": {
     "base_uri": "https://localhost:8080/"
    },
    "executionInfo": {
     "elapsed": 30,
     "status": "ok",
     "timestamp": 1704121261112,
     "user": {
      "displayName": "TALHA SIDDIQUE",
      "userId": "16213719004269784609"
     },
     "user_tz": -300
    },
    "id": "UXnB5dIEFOgD",
    "outputId": "73b20df3-d62a-490a-a2b3-21cf2b32e174"
   },
   "outputs": [
    {
     "data": {
      "text/plain": [
       "array([[[0, 1],\n",
       "        [2, 3]],\n",
       "\n",
       "       [[4, 5],\n",
       "        [6, 7]]])"
      ]
     },
     "execution_count": 79,
     "metadata": {},
     "output_type": "execute_result"
    }
   ],
   "source": [
    "a1 = np.arange(10,dtype=np.int32)\n",
    "a2 = np.arange(12,dtype=float).reshape(3,4)\n",
    "a3 = np.arange(8).reshape(2,2,2)\n",
    "\n",
    "a3"
   ]
  },
  {
   "cell_type": "code",
   "execution_count": 80,
   "metadata": {
    "colab": {
     "base_uri": "https://localhost:8080/"
    },
    "executionInfo": {
     "elapsed": 27,
     "status": "ok",
     "timestamp": 1704121261112,
     "user": {
      "displayName": "TALHA SIDDIQUE",
      "userId": "16213719004269784609"
     },
     "user_tz": -300
    },
    "id": "qib4oDFptRKN",
    "outputId": "0318fe7a-c2d1-48cc-f52d-b128f72b8c71"
   },
   "outputs": [
    {
     "data": {
      "text/plain": [
       "3"
      ]
     },
     "execution_count": 80,
     "metadata": {},
     "output_type": "execute_result"
    }
   ],
   "source": [
    "# ndim\n",
    "a3.ndim"
   ]
  },
  {
   "cell_type": "code",
   "execution_count": 81,
   "metadata": {
    "colab": {
     "base_uri": "https://localhost:8080/"
    },
    "executionInfo": {
     "elapsed": 24,
     "status": "ok",
     "timestamp": 1704121261112,
     "user": {
      "displayName": "TALHA SIDDIQUE",
      "userId": "16213719004269784609"
     },
     "user_tz": -300
    },
    "id": "InUvH8KGtSRv",
    "outputId": "6263df66-6971-40d3-947b-09642765a97d"
   },
   "outputs": [
    {
     "name": "stdout",
     "output_type": "stream",
     "text": [
      "(2, 2, 2)\n"
     ]
    },
    {
     "data": {
      "text/plain": [
       "array([[[0, 1],\n",
       "        [2, 3]],\n",
       "\n",
       "       [[4, 5],\n",
       "        [6, 7]]])"
      ]
     },
     "execution_count": 81,
     "metadata": {},
     "output_type": "execute_result"
    }
   ],
   "source": [
    "# shape\n",
    "print(a3.shape)\n",
    "a3"
   ]
  },
  {
   "cell_type": "code",
   "execution_count": 82,
   "metadata": {
    "colab": {
     "base_uri": "https://localhost:8080/"
    },
    "executionInfo": {
     "elapsed": 21,
     "status": "ok",
     "timestamp": 1704121261112,
     "user": {
      "displayName": "TALHA SIDDIQUE",
      "userId": "16213719004269784609"
     },
     "user_tz": -300
    },
    "id": "9Dko5610tT-Z",
    "outputId": "adbb41b0-5ddc-4887-9a9c-80f1c95397c9"
   },
   "outputs": [
    {
     "name": "stdout",
     "output_type": "stream",
     "text": [
      "12\n"
     ]
    },
    {
     "data": {
      "text/plain": [
       "array([[ 0.,  1.,  2.,  3.],\n",
       "       [ 4.,  5.,  6.,  7.],\n",
       "       [ 8.,  9., 10., 11.]])"
      ]
     },
     "execution_count": 82,
     "metadata": {},
     "output_type": "execute_result"
    }
   ],
   "source": [
    "# size\n",
    "print(a2.size)\n",
    "a2"
   ]
  },
  {
   "cell_type": "code",
   "execution_count": 83,
   "metadata": {
    "colab": {
     "base_uri": "https://localhost:8080/"
    },
    "executionInfo": {
     "elapsed": 17,
     "status": "ok",
     "timestamp": 1704121261112,
     "user": {
      "displayName": "TALHA SIDDIQUE",
      "userId": "16213719004269784609"
     },
     "user_tz": -300
    },
    "id": "wDFdHtH3tV1Z",
    "outputId": "fc946967-baaf-4ad2-b838-d28b328aacf1"
   },
   "outputs": [
    {
     "data": {
      "text/plain": [
       "8"
      ]
     },
     "execution_count": 83,
     "metadata": {},
     "output_type": "execute_result"
    }
   ],
   "source": [
    "# itemsize\n",
    "a3.itemsize"
   ]
  },
  {
   "cell_type": "code",
   "execution_count": 84,
   "metadata": {
    "colab": {
     "base_uri": "https://localhost:8080/"
    },
    "executionInfo": {
     "elapsed": 14,
     "status": "ok",
     "timestamp": 1704121261113,
     "user": {
      "displayName": "TALHA SIDDIQUE",
      "userId": "16213719004269784609"
     },
     "user_tz": -300
    },
    "id": "Pik7FgEVtXDj",
    "outputId": "bd517bd3-1386-4d23-a243-bcd08a03c38b"
   },
   "outputs": [
    {
     "name": "stdout",
     "output_type": "stream",
     "text": [
      "int32\n",
      "float64\n",
      "int64\n"
     ]
    }
   ],
   "source": [
    "# dtype\n",
    "print(a1.dtype)\n",
    "print(a2.dtype)\n",
    "print(a3.dtype)\n",
    "\n"
   ]
  },
  {
   "cell_type": "markdown",
   "metadata": {
    "id": "7Ase0eFWtcFl"
   },
   "source": [
    "### Changing Datatype"
   ]
  },
  {
   "cell_type": "code",
   "execution_count": 85,
   "metadata": {
    "colab": {
     "base_uri": "https://localhost:8080/"
    },
    "executionInfo": {
     "elapsed": 12,
     "status": "ok",
     "timestamp": 1704121261113,
     "user": {
      "displayName": "TALHA SIDDIQUE",
      "userId": "16213719004269784609"
     },
     "user_tz": -300
    },
    "id": "DZPEFqhotbFS",
    "outputId": "bb002506-4c7f-49d3-a2c3-54ea7b781cff"
   },
   "outputs": [
    {
     "data": {
      "text/plain": [
       "array([[[0, 1],\n",
       "        [2, 3]],\n",
       "\n",
       "       [[4, 5],\n",
       "        [6, 7]]], dtype=int32)"
      ]
     },
     "execution_count": 85,
     "metadata": {},
     "output_type": "execute_result"
    }
   ],
   "source": [
    "# astype\n",
    "a3.astype(np.int32)"
   ]
  },
  {
   "cell_type": "markdown",
   "metadata": {
    "id": "k-y-aaV9u52l"
   },
   "source": [
    "### Array Operations"
   ]
  },
  {
   "cell_type": "code",
   "execution_count": 86,
   "metadata": {
    "colab": {
     "base_uri": "https://localhost:8080/"
    },
    "executionInfo": {
     "elapsed": 984,
     "status": "ok",
     "timestamp": 1704121262088,
     "user": {
      "displayName": "TALHA SIDDIQUE",
      "userId": "16213719004269784609"
     },
     "user_tz": -300
    },
    "id": "mIk8tk53HnOW",
    "outputId": "4df1815d-e93d-4123-9dfc-ffba44b3e114"
   },
   "outputs": [
    {
     "data": {
      "text/plain": [
       "array([[12, 13, 14, 15],\n",
       "       [16, 17, 18, 19],\n",
       "       [20, 21, 22, 23]])"
      ]
     },
     "execution_count": 86,
     "metadata": {},
     "output_type": "execute_result"
    }
   ],
   "source": [
    "a1 = np.arange(12).reshape(3,4)\n",
    "a2 = np.arange(12,24).reshape(3,4)\n",
    "\n",
    "a2"
   ]
  },
  {
   "cell_type": "code",
   "execution_count": 87,
   "metadata": {
    "colab": {
     "base_uri": "https://localhost:8080/"
    },
    "executionInfo": {
     "elapsed": 174,
     "status": "ok",
     "timestamp": 1704121262088,
     "user": {
      "displayName": "TALHA SIDDIQUE",
      "userId": "16213719004269784609"
     },
     "user_tz": -300
    },
    "id": "vtQrWQKD87Fn",
    "outputId": "48c52980-5cf8-4d3c-fef6-e5c1cd61146e"
   },
   "outputs": [
    {
     "data": {
      "text/plain": [
       "array([[  0,   1,   4,   9],\n",
       "       [ 16,  25,  36,  49],\n",
       "       [ 64,  81, 100, 121]])"
      ]
     },
     "execution_count": 87,
     "metadata": {},
     "output_type": "execute_result"
    }
   ],
   "source": [
    "# scalar operations\n",
    "\n",
    "# arithmetic\n",
    "a1 ** 2"
   ]
  },
  {
   "cell_type": "code",
   "execution_count": 88,
   "metadata": {
    "colab": {
     "base_uri": "https://localhost:8080/"
    },
    "executionInfo": {
     "elapsed": 172,
     "status": "ok",
     "timestamp": 1704121262089,
     "user": {
      "displayName": "TALHA SIDDIQUE",
      "userId": "16213719004269784609"
     },
     "user_tz": -300
    },
    "id": "mCgPxTzQrtte",
    "outputId": "dcccb67e-b7ca-432e-e2e2-7f6298856e18"
   },
   "outputs": [
    {
     "data": {
      "text/plain": [
       "array([[False, False, False,  True],\n",
       "       [False, False, False, False],\n",
       "       [False, False, False, False]])"
      ]
     },
     "execution_count": 88,
     "metadata": {},
     "output_type": "execute_result"
    }
   ],
   "source": [
    "# relational\n",
    "a2 == 15"
   ]
  },
  {
   "cell_type": "code",
   "execution_count": 89,
   "metadata": {
    "colab": {
     "base_uri": "https://localhost:8080/"
    },
    "executionInfo": {
     "elapsed": 168,
     "status": "ok",
     "timestamp": 1704121262089,
     "user": {
      "displayName": "TALHA SIDDIQUE",
      "userId": "16213719004269784609"
     },
     "user_tz": -300
    },
    "id": "E2S3xDRxrt5D",
    "outputId": "6519e95d-ee35-4b57-873b-d1e2f6c24a3c"
   },
   "outputs": [
    {
     "data": {
      "text/plain": [
       "array([[                   0,                    1,                16384,\n",
       "                    14348907],\n",
       "       [          4294967296,         762939453125,      101559956668416,\n",
       "           11398895185373143],\n",
       "       [ 1152921504606846976, -1261475310744950487,  1864712049423024128,\n",
       "         6839173302027254275]])"
      ]
     },
     "execution_count": 89,
     "metadata": {},
     "output_type": "execute_result"
    }
   ],
   "source": [
    "# vector operations\n",
    "# arithmetic\n",
    "a1 ** a2"
   ]
  },
  {
   "cell_type": "markdown",
   "metadata": {
    "id": "AQZgntYTu8ot"
   },
   "source": [
    "### Array Functions"
   ]
  },
  {
   "cell_type": "code",
   "execution_count": 90,
   "metadata": {
    "colab": {
     "base_uri": "https://localhost:8080/"
    },
    "executionInfo": {
     "elapsed": 165,
     "status": "ok",
     "timestamp": 1704121262089,
     "user": {
      "displayName": "TALHA SIDDIQUE",
      "userId": "16213719004269784609"
     },
     "user_tz": -300
    },
    "id": "CHUj0a_dIP4F",
    "outputId": "f3e5e5b5-0154-4e2d-8a6e-3d0ccdceb629"
   },
   "outputs": [
    {
     "name": "stdout",
     "output_type": "stream",
     "text": [
      "[[0.43412996 0.38768479 0.14501004]\n",
      " [0.94364724 0.74043731 0.42088899]\n",
      " [0.6820151  0.37355455 0.55748863]]\n",
      "[[43. 39. 15.]\n",
      " [94. 74. 42.]\n",
      " [68. 37. 56.]]\n"
     ]
    }
   ],
   "source": [
    "a1 = np.random.random((3,3))\n",
    "print(a1)\n",
    "a1 = np.round(a1*100)\n",
    "print(a1)"
   ]
  },
  {
   "cell_type": "code",
   "execution_count": 91,
   "metadata": {
    "colab": {
     "base_uri": "https://localhost:8080/"
    },
    "executionInfo": {
     "elapsed": 132,
     "status": "ok",
     "timestamp": 1704121262089,
     "user": {
      "displayName": "TALHA SIDDIQUE",
      "userId": "16213719004269784609"
     },
     "user_tz": -300
    },
    "id": "J1EWNET29Urx",
    "outputId": "19f74a81-afb6-41f0-9c5d-063cb8bbff2f"
   },
   "outputs": [
    {
     "data": {
      "text/plain": [
       "array([274856., 106782.,  35280.])"
      ]
     },
     "execution_count": 91,
     "metadata": {},
     "output_type": "execute_result"
    }
   ],
   "source": [
    "# max/min/sum/prod\n",
    "# 0 -> col and 1 -> row\n",
    "np.prod(a1,axis=0)"
   ]
  },
  {
   "cell_type": "code",
   "execution_count": 92,
   "metadata": {
    "colab": {
     "base_uri": "https://localhost:8080/"
    },
    "executionInfo": {
     "elapsed": 127,
     "status": "ok",
     "timestamp": 1704121262089,
     "user": {
      "displayName": "TALHA SIDDIQUE",
      "userId": "16213719004269784609"
     },
     "user_tz": -300
    },
    "id": "JAlMLFkds9KC",
    "outputId": "22f13931-126f-42d5-d9ef-272bcfe93444"
   },
   "outputs": [
    {
     "data": {
      "text/plain": [
       "array([152.88888889, 458.66666667, 162.88888889])"
      ]
     },
     "execution_count": 92,
     "metadata": {},
     "output_type": "execute_result"
    }
   ],
   "source": [
    "# mean/median/std/var\n",
    "np.var(a1,axis=1)"
   ]
  },
  {
   "cell_type": "code",
   "execution_count": 93,
   "metadata": {
    "colab": {
     "base_uri": "https://localhost:8080/"
    },
    "executionInfo": {
     "elapsed": 123,
     "status": "ok",
     "timestamp": 1704121262089,
     "user": {
      "displayName": "TALHA SIDDIQUE",
      "userId": "16213719004269784609"
     },
     "user_tz": -300
    },
    "id": "vwLoQQVqs-m-",
    "outputId": "c35b7b04-e80e-4700-f4e8-005f4e2f69e1"
   },
   "outputs": [
    {
     "data": {
      "text/plain": [
       "array([[-0.83177474,  0.96379539,  0.65028784],\n",
       "       [-0.24525199, -0.98514626, -0.91652155],\n",
       "       [-0.89792768, -0.64353813, -0.521551  ]])"
      ]
     },
     "execution_count": 93,
     "metadata": {},
     "output_type": "execute_result"
    }
   ],
   "source": [
    "# trigonomoetric functions\n",
    "np.sin(a1)"
   ]
  },
  {
   "cell_type": "code",
   "execution_count": 94,
   "metadata": {
    "colab": {
     "base_uri": "https://localhost:8080/"
    },
    "executionInfo": {
     "elapsed": 119,
     "status": "ok",
     "timestamp": 1704121262089,
     "user": {
      "displayName": "TALHA SIDDIQUE",
      "userId": "16213719004269784609"
     },
     "user_tz": -300
    },
    "id": "RoEtYuiytFm1",
    "outputId": "ec9ff066-9032-49a8-c5c9-1937ba36bb89"
   },
   "outputs": [
    {
     "name": "stdout",
     "output_type": "stream",
     "text": [
      "[[ 0  1  2  3]\n",
      " [ 4  5  6  7]\n",
      " [ 8  9 10 11]]\n",
      "[[12 13 14]\n",
      " [15 16 17]\n",
      " [18 19 20]\n",
      " [21 22 23]]\n"
     ]
    },
    {
     "data": {
      "text/plain": [
       "array([[114, 120, 126],\n",
       "       [378, 400, 422],\n",
       "       [642, 680, 718]])"
      ]
     },
     "execution_count": 94,
     "metadata": {},
     "output_type": "execute_result"
    }
   ],
   "source": [
    "# dot product\n",
    "a2 = np.arange(12).reshape(3,4)\n",
    "a3 = np.arange(12,24).reshape(4,3)\n",
    "print(a2)\n",
    "print(a3)\n",
    "np.dot(a2,a3)"
   ]
  },
  {
   "cell_type": "code",
   "execution_count": 95,
   "metadata": {
    "colab": {
     "base_uri": "https://localhost:8080/"
    },
    "executionInfo": {
     "elapsed": 115,
     "status": "ok",
     "timestamp": 1704121262090,
     "user": {
      "displayName": "TALHA SIDDIQUE",
      "userId": "16213719004269784609"
     },
     "user_tz": -300
    },
    "id": "qd7GmrgEtH6i",
    "outputId": "8e003d60-c0ae-494b-d59e-028680349a71"
   },
   "outputs": [
    {
     "data": {
      "text/plain": [
       "array([[4.72783947e+18, 8.65934004e+16, 3.26901737e+06],\n",
       "       [6.66317622e+40, 1.37338298e+32, 1.73927494e+18],\n",
       "       [3.40427605e+29, 1.17191424e+16, 2.09165950e+24]])"
      ]
     },
     "execution_count": 95,
     "metadata": {},
     "output_type": "execute_result"
    }
   ],
   "source": [
    "# log and exponents\n",
    "np.exp(a1)"
   ]
  },
  {
   "cell_type": "code",
   "execution_count": 96,
   "metadata": {
    "colab": {
     "base_uri": "https://localhost:8080/"
    },
    "executionInfo": {
     "elapsed": 111,
     "status": "ok",
     "timestamp": 1704121262090,
     "user": {
      "displayName": "TALHA SIDDIQUE",
      "userId": "16213719004269784609"
     },
     "user_tz": -300
    },
    "id": "EOXnVCZhtKk1",
    "outputId": "126c4a4a-3a12-47e5-a689-8b340bdc0e71"
   },
   "outputs": [
    {
     "data": {
      "text/plain": [
       "array([[ 34.,  90.,  94.],\n",
       "       [ 13., 100.,  41.]])"
      ]
     },
     "execution_count": 96,
     "metadata": {},
     "output_type": "execute_result"
    }
   ],
   "source": [
    "# round/floor/ceil\n",
    "\n",
    "np.ceil(np.random.random((2,3))*100)"
   ]
  },
  {
   "cell_type": "markdown",
   "metadata": {
    "id": "2pYZJMrAuvuv"
   },
   "source": [
    "### Indexing and Slicing"
   ]
  },
  {
   "cell_type": "code",
   "execution_count": 97,
   "metadata": {
    "colab": {
     "base_uri": "https://localhost:8080/"
    },
    "executionInfo": {
     "elapsed": 107,
     "status": "ok",
     "timestamp": 1704121262091,
     "user": {
      "displayName": "TALHA SIDDIQUE",
      "userId": "16213719004269784609"
     },
     "user_tz": -300
    },
    "id": "v1LynzX9u2R-",
    "outputId": "a16194aa-99cf-4d36-c1e8-dc1a9c74b254"
   },
   "outputs": [
    {
     "data": {
      "text/plain": [
       "array([[[0, 1],\n",
       "        [2, 3]],\n",
       "\n",
       "       [[4, 5],\n",
       "        [6, 7]]])"
      ]
     },
     "execution_count": 97,
     "metadata": {},
     "output_type": "execute_result"
    }
   ],
   "source": [
    "a1 = np.arange(10)\n",
    "a2 = np.arange(12).reshape(3,4)\n",
    "a3 = np.arange(8).reshape(2,2,2)\n",
    "\n",
    "a3"
   ]
  },
  {
   "cell_type": "code",
   "execution_count": 98,
   "metadata": {
    "colab": {
     "base_uri": "https://localhost:8080/"
    },
    "executionInfo": {
     "elapsed": 103,
     "status": "ok",
     "timestamp": 1704121262091,
     "user": {
      "displayName": "TALHA SIDDIQUE",
      "userId": "16213719004269784609"
     },
     "user_tz": -300
    },
    "id": "qyFbwR9Ku2YE",
    "outputId": "5cb14c1e-abbb-4a82-a551-7fff63d28b93"
   },
   "outputs": [
    {
     "data": {
      "text/plain": [
       "array([0, 1, 2, 3, 4, 5, 6, 7, 8, 9])"
      ]
     },
     "execution_count": 98,
     "metadata": {},
     "output_type": "execute_result"
    }
   ],
   "source": [
    "a1"
   ]
  },
  {
   "cell_type": "code",
   "execution_count": 99,
   "metadata": {
    "colab": {
     "base_uri": "https://localhost:8080/"
    },
    "executionInfo": {
     "elapsed": 99,
     "status": "ok",
     "timestamp": 1704121262091,
     "user": {
      "displayName": "TALHA SIDDIQUE",
      "userId": "16213719004269784609"
     },
     "user_tz": -300
    },
    "id": "Q2IbBdEXu2a5",
    "outputId": "618dccd8-7cb3-4d73-c6fa-5baedd334883"
   },
   "outputs": [
    {
     "data": {
      "text/plain": [
       "array([[ 0,  1,  2,  3],\n",
       "       [ 4,  5,  6,  7],\n",
       "       [ 8,  9, 10, 11]])"
      ]
     },
     "execution_count": 99,
     "metadata": {},
     "output_type": "execute_result"
    }
   ],
   "source": [
    "a2"
   ]
  },
  {
   "cell_type": "code",
   "execution_count": 100,
   "metadata": {
    "colab": {
     "base_uri": "https://localhost:8080/"
    },
    "executionInfo": {
     "elapsed": 95,
     "status": "ok",
     "timestamp": 1704121262091,
     "user": {
      "displayName": "TALHA SIDDIQUE",
      "userId": "16213719004269784609"
     },
     "user_tz": -300
    },
    "id": "GIR5YhVzu2dc",
    "outputId": "0c9a2dea-5614-41e3-b5bb-755c93d475b5"
   },
   "outputs": [
    {
     "data": {
      "text/plain": [
       "4"
      ]
     },
     "execution_count": 100,
     "metadata": {},
     "output_type": "execute_result"
    }
   ],
   "source": [
    "a2[1,0]"
   ]
  },
  {
   "cell_type": "code",
   "execution_count": 101,
   "metadata": {
    "colab": {
     "base_uri": "https://localhost:8080/"
    },
    "executionInfo": {
     "elapsed": 91,
     "status": "ok",
     "timestamp": 1704121262092,
     "user": {
      "displayName": "TALHA SIDDIQUE",
      "userId": "16213719004269784609"
     },
     "user_tz": -300
    },
    "id": "IbM-KNY3HP9-",
    "outputId": "0fd244ae-7256-4b31-ace1-1788dc24229b"
   },
   "outputs": [
    {
     "data": {
      "text/plain": [
       "array([[[0, 1],\n",
       "        [2, 3]],\n",
       "\n",
       "       [[4, 5],\n",
       "        [6, 7]]])"
      ]
     },
     "execution_count": 101,
     "metadata": {},
     "output_type": "execute_result"
    }
   ],
   "source": [
    "a3"
   ]
  },
  {
   "cell_type": "code",
   "execution_count": 102,
   "metadata": {
    "colab": {
     "base_uri": "https://localhost:8080/"
    },
    "executionInfo": {
     "elapsed": 87,
     "status": "ok",
     "timestamp": 1704121262092,
     "user": {
      "displayName": "TALHA SIDDIQUE",
      "userId": "16213719004269784609"
     },
     "user_tz": -300
    },
    "id": "xG7HU0RgHQD-",
    "outputId": "fdf94a28-a81d-4437-89d7-10d552529edb"
   },
   "outputs": [
    {
     "data": {
      "text/plain": [
       "5"
      ]
     },
     "execution_count": 102,
     "metadata": {},
     "output_type": "execute_result"
    }
   ],
   "source": [
    "a3[1,0,1]"
   ]
  },
  {
   "cell_type": "code",
   "execution_count": 103,
   "metadata": {
    "colab": {
     "base_uri": "https://localhost:8080/"
    },
    "executionInfo": {
     "elapsed": 83,
     "status": "ok",
     "timestamp": 1704121262092,
     "user": {
      "displayName": "TALHA SIDDIQUE",
      "userId": "16213719004269784609"
     },
     "user_tz": -300
    },
    "id": "3EhcikSWHQKO",
    "outputId": "d2c22ee0-a9be-43ff-b8da-2b66965dd391"
   },
   "outputs": [
    {
     "data": {
      "text/plain": [
       "6"
      ]
     },
     "execution_count": 103,
     "metadata": {},
     "output_type": "execute_result"
    }
   ],
   "source": [
    "a3[1,1,0]"
   ]
  },
  {
   "cell_type": "code",
   "execution_count": 104,
   "metadata": {
    "colab": {
     "base_uri": "https://localhost:8080/"
    },
    "executionInfo": {
     "elapsed": 81,
     "status": "ok",
     "timestamp": 1704121262093,
     "user": {
      "displayName": "TALHA SIDDIQUE",
      "userId": "16213719004269784609"
     },
     "user_tz": -300
    },
    "id": "_cgU2A52HQO0",
    "outputId": "a915dd54-6524-45f8-f1f4-af132da2f235"
   },
   "outputs": [
    {
     "data": {
      "text/plain": [
       "array([0, 1, 2, 3, 4, 5, 6, 7, 8, 9])"
      ]
     },
     "execution_count": 104,
     "metadata": {},
     "output_type": "execute_result"
    }
   ],
   "source": [
    "a1"
   ]
  },
  {
   "cell_type": "code",
   "execution_count": 105,
   "metadata": {
    "colab": {
     "base_uri": "https://localhost:8080/"
    },
    "executionInfo": {
     "elapsed": 78,
     "status": "ok",
     "timestamp": 1704121262093,
     "user": {
      "displayName": "TALHA SIDDIQUE",
      "userId": "16213719004269784609"
     },
     "user_tz": -300
    },
    "id": "HnFM0Wa5IMw2",
    "outputId": "dee87b3c-3b6e-4615-d5ab-ab40b79220b0"
   },
   "outputs": [
    {
     "data": {
      "text/plain": [
       "array([2, 4])"
      ]
     },
     "execution_count": 105,
     "metadata": {},
     "output_type": "execute_result"
    }
   ],
   "source": [
    "a1[2:5:2]"
   ]
  },
  {
   "cell_type": "code",
   "execution_count": 106,
   "metadata": {
    "colab": {
     "base_uri": "https://localhost:8080/"
    },
    "executionInfo": {
     "elapsed": 75,
     "status": "ok",
     "timestamp": 1704121262093,
     "user": {
      "displayName": "TALHA SIDDIQUE",
      "userId": "16213719004269784609"
     },
     "user_tz": -300
    },
    "id": "SDWOK56EIM3n",
    "outputId": "21a6aa3c-ae99-4d28-cc05-8a980bc2e9e9"
   },
   "outputs": [
    {
     "data": {
      "text/plain": [
       "array([[ 0,  1,  2,  3],\n",
       "       [ 4,  5,  6,  7],\n",
       "       [ 8,  9, 10, 11]])"
      ]
     },
     "execution_count": 106,
     "metadata": {},
     "output_type": "execute_result"
    }
   ],
   "source": [
    "a2"
   ]
  },
  {
   "cell_type": "code",
   "execution_count": 107,
   "metadata": {
    "colab": {
     "base_uri": "https://localhost:8080/"
    },
    "executionInfo": {
     "elapsed": 73,
     "status": "ok",
     "timestamp": 1704121262094,
     "user": {
      "displayName": "TALHA SIDDIQUE",
      "userId": "16213719004269784609"
     },
     "user_tz": -300
    },
    "id": "q55x6VoiKmpX",
    "outputId": "4d3a66a1-df69-4662-818a-b00be938f304"
   },
   "outputs": [
    {
     "data": {
      "text/plain": [
       "array([[1, 3],\n",
       "       [5, 7]])"
      ]
     },
     "execution_count": 107,
     "metadata": {},
     "output_type": "execute_result"
    }
   ],
   "source": [
    "a2[0:2,1::2]"
   ]
  },
  {
   "cell_type": "code",
   "execution_count": 108,
   "metadata": {
    "colab": {
     "base_uri": "https://localhost:8080/"
    },
    "executionInfo": {
     "elapsed": 70,
     "status": "ok",
     "timestamp": 1704121262094,
     "user": {
      "displayName": "TALHA SIDDIQUE",
      "userId": "16213719004269784609"
     },
     "user_tz": -300
    },
    "id": "t2hA9ZJNJOBW",
    "outputId": "39c019a8-c754-4766-dfe1-3027f374b7bf"
   },
   "outputs": [
    {
     "data": {
      "text/plain": [
       "array([[ 1,  3],\n",
       "       [ 9, 11]])"
      ]
     },
     "execution_count": 108,
     "metadata": {},
     "output_type": "execute_result"
    }
   ],
   "source": [
    "a2[::2,1::2]"
   ]
  },
  {
   "cell_type": "code",
   "execution_count": 109,
   "metadata": {
    "colab": {
     "base_uri": "https://localhost:8080/"
    },
    "executionInfo": {
     "elapsed": 67,
     "status": "ok",
     "timestamp": 1704121262094,
     "user": {
      "displayName": "TALHA SIDDIQUE",
      "userId": "16213719004269784609"
     },
     "user_tz": -300
    },
    "id": "hubSAa0eKSCt",
    "outputId": "c09f1b43-cffc-4f2e-f45f-d3c2f8905999"
   },
   "outputs": [
    {
     "data": {
      "text/plain": [
       "array([4, 7])"
      ]
     },
     "execution_count": 109,
     "metadata": {},
     "output_type": "execute_result"
    }
   ],
   "source": [
    "a2[1,::3]"
   ]
  },
  {
   "cell_type": "code",
   "execution_count": 110,
   "metadata": {
    "colab": {
     "base_uri": "https://localhost:8080/"
    },
    "executionInfo": {
     "elapsed": 66,
     "status": "ok",
     "timestamp": 1704121262095,
     "user": {
      "displayName": "TALHA SIDDIQUE",
      "userId": "16213719004269784609"
     },
     "user_tz": -300
    },
    "id": "mi2B5NN9IM-B",
    "outputId": "93a422a4-5139-475b-ca6c-68fbfbace9f2"
   },
   "outputs": [
    {
     "data": {
      "text/plain": [
       "array([0, 1, 2, 3])"
      ]
     },
     "execution_count": 110,
     "metadata": {},
     "output_type": "execute_result"
    }
   ],
   "source": [
    "a2[0,:]"
   ]
  },
  {
   "cell_type": "code",
   "execution_count": 111,
   "metadata": {
    "colab": {
     "base_uri": "https://localhost:8080/"
    },
    "executionInfo": {
     "elapsed": 63,
     "status": "ok",
     "timestamp": 1704121262095,
     "user": {
      "displayName": "TALHA SIDDIQUE",
      "userId": "16213719004269784609"
     },
     "user_tz": -300
    },
    "id": "u7dQcPKpINDS",
    "outputId": "4ea9c562-a157-4cdf-a544-8a5ab92b7b83"
   },
   "outputs": [
    {
     "data": {
      "text/plain": [
       "array([ 2,  6, 10])"
      ]
     },
     "execution_count": 111,
     "metadata": {},
     "output_type": "execute_result"
    }
   ],
   "source": [
    "a2[:,2]"
   ]
  },
  {
   "cell_type": "code",
   "execution_count": 112,
   "metadata": {
    "colab": {
     "base_uri": "https://localhost:8080/"
    },
    "executionInfo": {
     "elapsed": 60,
     "status": "ok",
     "timestamp": 1704121262095,
     "user": {
      "displayName": "TALHA SIDDIQUE",
      "userId": "16213719004269784609"
     },
     "user_tz": -300
    },
    "id": "GYjyXNKnINTA",
    "outputId": "4c38bebc-6f1a-46d3-bf96-b32e225cbbb9"
   },
   "outputs": [
    {
     "data": {
      "text/plain": [
       "array([[ 5,  6],\n",
       "       [ 9, 10]])"
      ]
     },
     "execution_count": 112,
     "metadata": {},
     "output_type": "execute_result"
    }
   ],
   "source": [
    "a2[1:,1:3]"
   ]
  },
  {
   "cell_type": "code",
   "execution_count": 113,
   "metadata": {
    "colab": {
     "base_uri": "https://localhost:8080/"
    },
    "executionInfo": {
     "elapsed": 58,
     "status": "ok",
     "timestamp": 1704121262095,
     "user": {
      "displayName": "TALHA SIDDIQUE",
      "userId": "16213719004269784609"
     },
     "user_tz": -300
    },
    "id": "Z-24y62tK7KO",
    "outputId": "78527ae2-c4cd-440b-cf26-3b690d6bbc26"
   },
   "outputs": [
    {
     "data": {
      "text/plain": [
       "array([[[ 0,  1,  2],\n",
       "        [ 3,  4,  5],\n",
       "        [ 6,  7,  8]],\n",
       "\n",
       "       [[ 9, 10, 11],\n",
       "        [12, 13, 14],\n",
       "        [15, 16, 17]],\n",
       "\n",
       "       [[18, 19, 20],\n",
       "        [21, 22, 23],\n",
       "        [24, 25, 26]]])"
      ]
     },
     "execution_count": 113,
     "metadata": {},
     "output_type": "execute_result"
    }
   ],
   "source": [
    "a3 = np.arange(27).reshape(3,3,3)\n",
    "a3"
   ]
  },
  {
   "cell_type": "code",
   "execution_count": 114,
   "metadata": {
    "colab": {
     "base_uri": "https://localhost:8080/"
    },
    "executionInfo": {
     "elapsed": 56,
     "status": "ok",
     "timestamp": 1704121262096,
     "user": {
      "displayName": "TALHA SIDDIQUE",
      "userId": "16213719004269784609"
     },
     "user_tz": -300
    },
    "id": "DB1bM8NCMTub",
    "outputId": "a8c7c56b-11f8-4680-ff16-1ee0695bdc68"
   },
   "outputs": [
    {
     "data": {
      "text/plain": [
       "array([[ 0,  2],\n",
       "       [18, 20]])"
      ]
     },
     "execution_count": 114,
     "metadata": {},
     "output_type": "execute_result"
    }
   ],
   "source": [
    "a3[::2,0,::2]"
   ]
  },
  {
   "cell_type": "code",
   "execution_count": 115,
   "metadata": {
    "colab": {
     "base_uri": "https://localhost:8080/"
    },
    "executionInfo": {
     "elapsed": 53,
     "status": "ok",
     "timestamp": 1704121262096,
     "user": {
      "displayName": "TALHA SIDDIQUE",
      "userId": "16213719004269784609"
     },
     "user_tz": -300
    },
    "id": "gPOgRWfNLxPF",
    "outputId": "6d70a798-1a23-4c67-899e-3c6dc1c8a89e"
   },
   "outputs": [
    {
     "data": {
      "text/plain": [
       "array([[22, 23],\n",
       "       [25, 26]])"
      ]
     },
     "execution_count": 115,
     "metadata": {},
     "output_type": "execute_result"
    }
   ],
   "source": [
    "a3[2,1:,1:]"
   ]
  },
  {
   "cell_type": "code",
   "execution_count": 116,
   "metadata": {
    "colab": {
     "base_uri": "https://localhost:8080/"
    },
    "executionInfo": {
     "elapsed": 50,
     "status": "ok",
     "timestamp": 1704121262096,
     "user": {
      "displayName": "TALHA SIDDIQUE",
      "userId": "16213719004269784609"
     },
     "user_tz": -300
    },
    "id": "S3OJJAMXK7RV",
    "outputId": "5faab034-e423-46aa-ab7f-edd9e3dbc5e8"
   },
   "outputs": [
    {
     "data": {
      "text/plain": [
       "array([3, 4, 5])"
      ]
     },
     "execution_count": 116,
     "metadata": {},
     "output_type": "execute_result"
    }
   ],
   "source": [
    "a3[0,1,:]"
   ]
  },
  {
   "cell_type": "code",
   "execution_count": 116,
   "metadata": {
    "executionInfo": {
     "elapsed": 48,
     "status": "ok",
     "timestamp": 1704121262096,
     "user": {
      "displayName": "TALHA SIDDIQUE",
      "userId": "16213719004269784609"
     },
     "user_tz": -300
    },
    "id": "av7DbeP5K7Xf"
   },
   "outputs": [],
   "source": []
  },
  {
   "cell_type": "code",
   "execution_count": 116,
   "metadata": {
    "executionInfo": {
     "elapsed": 47,
     "status": "ok",
     "timestamp": 1704121262096,
     "user": {
      "displayName": "TALHA SIDDIQUE",
      "userId": "16213719004269784609"
     },
     "user_tz": -300
    },
    "id": "MTLPaOobK7dc"
   },
   "outputs": [],
   "source": []
  },
  {
   "cell_type": "code",
   "execution_count": 116,
   "metadata": {
    "executionInfo": {
     "elapsed": 48,
     "status": "ok",
     "timestamp": 1704121262097,
     "user": {
      "displayName": "TALHA SIDDIQUE",
      "userId": "16213719004269784609"
     },
     "user_tz": -300
    },
    "id": "0StTG7ycK7kQ"
   },
   "outputs": [],
   "source": []
  },
  {
   "cell_type": "code",
   "execution_count": 116,
   "metadata": {
    "executionInfo": {
     "elapsed": 48,
     "status": "ok",
     "timestamp": 1704121262097,
     "user": {
      "displayName": "TALHA SIDDIQUE",
      "userId": "16213719004269784609"
     },
     "user_tz": -300
    },
    "id": "mkUuhK9UK7pA"
   },
   "outputs": [],
   "source": []
  },
  {
   "cell_type": "code",
   "execution_count": 116,
   "metadata": {
    "executionInfo": {
     "elapsed": 47,
     "status": "ok",
     "timestamp": 1704121262097,
     "user": {
      "displayName": "TALHA SIDDIQUE",
      "userId": "16213719004269784609"
     },
     "user_tz": -300
    },
    "id": "JyonJsQVK7tm"
   },
   "outputs": [],
   "source": []
  },
  {
   "cell_type": "markdown",
   "metadata": {
    "id": "dUv9qM1yuIKJ"
   },
   "source": [
    "### Iterating"
   ]
  },
  {
   "cell_type": "code",
   "execution_count": 117,
   "metadata": {
    "colab": {
     "base_uri": "https://localhost:8080/"
    },
    "executionInfo": {
     "elapsed": 47,
     "status": "ok",
     "timestamp": 1704121262097,
     "user": {
      "displayName": "TALHA SIDDIQUE",
      "userId": "16213719004269784609"
     },
     "user_tz": -300
    },
    "id": "lNgaCad6uKhm",
    "outputId": "d3690d0c-c346-4607-f936-9759562432d2"
   },
   "outputs": [
    {
     "name": "stdout",
     "output_type": "stream",
     "text": [
      "0\n",
      "1\n",
      "2\n",
      "3\n",
      "4\n",
      "5\n",
      "6\n",
      "7\n",
      "8\n",
      "9\n"
     ]
    }
   ],
   "source": [
    "a1\n",
    "\n",
    "for i in a1:\n",
    "  print(i)"
   ]
  },
  {
   "cell_type": "code",
   "execution_count": 118,
   "metadata": {
    "colab": {
     "base_uri": "https://localhost:8080/"
    },
    "executionInfo": {
     "elapsed": 44,
     "status": "ok",
     "timestamp": 1704121262097,
     "user": {
      "displayName": "TALHA SIDDIQUE",
      "userId": "16213719004269784609"
     },
     "user_tz": -300
    },
    "id": "jNIsE0YFM6ZN",
    "outputId": "01f46625-1160-42cc-afbe-b6b514d75e5e"
   },
   "outputs": [
    {
     "data": {
      "text/plain": [
       "array([[ 0,  1,  2,  3],\n",
       "       [ 4,  5,  6,  7],\n",
       "       [ 8,  9, 10, 11]])"
      ]
     },
     "execution_count": 118,
     "metadata": {},
     "output_type": "execute_result"
    }
   ],
   "source": [
    "a2"
   ]
  },
  {
   "cell_type": "code",
   "execution_count": 119,
   "metadata": {
    "colab": {
     "base_uri": "https://localhost:8080/"
    },
    "executionInfo": {
     "elapsed": 42,
     "status": "ok",
     "timestamp": 1704121262098,
     "user": {
      "displayName": "TALHA SIDDIQUE",
      "userId": "16213719004269784609"
     },
     "user_tz": -300
    },
    "id": "B2Hk-zAONHTY",
    "outputId": "08d3035a-d52f-462f-c9a0-cbe4de949f9f"
   },
   "outputs": [
    {
     "name": "stdout",
     "output_type": "stream",
     "text": [
      "[0 1 2 3]\n",
      "[4 5 6 7]\n",
      "[ 8  9 10 11]\n"
     ]
    }
   ],
   "source": [
    "for i in a2:\n",
    "  print(i)"
   ]
  },
  {
   "cell_type": "code",
   "execution_count": 120,
   "metadata": {
    "colab": {
     "base_uri": "https://localhost:8080/"
    },
    "executionInfo": {
     "elapsed": 40,
     "status": "ok",
     "timestamp": 1704121262098,
     "user": {
      "displayName": "TALHA SIDDIQUE",
      "userId": "16213719004269784609"
     },
     "user_tz": -300
    },
    "id": "8hfuC98qM-hC",
    "outputId": "59c994d6-6ce1-45ab-e156-d3aefa330308"
   },
   "outputs": [
    {
     "data": {
      "text/plain": [
       "array([[[ 0,  1,  2],\n",
       "        [ 3,  4,  5],\n",
       "        [ 6,  7,  8]],\n",
       "\n",
       "       [[ 9, 10, 11],\n",
       "        [12, 13, 14],\n",
       "        [15, 16, 17]],\n",
       "\n",
       "       [[18, 19, 20],\n",
       "        [21, 22, 23],\n",
       "        [24, 25, 26]]])"
      ]
     },
     "execution_count": 120,
     "metadata": {},
     "output_type": "execute_result"
    }
   ],
   "source": [
    "a3"
   ]
  },
  {
   "cell_type": "code",
   "execution_count": 121,
   "metadata": {
    "colab": {
     "base_uri": "https://localhost:8080/"
    },
    "executionInfo": {
     "elapsed": 37,
     "status": "ok",
     "timestamp": 1704121262098,
     "user": {
      "displayName": "TALHA SIDDIQUE",
      "userId": "16213719004269784609"
     },
     "user_tz": -300
    },
    "id": "DsYEnw2ONOIy",
    "outputId": "b76f7b31-aaf8-4737-850b-ac88f7c1f348"
   },
   "outputs": [
    {
     "name": "stdout",
     "output_type": "stream",
     "text": [
      "[[0 1 2]\n",
      " [3 4 5]\n",
      " [6 7 8]]\n",
      "[[ 9 10 11]\n",
      " [12 13 14]\n",
      " [15 16 17]]\n",
      "[[18 19 20]\n",
      " [21 22 23]\n",
      " [24 25 26]]\n"
     ]
    }
   ],
   "source": [
    "for i in a3:\n",
    "  print(i)"
   ]
  },
  {
   "cell_type": "code",
   "execution_count": 122,
   "metadata": {
    "colab": {
     "base_uri": "https://localhost:8080/"
    },
    "executionInfo": {
     "elapsed": 34,
     "status": "ok",
     "timestamp": 1704121262098,
     "user": {
      "displayName": "TALHA SIDDIQUE",
      "userId": "16213719004269784609"
     },
     "user_tz": -300
    },
    "id": "IuRJ1QiRNZRM",
    "outputId": "34db6035-34e0-400c-935b-440fe40c7d0d"
   },
   "outputs": [
    {
     "name": "stdout",
     "output_type": "stream",
     "text": [
      "0\n",
      "1\n",
      "2\n",
      "3\n",
      "4\n",
      "5\n",
      "6\n",
      "7\n",
      "8\n",
      "9\n",
      "10\n",
      "11\n",
      "12\n",
      "13\n",
      "14\n",
      "15\n",
      "16\n",
      "17\n",
      "18\n",
      "19\n",
      "20\n",
      "21\n",
      "22\n",
      "23\n",
      "24\n",
      "25\n",
      "26\n"
     ]
    }
   ],
   "source": [
    "for i in np.nditer(a3):\n",
    "  print(i)"
   ]
  },
  {
   "cell_type": "markdown",
   "metadata": {
    "id": "ZSS6AF_luNc-"
   },
   "source": [
    "### Reshaping"
   ]
  },
  {
   "cell_type": "code",
   "execution_count": 123,
   "metadata": {
    "executionInfo": {
     "elapsed": 33,
     "status": "ok",
     "timestamp": 1704121262099,
     "user": {
      "displayName": "TALHA SIDDIQUE",
      "userId": "16213719004269784609"
     },
     "user_tz": -300
    },
    "id": "NeXLsnBb9ko7"
   },
   "outputs": [],
   "source": [
    "# reshape"
   ]
  },
  {
   "cell_type": "code",
   "execution_count": 124,
   "metadata": {
    "colab": {
     "base_uri": "https://localhost:8080/"
    },
    "executionInfo": {
     "elapsed": 32,
     "status": "ok",
     "timestamp": 1704121262099,
     "user": {
      "displayName": "TALHA SIDDIQUE",
      "userId": "16213719004269784609"
     },
     "user_tz": -300
    },
    "id": "6r86fJd9iYjR",
    "outputId": "e0fffbfe-1ed8-4f0b-c191-37f9cb0f1dfc"
   },
   "outputs": [
    {
     "data": {
      "text/plain": [
       "array([[ 0,  1,  2,  3],\n",
       "       [ 4,  5,  6,  7],\n",
       "       [ 8,  9, 10, 11]])"
      ]
     },
     "execution_count": 124,
     "metadata": {},
     "output_type": "execute_result"
    }
   ],
   "source": [
    "a2"
   ]
  },
  {
   "cell_type": "code",
   "execution_count": 125,
   "metadata": {
    "colab": {
     "base_uri": "https://localhost:8080/"
    },
    "executionInfo": {
     "elapsed": 29,
     "status": "ok",
     "timestamp": 1704121262099,
     "user": {
      "displayName": "TALHA SIDDIQUE",
      "userId": "16213719004269784609"
     },
     "user_tz": -300
    },
    "id": "DBIaUE8duQDz",
    "outputId": "1ae60c75-9466-426c-d7fb-9b4f47bf1909"
   },
   "outputs": [
    {
     "data": {
      "text/plain": [
       "array([[ 0,  4,  8],\n",
       "       [ 1,  5,  9],\n",
       "       [ 2,  6, 10],\n",
       "       [ 3,  7, 11]])"
      ]
     },
     "execution_count": 125,
     "metadata": {},
     "output_type": "execute_result"
    }
   ],
   "source": [
    "# Transpose\n",
    "np.transpose(a2)\n",
    "a2.T"
   ]
  },
  {
   "cell_type": "code",
   "execution_count": 126,
   "metadata": {
    "colab": {
     "base_uri": "https://localhost:8080/"
    },
    "executionInfo": {
     "elapsed": 26,
     "status": "ok",
     "timestamp": 1704121262099,
     "user": {
      "displayName": "TALHA SIDDIQUE",
      "userId": "16213719004269784609"
     },
     "user_tz": -300
    },
    "id": "ZT-6xI6HidKL",
    "outputId": "c4a8a584-8362-4af0-dc43-a14f0ec17345"
   },
   "outputs": [
    {
     "data": {
      "text/plain": [
       "array([[[ 0,  1,  2],\n",
       "        [ 3,  4,  5],\n",
       "        [ 6,  7,  8]],\n",
       "\n",
       "       [[ 9, 10, 11],\n",
       "        [12, 13, 14],\n",
       "        [15, 16, 17]],\n",
       "\n",
       "       [[18, 19, 20],\n",
       "        [21, 22, 23],\n",
       "        [24, 25, 26]]])"
      ]
     },
     "execution_count": 126,
     "metadata": {},
     "output_type": "execute_result"
    }
   ],
   "source": [
    "a3"
   ]
  },
  {
   "cell_type": "code",
   "execution_count": 127,
   "metadata": {
    "colab": {
     "base_uri": "https://localhost:8080/"
    },
    "executionInfo": {
     "elapsed": 698,
     "status": "ok",
     "timestamp": 1704121262774,
     "user": {
      "displayName": "TALHA SIDDIQUE",
      "userId": "16213719004269784609"
     },
     "user_tz": -300
    },
    "id": "IULUNn5OuQMT",
    "outputId": "a18c9372-73da-4ac2-9c28-342b84dd1a61"
   },
   "outputs": [
    {
     "data": {
      "text/plain": [
       "array([ 0,  1,  2,  3,  4,  5,  6,  7,  8,  9, 10, 11, 12, 13, 14, 15, 16,\n",
       "       17, 18, 19, 20, 21, 22, 23, 24, 25, 26])"
      ]
     },
     "execution_count": 127,
     "metadata": {},
     "output_type": "execute_result"
    }
   ],
   "source": [
    "# ravel\n",
    "a3.ravel()"
   ]
  },
  {
   "cell_type": "markdown",
   "metadata": {
    "id": "ouKcJQ5EuUQC"
   },
   "source": [
    "### Stacking"
   ]
  },
  {
   "cell_type": "code",
   "execution_count": 128,
   "metadata": {
    "colab": {
     "base_uri": "https://localhost:8080/"
    },
    "executionInfo": {
     "elapsed": 22,
     "status": "ok",
     "timestamp": 1704121262775,
     "user": {
      "displayName": "TALHA SIDDIQUE",
      "userId": "16213719004269784609"
     },
     "user_tz": -300
    },
    "id": "HHSY1njTuXLi",
    "outputId": "d0b6fc55-481a-40c1-cf30-6223c2829e70"
   },
   "outputs": [
    {
     "data": {
      "text/plain": [
       "array([[12, 13, 14, 15],\n",
       "       [16, 17, 18, 19],\n",
       "       [20, 21, 22, 23]])"
      ]
     },
     "execution_count": 128,
     "metadata": {},
     "output_type": "execute_result"
    }
   ],
   "source": [
    "# horizontal stacking\n",
    "a4 = np.arange(12).reshape(3,4)\n",
    "a5 = np.arange(12,24).reshape(3,4)\n",
    "a5"
   ]
  },
  {
   "cell_type": "code",
   "execution_count": 129,
   "metadata": {
    "colab": {
     "base_uri": "https://localhost:8080/"
    },
    "executionInfo": {
     "elapsed": 19,
     "status": "ok",
     "timestamp": 1704121262775,
     "user": {
      "displayName": "TALHA SIDDIQUE",
      "userId": "16213719004269784609"
     },
     "user_tz": -300
    },
    "id": "ne9uXt3yPKez",
    "outputId": "9218368a-cd8d-4631-d441-db92d8cf0863"
   },
   "outputs": [
    {
     "data": {
      "text/plain": [
       "array([[ 0,  1,  2,  3, 12, 13, 14, 15],\n",
       "       [ 4,  5,  6,  7, 16, 17, 18, 19],\n",
       "       [ 8,  9, 10, 11, 20, 21, 22, 23]])"
      ]
     },
     "execution_count": 129,
     "metadata": {},
     "output_type": "execute_result"
    }
   ],
   "source": [
    "np.hstack((a4,a5))"
   ]
  },
  {
   "cell_type": "code",
   "execution_count": 130,
   "metadata": {
    "colab": {
     "base_uri": "https://localhost:8080/"
    },
    "executionInfo": {
     "elapsed": 15,
     "status": "ok",
     "timestamp": 1704121262775,
     "user": {
      "displayName": "TALHA SIDDIQUE",
      "userId": "16213719004269784609"
     },
     "user_tz": -300
    },
    "id": "F6bFFNKuuZW5",
    "outputId": "8c1629ba-3fe0-4a58-8896-427d69ebf92d"
   },
   "outputs": [
    {
     "data": {
      "text/plain": [
       "array([[ 0,  1,  2,  3],\n",
       "       [ 4,  5,  6,  7],\n",
       "       [ 8,  9, 10, 11],\n",
       "       [12, 13, 14, 15],\n",
       "       [16, 17, 18, 19],\n",
       "       [20, 21, 22, 23]])"
      ]
     },
     "execution_count": 130,
     "metadata": {},
     "output_type": "execute_result"
    }
   ],
   "source": [
    "# Vertical stacking\n",
    "np.vstack((a4,a5))"
   ]
  },
  {
   "cell_type": "markdown",
   "metadata": {
    "id": "kaY006uXucF5"
   },
   "source": [
    "### Splitting"
   ]
  },
  {
   "cell_type": "code",
   "execution_count": 131,
   "metadata": {
    "colab": {
     "base_uri": "https://localhost:8080/"
    },
    "executionInfo": {
     "elapsed": 11,
     "status": "ok",
     "timestamp": 1704121262775,
     "user": {
      "displayName": "TALHA SIDDIQUE",
      "userId": "16213719004269784609"
     },
     "user_tz": -300
    },
    "id": "kgbl6wkD9ll6",
    "outputId": "2915af23-677f-4a07-955d-0b182d626741"
   },
   "outputs": [
    {
     "data": {
      "text/plain": [
       "array([[ 0,  1,  2,  3],\n",
       "       [ 4,  5,  6,  7],\n",
       "       [ 8,  9, 10, 11]])"
      ]
     },
     "execution_count": 131,
     "metadata": {},
     "output_type": "execute_result"
    }
   ],
   "source": [
    "# horizontal splitting\n",
    "a4"
   ]
  }
 ],
 "metadata": {
  "colab": {
   "provenance": []
  },
  "kernelspec": {
   "display_name": "Python 3 (ipykernel)",
   "language": "python",
   "name": "python3"
  },
  "language_info": {
   "codemirror_mode": {
    "name": "ipython",
    "version": 3
   },
   "file_extension": ".py",
   "mimetype": "text/x-python",
   "name": "python",
   "nbconvert_exporter": "python",
   "pygments_lexer": "ipython3",
   "version": "3.11.5"
  }
 },
 "nbformat": 4,
 "nbformat_minor": 1
}
