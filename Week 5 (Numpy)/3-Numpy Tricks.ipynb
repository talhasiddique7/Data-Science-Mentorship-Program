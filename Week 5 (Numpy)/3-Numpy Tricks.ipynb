{
  "cells": [
    {
      "cell_type": "markdown",
      "metadata": {
        "id": "39-UcmoPggtI"
      },
      "source": [
        "### np.sort\n",
        "\n",
        "Return a sorted copy of an array.\n",
        "\n",
        "https://numpy.org/doc/stable/reference/generated/numpy.sort.html"
      ]
    },
    {
      "cell_type": "code",
      "execution_count": 1,
      "metadata": {
        "colab": {
          "base_uri": "https://localhost:8080/"
        },
        "id": "vJUzuaz7gqTr",
        "outputId": "d1039d20-cd2b-41be-ce98-ff9cbc111e50"
      },
      "outputs": [
        {
          "data": {
            "text/plain": [
              "array([87, 69, 60, 67, 20, 83, 79, 69, 48, 21, 24, 47, 96, 70, 71])"
            ]
          },
          "execution_count": 1,
          "metadata": {},
          "output_type": "execute_result"
        }
      ],
      "source": [
        "# code\n",
        "import numpy as np\n",
        "a = np.random.randint(1,100,15)\n",
        "a"
      ]
    },
    {
      "cell_type": "code",
      "execution_count": 2,
      "metadata": {},
      "outputs": [
        {
          "data": {
            "text/plain": [
              "array([20, 21, 24, 47, 48, 60, 67, 69, 69, 70, 71, 79, 83, 87, 96])"
            ]
          },
          "execution_count": 2,
          "metadata": {},
          "output_type": "execute_result"
        }
      ],
      "source": [
        "np.sort(a)"
      ]
    },
    {
      "cell_type": "code",
      "execution_count": null,
      "metadata": {
        "colab": {
          "base_uri": "https://localhost:8080/"
        },
        "id": "Dfer5zY9-HaK",
        "outputId": "1f5c0130-f8de-4b33-e5a8-63631b23fd7b"
      },
      "outputs": [
        {
          "data": {
            "text/plain": [
              "array([[12, 52, 42,  6],\n",
              "       [29, 18, 47, 55],\n",
              "       [61, 93, 83,  9],\n",
              "       [38, 63, 44, 85],\n",
              "       [ 8, 87, 31, 72],\n",
              "       [40, 71,  2,  7]])"
            ]
          },
          "execution_count": 115,
          "metadata": {},
          "output_type": "execute_result"
        }
      ],
      "source": [
        "b = np.random.randint(1,100,24).reshape(6,4)\n",
        "b"
      ]
    },
    {
      "cell_type": "code",
      "execution_count": null,
      "metadata": {
        "colab": {
          "base_uri": "https://localhost:8080/"
        },
        "id": "dyjeU-C6KznM",
        "outputId": "da3b404c-b198-4e62-b744-69f63cdea54a"
      },
      "outputs": [
        {
          "data": {
            "text/plain": [
              "array([94, 92, 78, 68, 53, 50, 38, 37, 30, 28, 21, 11,  9,  5,  2])"
            ]
          },
          "execution_count": 120,
          "metadata": {},
          "output_type": "execute_result"
        }
      ],
      "source": [
        "np.sort(a)[::-1]"
      ]
    },
    {
      "cell_type": "code",
      "execution_count": null,
      "metadata": {
        "colab": {
          "base_uri": "https://localhost:8080/"
        },
        "id": "9fAdd5BWLHsq",
        "outputId": "a37305ea-18d5-4659-9a7a-a252ccc825c3"
      },
      "outputs": [
        {
          "data": {
            "text/plain": [
              "array([[ 8, 18,  2,  6],\n",
              "       [12, 52, 31,  7],\n",
              "       [29, 63, 42,  9],\n",
              "       [38, 71, 44, 55],\n",
              "       [40, 87, 47, 72],\n",
              "       [61, 93, 83, 85]])"
            ]
          },
          "execution_count": 119,
          "metadata": {},
          "output_type": "execute_result"
        }
      ],
      "source": [
        "np.sort(b,axis=0)"
      ]
    },
    {
      "cell_type": "markdown",
      "metadata": {
        "id": "W8tttorjgrVf"
      },
      "source": [
        "### np.append\n",
        "\n",
        "The numpy.append() appends values along the mentioned axis at the end of the array\n",
        "\n",
        "https://numpy.org/doc/stable/reference/generated/numpy.append.html"
      ]
    },
    {
      "cell_type": "code",
      "execution_count": null,
      "metadata": {
        "colab": {
          "base_uri": "https://localhost:8080/"
        },
        "id": "Y3fHkR1gfd1X",
        "outputId": "621892ba-8b7e-4150-b56d-623aac9574cd"
      },
      "outputs": [
        {
          "data": {
            "text/plain": [
              "array([ 11,  53,  28,  50,  38,  37,  94,  92,   5,  30,  68,   9,  78,\n",
              "         2,  21, 200])"
            ]
          },
          "execution_count": 122,
          "metadata": {},
          "output_type": "execute_result"
        }
      ],
      "source": [
        "# code\n",
        "np.append(a,200)"
      ]
    },
    {
      "cell_type": "code",
      "execution_count": null,
      "metadata": {
        "colab": {
          "base_uri": "https://localhost:8080/"
        },
        "id": "vmPc3zS3L2LL",
        "outputId": "7e90ac52-ae30-4325-b3b7-d526a9cdb4d3"
      },
      "outputs": [
        {
          "data": {
            "text/plain": [
              "array([[12, 52, 42,  6],\n",
              "       [29, 18, 47, 55],\n",
              "       [61, 93, 83,  9],\n",
              "       [38, 63, 44, 85],\n",
              "       [ 8, 87, 31, 72],\n",
              "       [40, 71,  2,  7]])"
            ]
          },
          "execution_count": 123,
          "metadata": {},
          "output_type": "execute_result"
        }
      ],
      "source": [
        "b"
      ]
    },
    {
      "cell_type": "code",
      "execution_count": null,
      "metadata": {
        "colab": {
          "base_uri": "https://localhost:8080/"
        },
        "id": "LsIvCKQ5L-DB",
        "outputId": "79a6a4f6-b7e1-44ae-8add-d94305396e0f"
      },
      "outputs": [
        {
          "data": {
            "text/plain": [
              "array([[12.        , 52.        , 42.        ,  6.        ,  0.22006275],\n",
              "       [29.        , 18.        , 47.        , 55.        ,  0.81740634],\n",
              "       [61.        , 93.        , 83.        ,  9.        ,  0.89146072],\n",
              "       [38.        , 63.        , 44.        , 85.        ,  0.84519124],\n",
              "       [ 8.        , 87.        , 31.        , 72.        ,  0.24007274],\n",
              "       [40.        , 71.        ,  2.        ,  7.        ,  0.48056374]])"
            ]
          },
          "execution_count": 126,
          "metadata": {},
          "output_type": "execute_result"
        }
      ],
      "source": [
        "np.append(b,np.random.random((b.shape[0],1)),axis=1)"
      ]
    },
    {
      "cell_type": "markdown",
      "metadata": {
        "id": "meIMn8T9g5-m"
      },
      "source": [
        "### np.concatenate\n",
        "\n",
        "numpy.concatenate() function concatenate a sequence of arrays along an existing axis.\n",
        "\n",
        "https://numpy.org/doc/stable/reference/generated/numpy.concatenate.html"
      ]
    },
    {
      "cell_type": "code",
      "execution_count": null,
      "metadata": {
        "colab": {
          "base_uri": "https://localhost:8080/"
        },
        "id": "Nrj1_QXfWZlV",
        "outputId": "5c60e20d-f4a2-40b8-e7ce-f0a5019225c8"
      },
      "outputs": [
        {
          "name": "stdout",
          "output_type": "stream",
          "text": [
            "[[0 1 2]\n",
            " [3 4 5]]\n",
            "[[ 6  7  8]\n",
            " [ 9 10 11]]\n"
          ]
        }
      ],
      "source": [
        "# code\n",
        "c = np.arange(6).reshape(2,3)\n",
        "d = np.arange(6,12).reshape(2,3)\n",
        "\n",
        "print(c)\n",
        "print(d)"
      ]
    },
    {
      "cell_type": "code",
      "execution_count": null,
      "metadata": {
        "colab": {
          "base_uri": "https://localhost:8080/"
        },
        "id": "fDHBrV7VA4yz",
        "outputId": "832c4406-2b60-4e17-faa0-5008e109eb95"
      },
      "outputs": [
        {
          "data": {
            "text/plain": [
              "array([[ 0,  1,  2],\n",
              "       [ 3,  4,  5],\n",
              "       [ 6,  7,  8],\n",
              "       [ 9, 10, 11]])"
            ]
          },
          "execution_count": 128,
          "metadata": {},
          "output_type": "execute_result"
        }
      ],
      "source": [
        "np.concatenate((c,d),axis=0)"
      ]
    },
    {
      "cell_type": "code",
      "execution_count": null,
      "metadata": {
        "colab": {
          "base_uri": "https://localhost:8080/"
        },
        "id": "GN9DnJ65Mr_b",
        "outputId": "6710e353-cd19-4376-8bd8-a38b7dbadc5a"
      },
      "outputs": [
        {
          "data": {
            "text/plain": [
              "array([[ 0,  1,  2,  6,  7,  8],\n",
              "       [ 3,  4,  5,  9, 10, 11]])"
            ]
          },
          "execution_count": 129,
          "metadata": {},
          "output_type": "execute_result"
        }
      ],
      "source": [
        "np.concatenate((c,d),axis=1)"
      ]
    },
    {
      "cell_type": "markdown",
      "metadata": {
        "id": "oHGFqHcohFtB"
      },
      "source": [
        "### np.unique\n",
        "\n",
        "With the help of np.unique() method, we can get the unique values from an array given as parameter in np.unique() method.\n",
        "\n",
        "https://numpy.org/doc/stable/reference/generated/numpy.unique.html/"
      ]
    },
    {
      "cell_type": "code",
      "execution_count": null,
      "metadata": {
        "id": "NvG0KHpNWdN_"
      },
      "outputs": [],
      "source": [
        "# code\n",
        "e = np.array([1,1,2,2,3,3,4,4,5,5,6,6])"
      ]
    },
    {
      "cell_type": "code",
      "execution_count": null,
      "metadata": {
        "colab": {
          "base_uri": "https://localhost:8080/"
        },
        "id": "XWr932XeCFz1",
        "outputId": "022a4f28-38ae-4041-caea-d1f8f394b58c"
      },
      "outputs": [
        {
          "data": {
            "text/plain": [
              "array([1, 2, 3, 4, 5, 6])"
            ]
          },
          "execution_count": 131,
          "metadata": {},
          "output_type": "execute_result"
        }
      ],
      "source": [
        "np.unique(e)"
      ]
    },
    {
      "cell_type": "markdown",
      "metadata": {
        "id": "Wki2yOXaEZV3"
      },
      "source": [
        "### np.expand_dims\n",
        "\n",
        "With the help of Numpy.expand_dims() method, we can get the expanded dimensions of an array\n",
        "\n",
        "https://numpy.org/doc/stable/reference/generated/numpy.expand_dims.html"
      ]
    },
    {
      "cell_type": "code",
      "execution_count": null,
      "metadata": {
        "colab": {
          "base_uri": "https://localhost:8080/"
        },
        "id": "Pyvf-oZ0XTvr",
        "outputId": "3d75c6c4-8019-4d36-d29a-ebf0a213f3ef"
      },
      "outputs": [
        {
          "data": {
            "text/plain": [
              "(15,)"
            ]
          },
          "execution_count": 134,
          "metadata": {},
          "output_type": "execute_result"
        }
      ],
      "source": [
        "# code\n",
        "a.shape"
      ]
    },
    {
      "cell_type": "code",
      "execution_count": null,
      "metadata": {
        "colab": {
          "base_uri": "https://localhost:8080/"
        },
        "id": "B-Pk9HNzNdrb",
        "outputId": "b7cd6597-410a-4016-ba3b-f5103d608db8"
      },
      "outputs": [
        {
          "data": {
            "text/plain": [
              "(1, 15)"
            ]
          },
          "execution_count": 135,
          "metadata": {},
          "output_type": "execute_result"
        }
      ],
      "source": [
        "np.expand_dims(a,axis=0).shape"
      ]
    },
    {
      "cell_type": "code",
      "execution_count": null,
      "metadata": {
        "colab": {
          "base_uri": "https://localhost:8080/"
        },
        "id": "5d0Ahp8QNsKO",
        "outputId": "14587e87-7f0f-4b9c-8df8-dd5500f21878"
      },
      "outputs": [
        {
          "data": {
            "text/plain": [
              "array([[11],\n",
              "       [53],\n",
              "       [28],\n",
              "       [50],\n",
              "       [38],\n",
              "       [37],\n",
              "       [94],\n",
              "       [92],\n",
              "       [ 5],\n",
              "       [30],\n",
              "       [68],\n",
              "       [ 9],\n",
              "       [78],\n",
              "       [ 2],\n",
              "       [21]])"
            ]
          },
          "execution_count": 137,
          "metadata": {},
          "output_type": "execute_result"
        }
      ],
      "source": [
        "np.expand_dims(a,axis=1)"
      ]
    },
    {
      "cell_type": "markdown",
      "metadata": {
        "id": "_HmpYNTFERjS"
      },
      "source": [
        "### np.where\n",
        "\n",
        "The numpy.where() function returns the indices of elements in an input array where the given condition is satisfied.\n",
        "\n",
        "https://numpy.org/doc/stable/reference/generated/numpy.where.html"
      ]
    },
    {
      "cell_type": "code",
      "execution_count": null,
      "metadata": {
        "colab": {
          "base_uri": "https://localhost:8080/"
        },
        "id": "H8k_ZDXjEo5W",
        "outputId": "688a96ee-b66c-48b7-8778-b502d489c82b"
      },
      "outputs": [
        {
          "data": {
            "text/plain": [
              "array([11, 53, 28, 50, 38, 37, 94, 92,  5, 30, 68,  9, 78,  2, 21])"
            ]
          },
          "execution_count": 138,
          "metadata": {},
          "output_type": "execute_result"
        }
      ],
      "source": [
        "a"
      ]
    },
    {
      "cell_type": "code",
      "execution_count": null,
      "metadata": {
        "colab": {
          "base_uri": "https://localhost:8080/"
        },
        "id": "n9mkvdFdHGLY",
        "outputId": "f39b8dd3-bbe4-4dc6-941d-03add9d30b08"
      },
      "outputs": [
        {
          "data": {
            "text/plain": [
              "(array([ 1,  6,  7, 10, 12]),)"
            ]
          },
          "execution_count": 139,
          "metadata": {},
          "output_type": "execute_result"
        }
      ],
      "source": [
        "# find all indices with value greater than 50\n",
        "np.where(a>50)"
      ]
    },
    {
      "cell_type": "code",
      "execution_count": null,
      "metadata": {
        "colab": {
          "base_uri": "https://localhost:8080/"
        },
        "id": "zJAUufBOHcu1",
        "outputId": "dcd75885-d287-41f3-f5cd-5025518d0024"
      },
      "outputs": [
        {
          "data": {
            "text/plain": [
              "array([11,  0, 28, 50, 38, 37,  0,  0,  5, 30,  0,  9,  0,  2, 21])"
            ]
          },
          "execution_count": 140,
          "metadata": {},
          "output_type": "execute_result"
        }
      ],
      "source": [
        "# replace all values > 50 with 0\n",
        "np.where(a>50,0,a)"
      ]
    },
    {
      "cell_type": "code",
      "execution_count": null,
      "metadata": {
        "colab": {
          "base_uri": "https://localhost:8080/"
        },
        "id": "Ygx7fC0BPP9e",
        "outputId": "45b4df8d-de53-4f5d-8917-969ba8895b88"
      },
      "outputs": [
        {
          "data": {
            "text/plain": [
              "array([11, 53,  0,  0,  0, 37,  0,  0,  5,  0,  0,  9,  0,  0, 21])"
            ]
          },
          "execution_count": 141,
          "metadata": {},
          "output_type": "execute_result"
        }
      ],
      "source": [
        "np.where(a%2 == 0,0,a)"
      ]
    },
    {
      "cell_type": "markdown",
      "metadata": {
        "id": "jsGIGNtCIS5-"
      },
      "source": [
        "### np.argmax\n",
        "\n",
        "The numpy.argmax() function returns indices of the max element of the array in a particular axis.\n",
        "\n",
        "https://numpy.org/doc/stable/reference/generated/numpy.argmax.html"
      ]
    },
    {
      "cell_type": "code",
      "execution_count": null,
      "metadata": {
        "colab": {
          "base_uri": "https://localhost:8080/"
        },
        "id": "8YlXmMuaIRpj",
        "outputId": "448f7ecd-0282-41c4-d319-690f6219562b"
      },
      "outputs": [
        {
          "data": {
            "text/plain": [
              "array([11, 53, 28, 50, 38, 37, 94, 92,  5, 30, 68,  9, 78,  2, 21])"
            ]
          },
          "execution_count": 142,
          "metadata": {},
          "output_type": "execute_result"
        }
      ],
      "source": [
        "# code\n",
        "a"
      ]
    },
    {
      "cell_type": "code",
      "execution_count": null,
      "metadata": {
        "colab": {
          "base_uri": "https://localhost:8080/"
        },
        "id": "gdrU6cQ9Pn_A",
        "outputId": "f1f091e9-aabb-4ce5-e0e7-3b2fe3062426"
      },
      "outputs": [
        {
          "data": {
            "text/plain": [
              "6"
            ]
          },
          "execution_count": 143,
          "metadata": {},
          "output_type": "execute_result"
        }
      ],
      "source": [
        "np.argmax(a)"
      ]
    },
    {
      "cell_type": "code",
      "execution_count": null,
      "metadata": {
        "colab": {
          "base_uri": "https://localhost:8080/"
        },
        "id": "CohggNGrP5am",
        "outputId": "596701c9-6de8-4c0c-c749-b43b4f34babe"
      },
      "outputs": [
        {
          "data": {
            "text/plain": [
              "array([[12, 52, 42,  6],\n",
              "       [29, 18, 47, 55],\n",
              "       [61, 93, 83,  9],\n",
              "       [38, 63, 44, 85],\n",
              "       [ 8, 87, 31, 72],\n",
              "       [40, 71,  2,  7]])"
            ]
          },
          "execution_count": 145,
          "metadata": {},
          "output_type": "execute_result"
        }
      ],
      "source": [
        "b"
      ]
    },
    {
      "cell_type": "code",
      "execution_count": null,
      "metadata": {
        "colab": {
          "base_uri": "https://localhost:8080/"
        },
        "id": "435CD24aIpNA",
        "outputId": "d084240d-6966-4a42-9d98-2d285e69dc3a"
      },
      "outputs": [
        {
          "data": {
            "text/plain": [
              "array([2, 2, 2, 3])"
            ]
          },
          "execution_count": 144,
          "metadata": {},
          "output_type": "execute_result"
        }
      ],
      "source": [
        "np.argmax(b,axis=0)"
      ]
    },
    {
      "cell_type": "code",
      "execution_count": null,
      "metadata": {
        "colab": {
          "base_uri": "https://localhost:8080/"
        },
        "id": "PBuZH3mbQE1U",
        "outputId": "1f76fb63-e7d8-4593-de4c-1282c2ca8c9c"
      },
      "outputs": [
        {
          "data": {
            "text/plain": [
              "array([1, 3, 1, 3, 1, 1])"
            ]
          },
          "execution_count": 146,
          "metadata": {},
          "output_type": "execute_result"
        }
      ],
      "source": [
        "np.argmax(b,axis=1)"
      ]
    },
    {
      "cell_type": "code",
      "execution_count": null,
      "metadata": {
        "colab": {
          "base_uri": "https://localhost:8080/"
        },
        "id": "T9TrLGNBWjV1",
        "outputId": "fa3cbdae-82e3-4c10-fa10-4dfb654b3263"
      },
      "outputs": [
        {
          "data": {
            "text/plain": [
              "13"
            ]
          },
          "execution_count": 148,
          "metadata": {},
          "output_type": "execute_result"
        }
      ],
      "source": [
        "# np.argmin\n",
        "np.argmin(a)"
      ]
    },
    {
      "cell_type": "markdown",
      "metadata": {
        "id": "1OdKi27pa091"
      },
      "source": [
        "### np.cumsum\n",
        "\n",
        "numpy.cumsum() function is used when we want to compute the cumulative sum of array elements over a given axis.\n",
        "\n",
        "https://numpy.org/doc/stable/reference/generated/numpy.cumsum.html"
      ]
    },
    {
      "cell_type": "code",
      "execution_count": null,
      "metadata": {
        "colab": {
          "base_uri": "https://localhost:8080/"
        },
        "id": "VZmQUWH9bDk_",
        "outputId": "5555c8b5-2b7a-494b-c118-ad97bc253e3c"
      },
      "outputs": [
        {
          "data": {
            "text/plain": [
              "array([11, 53, 28, 50, 38, 37, 94, 92,  5, 30, 68,  9, 78,  2, 21])"
            ]
          },
          "execution_count": 149,
          "metadata": {},
          "output_type": "execute_result"
        }
      ],
      "source": [
        "a"
      ]
    },
    {
      "cell_type": "code",
      "execution_count": null,
      "metadata": {
        "colab": {
          "base_uri": "https://localhost:8080/"
        },
        "id": "O0npD0R_RF-A",
        "outputId": "6bdbba06-e6f5-4ff0-8a7c-12c6ccd82f8b"
      },
      "outputs": [
        {
          "data": {
            "text/plain": [
              "array([ 11,  64,  92, 142, 180, 217, 311, 403, 408, 438, 506, 515, 593,\n",
              "       595, 616])"
            ]
          },
          "execution_count": 150,
          "metadata": {},
          "output_type": "execute_result"
        }
      ],
      "source": [
        "np.cumsum(a)"
      ]
    },
    {
      "cell_type": "code",
      "execution_count": null,
      "metadata": {
        "colab": {
          "base_uri": "https://localhost:8080/"
        },
        "id": "Ypr5nUGxRJuO",
        "outputId": "c5daf9f8-4115-442b-d7e5-3c2c7fbe6ff9"
      },
      "outputs": [
        {
          "data": {
            "text/plain": [
              "array([[12, 52, 42,  6],\n",
              "       [29, 18, 47, 55],\n",
              "       [61, 93, 83,  9],\n",
              "       [38, 63, 44, 85],\n",
              "       [ 8, 87, 31, 72],\n",
              "       [40, 71,  2,  7]])"
            ]
          },
          "execution_count": 151,
          "metadata": {},
          "output_type": "execute_result"
        }
      ],
      "source": [
        "b"
      ]
    },
    {
      "cell_type": "code",
      "execution_count": null,
      "metadata": {
        "colab": {
          "base_uri": "https://localhost:8080/"
        },
        "id": "WXRZyWT9RTMw",
        "outputId": "325ecfe7-d7e7-4c0c-8f12-1f4fb464ccaa"
      },
      "outputs": [
        {
          "data": {
            "text/plain": [
              "array([[ 12,  64, 106, 112],\n",
              "       [ 29,  47,  94, 149],\n",
              "       [ 61, 154, 237, 246],\n",
              "       [ 38, 101, 145, 230],\n",
              "       [  8,  95, 126, 198],\n",
              "       [ 40, 111, 113, 120]])"
            ]
          },
          "execution_count": 154,
          "metadata": {},
          "output_type": "execute_result"
        }
      ],
      "source": [
        "np.cumsum(b,axis=1)"
      ]
    },
    {
      "cell_type": "code",
      "execution_count": null,
      "metadata": {
        "colab": {
          "base_uri": "https://localhost:8080/"
        },
        "id": "5WGkAjfjRNOe",
        "outputId": "9fe4827c-86b1-4c15-d26f-8a2232e6cffd"
      },
      "outputs": [
        {
          "data": {
            "text/plain": [
              "array([  12,   64,  106,  112,  141,  159,  206,  261,  322,  415,  498,\n",
              "        507,  545,  608,  652,  737,  745,  832,  863,  935,  975, 1046,\n",
              "       1048, 1055])"
            ]
          },
          "execution_count": 152,
          "metadata": {},
          "output_type": "execute_result"
        }
      ],
      "source": [
        "np.cumsum(b)"
      ]
    },
    {
      "cell_type": "code",
      "execution_count": null,
      "metadata": {
        "colab": {
          "base_uri": "https://localhost:8080/"
        },
        "id": "RtGuPGr9WlVV",
        "outputId": "6adf6a7d-815f-4b94-d5fc-f85366c5d227"
      },
      "outputs": [
        {
          "data": {
            "text/plain": [
              "array([                  11,                  583,                16324,\n",
              "                     816200,             31015600,           1147577200,\n",
              "               107872256800,        9924247625600,       49621238128000,\n",
              "           1488637143840000,   101227325781120000,   911045932030080000,\n",
              "       -2725393596491966464, -5450787192983932928, -3786066610405281792])"
            ]
          },
          "execution_count": 156,
          "metadata": {},
          "output_type": "execute_result"
        }
      ],
      "source": [
        "# np.cumprod\n",
        "np.cumprod(a)"
      ]
    },
    {
      "cell_type": "code",
      "execution_count": null,
      "metadata": {
        "colab": {
          "base_uri": "https://localhost:8080/"
        },
        "id": "8kdxzQXiRMOS",
        "outputId": "c052981c-77a4-48f2-f3a3-fdf8a2c214a2"
      },
      "outputs": [
        {
          "data": {
            "text/plain": [
              "array([11, 53, 28, 50, 38, 37, 94, 92,  5, 30, 68,  9, 78,  2, 21])"
            ]
          },
          "execution_count": 155,
          "metadata": {},
          "output_type": "execute_result"
        }
      ],
      "source": [
        "a"
      ]
    },
    {
      "cell_type": "markdown",
      "metadata": {
        "id": "SIuRwLMjcnOl"
      },
      "source": [
        "### np.percentile\n",
        "\n",
        "numpy.percentile()function used to compute the nth percentile of the given data (array elements) along the specified axis.\n",
        "\n",
        "https://numpy.org/doc/stable/reference/generated/numpy.percentile.html"
      ]
    },
    {
      "cell_type": "code",
      "execution_count": null,
      "metadata": {
        "colab": {
          "base_uri": "https://localhost:8080/"
        },
        "id": "_o8iH4Evcl8C",
        "outputId": "cefa31c8-c4b3-4fb0-aa47-c786c65fcd8a"
      },
      "outputs": [
        {
          "data": {
            "text/plain": [
              "array([11, 53, 28, 50, 38, 37, 94, 92,  5, 30, 68,  9, 78,  2, 21])"
            ]
          },
          "execution_count": 157,
          "metadata": {},
          "output_type": "execute_result"
        }
      ],
      "source": [
        "a"
      ]
    },
    {
      "cell_type": "code",
      "execution_count": null,
      "metadata": {
        "colab": {
          "base_uri": "https://localhost:8080/"
        },
        "id": "gBH8ZvtrSND9",
        "outputId": "baee8f9f-e1bd-40dd-ffd6-c50b5660c975"
      },
      "outputs": [
        {
          "data": {
            "text/plain": [
              "37.0"
            ]
          },
          "execution_count": 160,
          "metadata": {},
          "output_type": "execute_result"
        }
      ],
      "source": [
        "np.percentile(a,50)"
      ]
    },
    {
      "cell_type": "code",
      "execution_count": null,
      "metadata": {
        "colab": {
          "base_uri": "https://localhost:8080/"
        },
        "id": "KLIhMJSTScTy",
        "outputId": "62d539c9-0d48-4791-d269-752469424313"
      },
      "outputs": [
        {
          "data": {
            "text/plain": [
              "37.0"
            ]
          },
          "execution_count": 161,
          "metadata": {},
          "output_type": "execute_result"
        }
      ],
      "source": [
        "np.median(a)"
      ]
    },
    {
      "cell_type": "markdown",
      "metadata": {
        "id": "2C6nGaJHev5N"
      },
      "source": [
        "### np.histogram\n",
        "\n",
        "Numpy has a built-in numpy.histogram() function which represents the frequency of data distribution in the graphical form.\n",
        "\n",
        "https://numpy.org/doc/stable/reference/generated/numpy.histogram.html"
      ]
    },
    {
      "cell_type": "code",
      "execution_count": null,
      "metadata": {
        "colab": {
          "base_uri": "https://localhost:8080/"
        },
        "id": "S2pFLU5ZWuTx",
        "outputId": "f461cfbe-2556-49c4-a2f2-d9cc8dcccd29"
      },
      "outputs": [
        {
          "data": {
            "text/plain": [
              "array([11, 53, 28, 50, 38, 37, 94, 92,  5, 30, 68,  9, 78,  2, 21])"
            ]
          },
          "execution_count": 162,
          "metadata": {},
          "output_type": "execute_result"
        }
      ],
      "source": [
        "# code\n",
        "a"
      ]
    },
    {
      "cell_type": "code",
      "execution_count": null,
      "metadata": {
        "colab": {
          "base_uri": "https://localhost:8080/"
        },
        "id": "wZlQuOFpSbE3",
        "outputId": "03276c6f-0c91-4872-c74c-902092e7925d"
      },
      "outputs": [
        {
          "data": {
            "text/plain": [
              "(array([9, 6]), array([  0,  50, 100]))"
            ]
          },
          "execution_count": 164,
          "metadata": {},
          "output_type": "execute_result"
        }
      ],
      "source": [
        "np.histogram(a,bins=[0,50,100])"
      ]
    },
    {
      "cell_type": "markdown",
      "metadata": {
        "id": "JxgMS0Zef8oQ"
      },
      "source": [
        "### np.corrcoef\n",
        "\n",
        "Return Pearson product-moment correlation coefficients.\n",
        "\n",
        "https://numpy.org/doc/stable/reference/generated/numpy.corrcoef.html"
      ]
    },
    {
      "cell_type": "code",
      "execution_count": null,
      "metadata": {
        "colab": {
          "base_uri": "https://localhost:8080/"
        },
        "id": "ZAMnvEm5WyUp",
        "outputId": "0445bb77-29e1-49e2-f07e-656e33f9b70d"
      },
      "outputs": [
        {
          "data": {
            "text/plain": [
              "array([[1.        , 0.25344572],\n",
              "       [0.25344572, 1.        ]])"
            ]
          },
          "execution_count": 165,
          "metadata": {},
          "output_type": "execute_result"
        }
      ],
      "source": [
        "salary = np.array([20000,40000,25000,35000,60000])\n",
        "experience = np.array([1,3,2,4,2])\n",
        "\n",
        "np.corrcoef(salary,experience)"
      ]
    },
    {
      "cell_type": "markdown",
      "metadata": {
        "id": "Ot4h1PdGh-vI"
      },
      "source": [
        "### np.isin\n",
        "\n",
        "With the help of numpy.isin() method, we can see that one array having values are checked in a different numpy array having different elements with different sizes.\n",
        "\n",
        "https://numpy.org/doc/stable/reference/generated/numpy.isin.html"
      ]
    },
    {
      "cell_type": "code",
      "execution_count": null,
      "metadata": {
        "colab": {
          "base_uri": "https://localhost:8080/"
        },
        "id": "oyyVo0qnW2Cz",
        "outputId": "37417575-e23f-425e-d617-76cfb848da40"
      },
      "outputs": [
        {
          "data": {
            "text/plain": [
              "array([11, 53, 28, 50, 38, 37, 94, 92,  5, 30, 68,  9, 78,  2, 21])"
            ]
          },
          "execution_count": 166,
          "metadata": {},
          "output_type": "execute_result"
        }
      ],
      "source": [
        "# code\n",
        "a\n"
      ]
    },
    {
      "cell_type": "code",
      "execution_count": null,
      "metadata": {
        "colab": {
          "base_uri": "https://localhost:8080/"
        },
        "id": "lLA0c9z2VE3O",
        "outputId": "9e53c0d3-a425-4197-dbbd-53831e391a12"
      },
      "outputs": [
        {
          "data": {
            "text/plain": [
              "array([50, 30])"
            ]
          },
          "execution_count": 168,
          "metadata": {},
          "output_type": "execute_result"
        }
      ],
      "source": [
        "items = [10,20,30,40,50,60,70,80,90,100]\n",
        "\n",
        "a[np.isin(a,items)]"
      ]
    },
    {
      "cell_type": "markdown",
      "metadata": {
        "id": "8VKXXRjmicT-"
      },
      "source": [
        "### np.flip\n",
        "\n",
        "The numpy.flip() function reverses the order of array elements along the specified axis, preserving the shape of the array.\n",
        "\n",
        "https://numpy.org/doc/stable/reference/generated/numpy.flip.html"
      ]
    },
    {
      "cell_type": "code",
      "execution_count": null,
      "metadata": {
        "colab": {
          "base_uri": "https://localhost:8080/"
        },
        "id": "lMreAl7yEvBa",
        "outputId": "64044da1-ce34-403c-f97d-7b77a7e9ecea"
      },
      "outputs": [
        {
          "data": {
            "text/plain": [
              "array([11, 53, 28, 50, 38, 37, 94, 92,  5, 30, 68,  9, 78,  2, 21])"
            ]
          },
          "execution_count": 169,
          "metadata": {},
          "output_type": "execute_result"
        }
      ],
      "source": [
        "# code\n",
        "a"
      ]
    },
    {
      "cell_type": "code",
      "execution_count": null,
      "metadata": {
        "colab": {
          "base_uri": "https://localhost:8080/"
        },
        "id": "82l_pzDbVfNp",
        "outputId": "ab7282bc-5857-4c51-9f78-feda9252233e"
      },
      "outputs": [
        {
          "data": {
            "text/plain": [
              "array([21,  2, 78,  9, 68, 30,  5, 92, 94, 37, 38, 50, 28, 53, 11])"
            ]
          },
          "execution_count": 170,
          "metadata": {},
          "output_type": "execute_result"
        }
      ],
      "source": [
        "np.flip(a)"
      ]
    },
    {
      "cell_type": "code",
      "execution_count": null,
      "metadata": {
        "colab": {
          "base_uri": "https://localhost:8080/"
        },
        "id": "nWp3PQ87Vkin",
        "outputId": "1f8ef30d-846d-47f2-bdd8-0dcefc7312e2"
      },
      "outputs": [
        {
          "data": {
            "text/plain": [
              "array([[12, 52, 42,  6],\n",
              "       [29, 18, 47, 55],\n",
              "       [61, 93, 83,  9],\n",
              "       [38, 63, 44, 85],\n",
              "       [ 8, 87, 31, 72],\n",
              "       [40, 71,  2,  7]])"
            ]
          },
          "execution_count": 171,
          "metadata": {},
          "output_type": "execute_result"
        }
      ],
      "source": [
        "b"
      ]
    },
    {
      "cell_type": "code",
      "execution_count": null,
      "metadata": {
        "colab": {
          "base_uri": "https://localhost:8080/"
        },
        "id": "UOU3WOBwVm59",
        "outputId": "a67d4005-b585-4977-9916-3b3a177a5410"
      },
      "outputs": [
        {
          "data": {
            "text/plain": [
              "array([[ 6, 42, 52, 12],\n",
              "       [55, 47, 18, 29],\n",
              "       [ 9, 83, 93, 61],\n",
              "       [85, 44, 63, 38],\n",
              "       [72, 31, 87,  8],\n",
              "       [ 7,  2, 71, 40]])"
            ]
          },
          "execution_count": 174,
          "metadata": {},
          "output_type": "execute_result"
        }
      ],
      "source": [
        "np.flip(b,axis=1)"
      ]
    },
    {
      "cell_type": "markdown",
      "metadata": {
        "id": "n7jTKF2QjIz4"
      },
      "source": [
        "### np.put\n",
        "\n",
        "The numpy.put() function replaces specific elements of an array with given values of p_array. Array indexed works on flattened array.\n",
        "\n",
        "https://numpy.org/doc/stable/reference/generated/numpy.put.html"
      ]
    },
    {
      "cell_type": "code",
      "execution_count": null,
      "metadata": {
        "colab": {
          "base_uri": "https://localhost:8080/"
        },
        "id": "xZrJHzr0E0zN",
        "outputId": "d9ed43a6-623f-4b5b-cfcd-03dc841375b2"
      },
      "outputs": [
        {
          "data": {
            "text/plain": [
              "array([110, 530,  28,  50,  38,  37,  94,  92,   5,  30,  68,   9,  78,\n",
              "         2,  21])"
            ]
          },
          "execution_count": 192,
          "metadata": {},
          "output_type": "execute_result"
        }
      ],
      "source": [
        "# code\n",
        "a"
      ]
    },
    {
      "cell_type": "code",
      "execution_count": null,
      "metadata": {
        "id": "dtl97d4SWHUG"
      },
      "outputs": [],
      "source": [
        "np.put(a,[0,1],[110,530])"
      ]
    },
    {
      "cell_type": "markdown",
      "metadata": {
        "id": "lYkpJg3kpSWB"
      },
      "source": [
        "### np.delete\n",
        "\n",
        "The numpy.delete() function returns a new array with the deletion of sub-arrays along with the mentioned axis.\n",
        "\n",
        "https://numpy.org/doc/stable/reference/generated/numpy.delete.html"
      ]
    },
    {
      "cell_type": "code",
      "execution_count": null,
      "metadata": {
        "colab": {
          "base_uri": "https://localhost:8080/"
        },
        "id": "VmGLdiy5pQXc",
        "outputId": "728b29c4-517a-440f-da4a-8d1aaecbf6e7"
      },
      "outputs": [
        {
          "data": {
            "text/plain": [
              "array([110, 530,  28,  50,  38,  37,  94,  92,   5,  30,  68,   9,  78,\n",
              "         2,  21])"
            ]
          },
          "execution_count": 178,
          "metadata": {},
          "output_type": "execute_result"
        }
      ],
      "source": [
        "# code\n",
        "a"
      ]
    },
    {
      "cell_type": "code",
      "execution_count": null,
      "metadata": {
        "colab": {
          "base_uri": "https://localhost:8080/"
        },
        "id": "A5Dp974mWeWd",
        "outputId": "b3ef3851-7b46-4a55-8e1b-3a1b77a70cd1"
      },
      "outputs": [
        {
          "data": {
            "text/plain": [
              "array([530,  50,  37,  94,  92,   5,  30,  68,   9,  78,   2,  21])"
            ]
          },
          "execution_count": 181,
          "metadata": {},
          "output_type": "execute_result"
        }
      ],
      "source": [
        "np.delete(a,[0,2,4])"
      ]
    },
    {
      "cell_type": "markdown",
      "metadata": {
        "id": "Ei94MbFbrjvx"
      },
      "source": [
        "### Set functions\n",
        "\n",
        "- np.union1d\n",
        "- np.intersect1d\n",
        "- np.setdiff1d\n",
        "- np.setxor1d\n",
        "- np.in1d"
      ]
    },
    {
      "cell_type": "code",
      "execution_count": null,
      "metadata": {
        "colab": {
          "base_uri": "https://localhost:8080/"
        },
        "id": "hHSwzU1irY0f",
        "outputId": "b342e657-f1e1-4421-9447-e261ec0efc36"
      },
      "outputs": [
        {
          "data": {
            "text/plain": [
              "array([1, 2, 3, 4, 5, 6, 7])"
            ]
          },
          "execution_count": 182,
          "metadata": {},
          "output_type": "execute_result"
        }
      ],
      "source": [
        "m = np.array([1,2,3,4,5])\n",
        "n = np.array([3,4,5,6,7])\n",
        "\n",
        "np.union1d(m,n)"
      ]
    },
    {
      "cell_type": "code",
      "execution_count": null,
      "metadata": {
        "colab": {
          "base_uri": "https://localhost:8080/"
        },
        "id": "XSIuF3zWXZXP",
        "outputId": "3cb32023-afe2-4b1a-ba36-a7336083e7f6"
      },
      "outputs": [
        {
          "data": {
            "text/plain": [
              "array([3, 4, 5])"
            ]
          },
          "execution_count": 183,
          "metadata": {},
          "output_type": "execute_result"
        }
      ],
      "source": [
        "np.intersect1d(m,n)"
      ]
    },
    {
      "cell_type": "code",
      "execution_count": null,
      "metadata": {
        "colab": {
          "base_uri": "https://localhost:8080/"
        },
        "id": "HhGH8cskXgR5",
        "outputId": "9fe9818f-5d74-4590-e009-707b73f58a41"
      },
      "outputs": [
        {
          "data": {
            "text/plain": [
              "array([6, 7])"
            ]
          },
          "execution_count": 185,
          "metadata": {},
          "output_type": "execute_result"
        }
      ],
      "source": [
        "np.setdiff1d(n,m)"
      ]
    },
    {
      "cell_type": "code",
      "execution_count": null,
      "metadata": {
        "colab": {
          "base_uri": "https://localhost:8080/"
        },
        "id": "KaZbcTk0XubR",
        "outputId": "7d086410-d76c-4818-e35f-edf0792d54eb"
      },
      "outputs": [
        {
          "data": {
            "text/plain": [
              "array([1, 2, 6, 7])"
            ]
          },
          "execution_count": 186,
          "metadata": {},
          "output_type": "execute_result"
        }
      ],
      "source": [
        "np.setxor1d(m,n)"
      ]
    },
    {
      "cell_type": "code",
      "execution_count": null,
      "metadata": {
        "colab": {
          "base_uri": "https://localhost:8080/"
        },
        "id": "SqV9rpQ_XzVg",
        "outputId": "ad95c2eb-ed10-46ec-9c99-2a5fa4b3082a"
      },
      "outputs": [
        {
          "data": {
            "text/plain": [
              "array([1])"
            ]
          },
          "execution_count": 189,
          "metadata": {},
          "output_type": "execute_result"
        }
      ],
      "source": [
        "m[np.in1d(m,1)]"
      ]
    },
    {
      "cell_type": "markdown",
      "metadata": {
        "id": "uLxS7H2pr-rh"
      },
      "source": [
        "### np.clip\n",
        "\n",
        "numpy.clip() function is used to Clip (limit) the values in an array.\n",
        "\n",
        "https://numpy.org/doc/stable/reference/generated/numpy.clip.html"
      ]
    },
    {
      "cell_type": "code",
      "execution_count": null,
      "metadata": {
        "colab": {
          "base_uri": "https://localhost:8080/"
        },
        "id": "Q3S9gjNzsL73",
        "outputId": "536e7835-500c-4493-9f69-0273a967f8b4"
      },
      "outputs": [
        {
          "data": {
            "text/plain": [
              "array([110, 530,  28,  50,  38,  37,  94,  92,   5,  30,  68,   9,  78,\n",
              "         2,  21])"
            ]
          },
          "execution_count": 190,
          "metadata": {},
          "output_type": "execute_result"
        }
      ],
      "source": [
        "# code\n",
        "a"
      ]
    },
    {
      "cell_type": "code",
      "execution_count": null,
      "metadata": {
        "colab": {
          "base_uri": "https://localhost:8080/"
        },
        "id": "x08JKAVHYOxF",
        "outputId": "a8ba892e-f2ea-44a3-b48e-9a3996ff81f9"
      },
      "outputs": [
        {
          "data": {
            "text/plain": [
              "array([75, 75, 28, 50, 38, 37, 75, 75, 25, 30, 68, 25, 75, 25, 25])"
            ]
          },
          "execution_count": 191,
          "metadata": {},
          "output_type": "execute_result"
        }
      ],
      "source": [
        "np.clip(a,a_min=25,a_max=75)"
      ]
    },
    {
      "cell_type": "code",
      "execution_count": null,
      "metadata": {
        "id": "INpvUpf9InGT"
      },
      "outputs": [],
      "source": [
        "# 17. np.swapaxes"
      ]
    },
    {
      "cell_type": "code",
      "execution_count": null,
      "metadata": {
        "id": "AEFIFE1vJXDA"
      },
      "outputs": [],
      "source": [
        "# 18. np.uniform"
      ]
    },
    {
      "cell_type": "code",
      "execution_count": null,
      "metadata": {
        "id": "y7M0rggRKBIu"
      },
      "outputs": [],
      "source": [
        "# 19. np.count_nonzero"
      ]
    },
    {
      "cell_type": "code",
      "execution_count": null,
      "metadata": {
        "id": "Qy0-pdlOK9tC"
      },
      "outputs": [],
      "source": [
        "# 21. np.tile\n",
        "# https://www.kaggle.com/code/abhayparashar31/best-numpy-functions-for-data-science-50?scriptVersionId=98816580"
      ]
    },
    {
      "cell_type": "code",
      "execution_count": null,
      "metadata": {
        "id": "5DAEz6cbIdga"
      },
      "outputs": [],
      "source": [
        "# 22. np.repeat\n",
        "# https://towardsdatascience.com/10-numpy-functions-you-should-know-1dc4863764c5"
      ]
    },
    {
      "cell_type": "code",
      "execution_count": null,
      "metadata": {
        "id": "DdLxDfsMNfz8"
      },
      "outputs": [],
      "source": [
        "\n",
        "# 25. np.allclose and equals"
      ]
    },
    {
      "cell_type": "code",
      "execution_count": null,
      "metadata": {
        "id": "IYClnmitOqTl"
      },
      "outputs": [],
      "source": []
    },
    {
      "cell_type": "code",
      "execution_count": null,
      "metadata": {
        "id": "nWJdTlHCoQip"
      },
      "outputs": [],
      "source": []
    },
    {
      "cell_type": "code",
      "execution_count": null,
      "metadata": {
        "id": "KEkjJ5_owXc_"
      },
      "outputs": [],
      "source": []
    },
    {
      "cell_type": "code",
      "execution_count": null,
      "metadata": {
        "id": "veZNJm8xB4D_"
      },
      "outputs": [],
      "source": []
    },
    {
      "cell_type": "code",
      "execution_count": null,
      "metadata": {
        "id": "iNBbQiDeNnZm"
      },
      "outputs": [],
      "source": []
    },
    {
      "cell_type": "code",
      "execution_count": null,
      "metadata": {
        "id": "B9F5ogZENohK"
      },
      "outputs": [],
      "source": []
    }
  ],
  "metadata": {
    "colab": {
      "provenance": []
    },
    "kernelspec": {
      "display_name": "Python 3",
      "name": "python3"
    },
    "language_info": {
      "codemirror_mode": {
        "name": "ipython",
        "version": 3
      },
      "file_extension": ".py",
      "mimetype": "text/x-python",
      "name": "python",
      "nbconvert_exporter": "python",
      "pygments_lexer": "ipython3",
      "version": "3.12.3"
    }
  },
  "nbformat": 4,
  "nbformat_minor": 0
}
