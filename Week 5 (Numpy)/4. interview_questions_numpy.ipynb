{
  "cells": [
    {
      "cell_type": "code",
      "execution_count": 64,
      "metadata": {},
      "outputs": [],
      "source": [
        "import numpy as np"
      ]
    },
    {
      "cell_type": "code",
      "execution_count": 65,
      "metadata": {},
      "outputs": [],
      "source": [
        "a=np.array([[1, 2, 3, 4, 5],[6, 7, 8, 9, 10]])"
      ]
    },
    {
      "cell_type": "code",
      "execution_count": 66,
      "metadata": {},
      "outputs": [
        {
          "data": {
            "text/plain": [
              "array([[ 1,  2,  3,  4,  5],\n",
              "       [ 6,  7,  8,  9, 10]])"
            ]
          },
          "execution_count": 66,
          "metadata": {},
          "output_type": "execute_result"
        }
      ],
      "source": [
        "a"
      ]
    },
    {
      "cell_type": "code",
      "execution_count": 67,
      "metadata": {},
      "outputs": [
        {
          "data": {
            "text/plain": [
              "(2, 5)"
            ]
          },
          "execution_count": 67,
          "metadata": {},
          "output_type": "execute_result"
        }
      ],
      "source": [
        "a.shape"
      ]
    },
    {
      "cell_type": "code",
      "execution_count": 68,
      "metadata": {
        "colab": {
          "base_uri": "https://localhost:8080/"
        },
        "id": "L1QoFCFJBd1y",
        "outputId": "7b38d924-4eaa-4387-cf7d-f145f66df8d8"
      },
      "outputs": [
        {
          "data": {
            "text/plain": [
              "array([-10.,  -9.,  -8.,  -7.,  -6.,  -5.,  -4.,  -3.,  -2.,  -1.,   0.,\n",
              "         1.,   2.,   3.,   4.,   5.,   6.,   7.,   8.,   9.])"
            ]
          },
          "execution_count": 68,
          "metadata": {},
          "output_type": "execute_result"
        }
      ],
      "source": [
        "# plotting 3D graphs\n",
        "# meshgrids\n",
        "a = np.linspace(-10,9,20)\n",
        "b = np.linspace(-10,9,20)\n",
        "b"
      ]
    },
    {
      "cell_type": "code",
      "execution_count": 69,
      "metadata": {
        "colab": {
          "base_uri": "https://localhost:8080/"
        },
        "id": "VkQ-UJtbwRqC",
        "outputId": "b8db45a4-babf-4f35-d17e-dda27f82ebea"
      },
      "outputs": [
        {
          "data": {
            "text/plain": [
              "array([[-10., -10., -10., -10., -10., -10., -10., -10., -10., -10., -10.,\n",
              "        -10., -10., -10., -10., -10., -10., -10., -10., -10.],\n",
              "       [ -9.,  -9.,  -9.,  -9.,  -9.,  -9.,  -9.,  -9.,  -9.,  -9.,  -9.,\n",
              "         -9.,  -9.,  -9.,  -9.,  -9.,  -9.,  -9.,  -9.,  -9.],\n",
              "       [ -8.,  -8.,  -8.,  -8.,  -8.,  -8.,  -8.,  -8.,  -8.,  -8.,  -8.,\n",
              "         -8.,  -8.,  -8.,  -8.,  -8.,  -8.,  -8.,  -8.,  -8.],\n",
              "       [ -7.,  -7.,  -7.,  -7.,  -7.,  -7.,  -7.,  -7.,  -7.,  -7.,  -7.,\n",
              "         -7.,  -7.,  -7.,  -7.,  -7.,  -7.,  -7.,  -7.,  -7.],\n",
              "       [ -6.,  -6.,  -6.,  -6.,  -6.,  -6.,  -6.,  -6.,  -6.,  -6.,  -6.,\n",
              "         -6.,  -6.,  -6.,  -6.,  -6.,  -6.,  -6.,  -6.,  -6.],\n",
              "       [ -5.,  -5.,  -5.,  -5.,  -5.,  -5.,  -5.,  -5.,  -5.,  -5.,  -5.,\n",
              "         -5.,  -5.,  -5.,  -5.,  -5.,  -5.,  -5.,  -5.,  -5.],\n",
              "       [ -4.,  -4.,  -4.,  -4.,  -4.,  -4.,  -4.,  -4.,  -4.,  -4.,  -4.,\n",
              "         -4.,  -4.,  -4.,  -4.,  -4.,  -4.,  -4.,  -4.,  -4.],\n",
              "       [ -3.,  -3.,  -3.,  -3.,  -3.,  -3.,  -3.,  -3.,  -3.,  -3.,  -3.,\n",
              "         -3.,  -3.,  -3.,  -3.,  -3.,  -3.,  -3.,  -3.,  -3.],\n",
              "       [ -2.,  -2.,  -2.,  -2.,  -2.,  -2.,  -2.,  -2.,  -2.,  -2.,  -2.,\n",
              "         -2.,  -2.,  -2.,  -2.,  -2.,  -2.,  -2.,  -2.,  -2.],\n",
              "       [ -1.,  -1.,  -1.,  -1.,  -1.,  -1.,  -1.,  -1.,  -1.,  -1.,  -1.,\n",
              "         -1.,  -1.,  -1.,  -1.,  -1.,  -1.,  -1.,  -1.,  -1.],\n",
              "       [  0.,   0.,   0.,   0.,   0.,   0.,   0.,   0.,   0.,   0.,   0.,\n",
              "          0.,   0.,   0.,   0.,   0.,   0.,   0.,   0.,   0.],\n",
              "       [  1.,   1.,   1.,   1.,   1.,   1.,   1.,   1.,   1.,   1.,   1.,\n",
              "          1.,   1.,   1.,   1.,   1.,   1.,   1.,   1.,   1.],\n",
              "       [  2.,   2.,   2.,   2.,   2.,   2.,   2.,   2.,   2.,   2.,   2.,\n",
              "          2.,   2.,   2.,   2.,   2.,   2.,   2.,   2.,   2.],\n",
              "       [  3.,   3.,   3.,   3.,   3.,   3.,   3.,   3.,   3.,   3.,   3.,\n",
              "          3.,   3.,   3.,   3.,   3.,   3.,   3.,   3.,   3.],\n",
              "       [  4.,   4.,   4.,   4.,   4.,   4.,   4.,   4.,   4.,   4.,   4.,\n",
              "          4.,   4.,   4.,   4.,   4.,   4.,   4.,   4.,   4.],\n",
              "       [  5.,   5.,   5.,   5.,   5.,   5.,   5.,   5.,   5.,   5.,   5.,\n",
              "          5.,   5.,   5.,   5.,   5.,   5.,   5.,   5.,   5.],\n",
              "       [  6.,   6.,   6.,   6.,   6.,   6.,   6.,   6.,   6.,   6.,   6.,\n",
              "          6.,   6.,   6.,   6.,   6.,   6.,   6.,   6.,   6.],\n",
              "       [  7.,   7.,   7.,   7.,   7.,   7.,   7.,   7.,   7.,   7.,   7.,\n",
              "          7.,   7.,   7.,   7.,   7.,   7.,   7.,   7.,   7.],\n",
              "       [  8.,   8.,   8.,   8.,   8.,   8.,   8.,   8.,   8.,   8.,   8.,\n",
              "          8.,   8.,   8.,   8.,   8.,   8.,   8.,   8.,   8.],\n",
              "       [  9.,   9.,   9.,   9.,   9.,   9.,   9.,   9.,   9.,   9.,   9.,\n",
              "          9.,   9.,   9.,   9.,   9.,   9.,   9.,   9.,   9.]])"
            ]
          },
          "execution_count": 69,
          "metadata": {},
          "output_type": "execute_result"
        }
      ],
      "source": [
        "xx,yy = np.meshgrid(a,b)\n",
        "yy"
      ]
    },
    {
      "cell_type": "code",
      "execution_count": 70,
      "metadata": {
        "colab": {
          "base_uri": "https://localhost:8080/",
          "height": 282
        },
        "id": "4Qthq7evwjT5",
        "outputId": "334a4666-a83e-40fa-f68b-d19f4effe640"
      },
      "outputs": [
        {
          "data": {
            "text/plain": [
              "<matplotlib.collections.PathCollection at 0x14eb8b72d20>"
            ]
          },
          "execution_count": 70,
          "metadata": {},
          "output_type": "execute_result"
        },
        {
          "data": {
            "image/png": "[encoded data removed]",
            "text/plain": [
              "<Figure size 640x480 with 1 Axes>"
            ]
          },
          "metadata": {},
          "output_type": "display_data"
        }
      ],
      "source": [
        "import matplotlib.pyplot as plt\n",
        "plt.scatter(xx,yy)"
      ]
    },
    {
      "cell_type": "code",
      "execution_count": 71,
      "metadata": {
        "colab": {
          "base_uri": "https://localhost:8080/"
        },
        "id": "m2PAMP2Ew66h",
        "outputId": "bc3e9af6-238c-4fdd-9886-11fc16ef3714"
      },
      "outputs": [
        {
          "name": "stderr",
          "output_type": "stream",
          "text": [
            "C:\\Users\\PROFESSOR\\AppData\\Local\\Temp\\ipykernel_16940\\2199161784.py:2: RuntimeWarning: divide by zero encountered in log\n",
            "  return 3*np.log(x) + 2*y\n",
            "C:\\Users\\PROFESSOR\\AppData\\Local\\Temp\\ipykernel_16940\\2199161784.py:2: RuntimeWarning: invalid value encountered in log\n",
            "  return 3*np.log(x) + 2*y\n"
          ]
        },
        {
          "data": {
            "text/plain": [
              "array([[         nan,          nan,          nan,          nan,\n",
              "                 nan,          nan,          nan,          nan,\n",
              "                 nan,          nan,         -inf, -20.        ,\n",
              "        -17.92055846, -16.70416313, -15.84111692, -15.17168626,\n",
              "        -14.62472159, -14.16226955, -13.76167537, -13.40832627],\n",
              "       [         nan,          nan,          nan,          nan,\n",
              "                 nan,          nan,          nan,          nan,\n",
              "                 nan,          nan,         -inf, -18.        ,\n",
              "        -15.92055846, -14.70416313, -13.84111692, -13.17168626,\n",
              "        -12.62472159, -12.16226955, -11.76167537, -11.40832627],\n",
              "       [         nan,          nan,          nan,          nan,\n",
              "                 nan,          nan,          nan,          nan,\n",
              "                 nan,          nan,         -inf, -16.        ,\n",
              "        -13.92055846, -12.70416313, -11.84111692, -11.17168626,\n",
              "        -10.62472159, -10.16226955,  -9.76167537,  -9.40832627],\n",
              "       [         nan,          nan,          nan,          nan,\n",
              "                 nan,          nan,          nan,          nan,\n",
              "                 nan,          nan,         -inf, -14.        ,\n",
              "        -11.92055846, -10.70416313,  -9.84111692,  -9.17168626,\n",
              "         -8.62472159,  -8.16226955,  -7.76167537,  -7.40832627],\n",
              "       [         nan,          nan,          nan,          nan,\n",
              "                 nan,          nan,          nan,          nan,\n",
              "                 nan,          nan,         -inf, -12.        ,\n",
              "         -9.92055846,  -8.70416313,  -7.84111692,  -7.17168626,\n",
              "         -6.62472159,  -6.16226955,  -5.76167537,  -5.40832627],\n",
              "       [         nan,          nan,          nan,          nan,\n",
              "                 nan,          nan,          nan,          nan,\n",
              "                 nan,          nan,         -inf, -10.        ,\n",
              "         -7.92055846,  -6.70416313,  -5.84111692,  -5.17168626,\n",
              "         -4.62472159,  -4.16226955,  -3.76167537,  -3.40832627],\n",
              "       [         nan,          nan,          nan,          nan,\n",
              "                 nan,          nan,          nan,          nan,\n",
              "                 nan,          nan,         -inf,  -8.        ,\n",
              "         -5.92055846,  -4.70416313,  -3.84111692,  -3.17168626,\n",
              "         -2.62472159,  -2.16226955,  -1.76167537,  -1.40832627],\n",
              "       [         nan,          nan,          nan,          nan,\n",
              "                 nan,          nan,          nan,          nan,\n",
              "                 nan,          nan,         -inf,  -6.        ,\n",
              "         -3.92055846,  -2.70416313,  -1.84111692,  -1.17168626,\n",
              "         -0.62472159,  -0.16226955,   0.23832463,   0.59167373],\n",
              "       [         nan,          nan,          nan,          nan,\n",
              "                 nan,          nan,          nan,          nan,\n",
              "                 nan,          nan,         -inf,  -4.        ,\n",
              "         -1.92055846,  -0.70416313,   0.15888308,   0.82831374,\n",
              "          1.37527841,   1.83773045,   2.23832463,   2.59167373],\n",
              "       [         nan,          nan,          nan,          nan,\n",
              "                 nan,          nan,          nan,          nan,\n",
              "                 nan,          nan,         -inf,  -2.        ,\n",
              "          0.07944154,   1.29583687,   2.15888308,   2.82831374,\n",
              "          3.37527841,   3.83773045,   4.23832463,   4.59167373],\n",
              "       [         nan,          nan,          nan,          nan,\n",
              "                 nan,          nan,          nan,          nan,\n",
              "                 nan,          nan,         -inf,   0.        ,\n",
              "          2.07944154,   3.29583687,   4.15888308,   4.82831374,\n",
              "          5.37527841,   5.83773045,   6.23832463,   6.59167373],\n",
              "       [         nan,          nan,          nan,          nan,\n",
              "                 nan,          nan,          nan,          nan,\n",
              "                 nan,          nan,         -inf,   2.        ,\n",
              "          4.07944154,   5.29583687,   6.15888308,   6.82831374,\n",
              "          7.37527841,   7.83773045,   8.23832463,   8.59167373],\n",
              "       [         nan,          nan,          nan,          nan,\n",
              "                 nan,          nan,          nan,          nan,\n",
              "                 nan,          nan,         -inf,   4.        ,\n",
              "          6.07944154,   7.29583687,   8.15888308,   8.82831374,\n",
              "          9.37527841,   9.83773045,  10.23832463,  10.59167373],\n",
              "       [         nan,          nan,          nan,          nan,\n",
              "                 nan,          nan,          nan,          nan,\n",
              "                 nan,          nan,         -inf,   6.        ,\n",
              "          8.07944154,   9.29583687,  10.15888308,  10.82831374,\n",
              "         11.37527841,  11.83773045,  12.23832463,  12.59167373],\n",
              "       [         nan,          nan,          nan,          nan,\n",
              "                 nan,          nan,          nan,          nan,\n",
              "                 nan,          nan,         -inf,   8.        ,\n",
              "         10.07944154,  11.29583687,  12.15888308,  12.82831374,\n",
              "         13.37527841,  13.83773045,  14.23832463,  14.59167373],\n",
              "       [         nan,          nan,          nan,          nan,\n",
              "                 nan,          nan,          nan,          nan,\n",
              "                 nan,          nan,         -inf,  10.        ,\n",
              "         12.07944154,  13.29583687,  14.15888308,  14.82831374,\n",
              "         15.37527841,  15.83773045,  16.23832463,  16.59167373],\n",
              "       [         nan,          nan,          nan,          nan,\n",
              "                 nan,          nan,          nan,          nan,\n",
              "                 nan,          nan,         -inf,  12.        ,\n",
              "         14.07944154,  15.29583687,  16.15888308,  16.82831374,\n",
              "         17.37527841,  17.83773045,  18.23832463,  18.59167373],\n",
              "       [         nan,          nan,          nan,          nan,\n",
              "                 nan,          nan,          nan,          nan,\n",
              "                 nan,          nan,         -inf,  14.        ,\n",
              "         16.07944154,  17.29583687,  18.15888308,  18.82831374,\n",
              "         19.37527841,  19.83773045,  20.23832463,  20.59167373],\n",
              "       [         nan,          nan,          nan,          nan,\n",
              "                 nan,          nan,          nan,          nan,\n",
              "                 nan,          nan,         -inf,  16.        ,\n",
              "         18.07944154,  19.29583687,  20.15888308,  20.82831374,\n",
              "         21.37527841,  21.83773045,  22.23832463,  22.59167373],\n",
              "       [         nan,          nan,          nan,          nan,\n",
              "                 nan,          nan,          nan,          nan,\n",
              "                 nan,          nan,         -inf,  18.        ,\n",
              "         20.07944154,  21.29583687,  22.15888308,  22.82831374,\n",
              "         23.37527841,  23.83773045,  24.23832463,  24.59167373]])"
            ]
          },
          "execution_count": 71,
          "metadata": {},
          "output_type": "execute_result"
        }
      ],
      "source": [
        "def func(x,y):\n",
        "  return 3*np.log(x) + 2*y\n",
        "\n",
        "zz = func(xx,yy)\n",
        "zz"
      ]
    },
    {
      "cell_type": "code",
      "execution_count": 72,
      "metadata": {
        "id": "o3aegzmiBd8y"
      },
      "outputs": [],
      "source": [
        "# working with random\n",
        "# randint\n",
        "# seed\n",
        "# shuffle\n",
        "# choice"
      ]
    },
    {
      "cell_type": "code",
      "execution_count": 73,
      "metadata": {
        "colab": {
          "base_uri": "https://localhost:8080/"
        },
        "id": "92Q7WvTZzBUn",
        "outputId": "c3e61266-15f2-4a2a-aa9c-0859160dcd20"
      },
      "outputs": [
        {
          "data": {
            "text/plain": [
              "array([[[0.33739616, 0.64817187],\n",
              "        [0.36824154, 0.95715516],\n",
              "        [0.14035078, 0.87008726]],\n",
              "\n",
              "       [[0.47360805, 0.80091075],\n",
              "        [0.52047748, 0.67887953],\n",
              "        [0.72063265, 0.58201979]]])"
            ]
          },
          "execution_count": 73,
          "metadata": {},
          "output_type": "execute_result"
        }
      ],
      "source": [
        "np.random.random((2,3,2))"
      ]
    },
    {
      "cell_type": "code",
      "execution_count": 74,
      "metadata": {
        "colab": {
          "base_uri": "https://localhost:8080/"
        },
        "id": "mwDZ-tmxzSYz",
        "outputId": "65fee704-ef2d-4ca9-ef6f-80a8064c6f05"
      },
      "outputs": [
        {
          "data": {
            "text/plain": [
              "array([[45, 48, 65, 68],\n",
              "       [68, 10, 84, 22],\n",
              "       [37, 88, 71, 89]])"
            ]
          },
          "execution_count": 74,
          "metadata": {},
          "output_type": "execute_result"
        }
      ],
      "source": [
        "np.random.seed(0)\n",
        "np.random.randint(1,100,12).reshape(3,4)"
      ]
    },
    {
      "cell_type": "code",
      "execution_count": 75,
      "metadata": {
        "colab": {
          "base_uri": "https://localhost:8080/"
        },
        "id": "nSyGdUMGzpRZ",
        "outputId": "25e6a0bd-655f-4974-e8a5-d543d3115eaa"
      },
      "outputs": [
        {
          "data": {
            "text/plain": [
              "array([[45, 48, 65, 68],\n",
              "       [68, 10, 84, 22],\n",
              "       [37, 88, 71, 89]])"
            ]
          },
          "execution_count": 75,
          "metadata": {},
          "output_type": "execute_result"
        }
      ],
      "source": [
        "np.random.seed(0)\n",
        "np.random.randint(1,100,12).reshape(3,4)"
      ]
    },
    {
      "cell_type": "code",
      "execution_count": 76,
      "metadata": {
        "colab": {
          "base_uri": "https://localhost:8080/"
        },
        "id": "BC-wPQ2_zt2t",
        "outputId": "bd395520-6d9f-4f7c-c158-b405b27b49b2"
      },
      "outputs": [
        {
          "data": {
            "text/plain": [
              "array([[45, 48, 65, 68],\n",
              "       [68, 10, 84, 22],\n",
              "       [37, 88, 71, 89]])"
            ]
          },
          "execution_count": 76,
          "metadata": {},
          "output_type": "execute_result"
        }
      ],
      "source": [
        "np.random.seed(0)\n",
        "np.random.randint(1,100,12).reshape(3,4)"
      ]
    },
    {
      "cell_type": "code",
      "execution_count": 77,
      "metadata": {
        "colab": {
          "base_uri": "https://localhost:8080/"
        },
        "id": "z2tKH_JF0WZq",
        "outputId": "7c0fc5d3-3553-4838-c003-845554402f9f"
      },
      "outputs": [
        {
          "name": "stdout",
          "output_type": "stream",
          "text": [
            "[ 12  41  33  67  89 100]\n"
          ]
        }
      ],
      "source": [
        "a = np.array([12,41,33,67,89,100])\n",
        "print(a)"
      ]
    },
    {
      "cell_type": "code",
      "execution_count": 78,
      "metadata": {
        "id": "W3t__QNX0e_T"
      },
      "outputs": [],
      "source": [
        "np.random.shuffle(a)"
      ]
    },
    {
      "cell_type": "code",
      "execution_count": 79,
      "metadata": {
        "colab": {
          "base_uri": "https://localhost:8080/"
        },
        "id": "jNJ3ct980lCD",
        "outputId": "eb5549b8-c5ec-4acc-e63b-51d4735dd905"
      },
      "outputs": [
        {
          "data": {
            "text/plain": [
              "array([ 67, 100,  41,  33,  89,  12])"
            ]
          },
          "execution_count": 79,
          "metadata": {},
          "output_type": "execute_result"
        }
      ],
      "source": [
        "a"
      ]
    },
    {
      "cell_type": "code",
      "execution_count": 80,
      "metadata": {
        "colab": {
          "base_uri": "https://localhost:8080/"
        },
        "id": "GqB1AISH0sVW",
        "outputId": "aaefdc0e-081b-452e-d4ea-05582027818d"
      },
      "outputs": [
        {
          "data": {
            "text/plain": [
              "array([12, 41, 33])"
            ]
          },
          "execution_count": 80,
          "metadata": {},
          "output_type": "execute_result"
        }
      ],
      "source": [
        "np.random.choice(a,3,replace=False)"
      ]
    },
    {
      "cell_type": "code",
      "execution_count": 81,
      "metadata": {
        "id": "sXH-UfIaBZgs"
      },
      "outputs": [],
      "source": [
        "# working with images\n",
        "import cv2"
      ]
    },
    {
      "cell_type": "code",
      "execution_count": 82,
      "metadata": {
        "id": "2B8f3z_v8IPv"
      },
      "outputs": [],
      "source": [
        "# read the image\n",
        "img = cv2.imread('pic.png')"
      ]
    },
    {
      "cell_type": "code",
      "execution_count": 83,
      "metadata": {
        "colab": {
          "base_uri": "https://localhost:8080/"
        },
        "id": "DCww_z1sBeS3",
        "outputId": "1484a5a7-8294-48c2-d83a-9803557e86f1"
      },
      "outputs": [
        {
          "data": {
            "text/plain": [
              "(527, 1019, 3)"
            ]
          },
          "execution_count": 83,
          "metadata": {},
          "output_type": "execute_result"
        }
      ],
      "source": [
        "# show array -> shape\n",
        "img.shape"
      ]
    },
    {
      "cell_type": "code",
      "execution_count": 84,
      "metadata": {
        "colab": {
          "base_uri": "https://localhost:8080/",
          "height": 257
        },
        "id": "NCBToqaxBgcj",
        "outputId": "b37f0e7f-2ee6-46e9-9c33-244af834a6f3"
      },
      "outputs": [
        {
          "data": {
            "text/plain": [
              "<matplotlib.image.AxesImage at 0x14eb6a81730>"
            ]
          },
          "execution_count": 84,
          "metadata": {},
          "output_type": "execute_result"
        },
        {
          "data": {
            "image/png": "[encoded data removed]",
            "text/plain": [
              "<Figure size 640x480 with 1 Axes>"
            ]
          },
          "metadata": {},
          "output_type": "display_data"
        }
      ],
      "source": [
        "# show image\n",
        "plt.imshow(np.flip(img,axis=1))"
      ]
    },
    {
      "cell_type": "code",
      "execution_count": 85,
      "metadata": {
        "colab": {
          "base_uri": "https://localhost:8080/"
        },
        "id": "S5MWYk1GBiL9",
        "outputId": "b94516fb-453e-4729-aae5-9445ff536603"
      },
      "outputs": [
        {
          "data": {
            "text/plain": [
              "array([[0, 1, 2],\n",
              "       [3, 4, 5]])"
            ]
          },
          "execution_count": 85,
          "metadata": {},
          "output_type": "execute_result"
        }
      ],
      "source": [
        "# flip\n",
        "a = np.arange(6).reshape(2,3)\n",
        "a"
      ]
    },
    {
      "cell_type": "code",
      "execution_count": 86,
      "metadata": {
        "colab": {
          "base_uri": "https://localhost:8080/"
        },
        "id": "YabyxtzE3HEF",
        "outputId": "e80883c0-f3f8-4d07-e88c-b2f6d0afd0f4"
      },
      "outputs": [
        {
          "data": {
            "text/plain": [
              "array([[5, 4, 3],\n",
              "       [2, 1, 0]])"
            ]
          },
          "execution_count": 86,
          "metadata": {},
          "output_type": "execute_result"
        }
      ],
      "source": [
        "np.flip(a)"
      ]
    },
    {
      "cell_type": "code",
      "execution_count": 87,
      "metadata": {
        "colab": {
          "base_uri": "https://localhost:8080/",
          "height": 257
        },
        "id": "4aHVoSykBjS1",
        "outputId": "4a03701c-b719-406b-f1d3-6f2b4b1af65f"
      },
      "outputs": [
        {
          "data": {
            "text/plain": [
              "<matplotlib.image.AxesImage at 0x14eba2cefc0>"
            ]
          },
          "execution_count": 87,
          "metadata": {},
          "output_type": "execute_result"
        },
        {
          "data": {
            "image/png": "[encoded data removed]",
            "text/plain": [
              "<Figure size 640x480 with 1 Axes>"
            ]
          },
          "metadata": {},
          "output_type": "display_data"
        }
      ],
      "source": [
        "# clip -> fade\n",
        "plt.imshow(np.clip(img,0,100))"
      ]
    },
    {
      "cell_type": "code",
      "execution_count": 88,
      "metadata": {
        "colab": {
          "base_uri": "https://localhost:8080/",
          "height": 257
        },
        "id": "yhoJx8l08P2K",
        "outputId": "a922fba6-e69d-4ad0-f935-c1af1dedc3f7"
      },
      "outputs": [
        {
          "data": {
            "text/plain": [
              "<matplotlib.image.AxesImage at 0x14eba7fb920>"
            ]
          },
          "execution_count": 88,
          "metadata": {},
          "output_type": "execute_result"
        },
        {
          "data": {
            "image/png": "[encoded data removed]",
            "text/plain": [
              "<Figure size 640x480 with 1 Axes>"
            ]
          },
          "metadata": {},
          "output_type": "display_data"
        }
      ],
      "source": [
        "# negative\n",
        "plt.imshow(255 - img)"
      ]
    },
    {
      "cell_type": "code",
      "execution_count": 89,
      "metadata": {
        "colab": {
          "base_uri": "https://localhost:8080/",
          "height": 286
        },
        "id": "PT7bS1jJ8VLf",
        "outputId": "3d5b7c41-6c05-459e-da03-8b8810aa9d5c"
      },
      "outputs": [
        {
          "data": {
            "text/plain": [
              "<matplotlib.image.AxesImage at 0x14eba2dfd40>"
            ]
          },
          "execution_count": 89,
          "metadata": {},
          "output_type": "execute_result"
        },
        {
          "data": {
            "image/png": "[encoded data removed]",
            "text/plain": [
              "<Figure size 640x480 with 1 Axes>"
            ]
          },
          "metadata": {},
          "output_type": "display_data"
        }
      ],
      "source": [
        "# trim\n",
        "plt.imshow(img[100:900,50:900,:])"
      ]
    },
    {
      "cell_type": "code",
      "execution_count": 90,
      "metadata": {
        "colab": {
          "base_uri": "https://localhost:8080/",
          "height": 1000
        },
        "id": "PY7-RTAaFaE8",
        "outputId": "ec38f25e-aaf1-4276-cc4c-36520d0f7d0b"
      },
      "outputs": [
        {
          "data": {
            "text/plain": [
              "(array([1.01900e+03, 1.01900e+03, 0.00000e+00, 0.00000e+00, 3.12187e+05,\n",
              "        1.60000e+01, 0.00000e+00, 0.00000e+00, 2.06200e+03, 0.00000e+00,\n",
              "        5.21603e+05, 0.00000e+00, 1.80000e+01, 1.60000e+01, 3.17361e+05,\n",
              "        2.11473e+05, 0.00000e+00, 1.64000e+02, 0.00000e+00, 0.00000e+00,\n",
              "        3.40000e+01, 2.18638e+05, 3.00000e+00, 1.65000e+02, 0.00000e+00,\n",
              "        0.00000e+00, 0.00000e+00, 7.16900e+03, 0.00000e+00, 0.00000e+00,\n",
              "        1.44000e+02, 3.71000e+02, 0.00000e+00, 2.60000e+01, 0.00000e+00,\n",
              "        1.10000e+02, 2.90000e+01, 0.00000e+00, 3.10000e+01, 1.87000e+02,\n",
              "        3.30000e+01, 0.00000e+00, 1.10000e+01, 3.10000e+01, 2.86000e+02,\n",
              "        7.00000e+00, 9.10000e+01, 0.00000e+00, 3.10000e+01, 0.00000e+00,\n",
              "        3.30000e+01, 0.00000e+00, 2.12000e+02, 8.00000e+01, 6.90000e+01,\n",
              "        2.40000e+01, 0.00000e+00, 0.00000e+00, 1.30000e+01, 2.46000e+02,\n",
              "        1.58000e+02, 1.49000e+02, 0.00000e+00, 1.30000e+01, 1.26000e+02,\n",
              "        0.00000e+00, 0.00000e+00, 0.00000e+00, 0.00000e+00, 3.21000e+02,\n",
              "        1.10000e+01, 0.00000e+00, 5.90000e+01, 1.30000e+01, 2.73000e+02,\n",
              "        0.00000e+00, 0.00000e+00, 0.00000e+00, 1.27000e+02, 1.64000e+02,\n",
              "        8.40000e+01, 5.80000e+01, 0.00000e+00, 7.40000e+01, 0.00000e+00,\n",
              "        1.65000e+02, 0.00000e+00, 2.43000e+02, 6.52000e+02, 6.20000e+01,\n",
              "        1.60000e+01, 1.56000e+02, 0.00000e+00, 1.57000e+02, 0.00000e+00,\n",
              "        1.32000e+02, 1.60000e+01, 1.37000e+02, 5.60000e+02, 7.80000e+01,\n",
              "        8.40000e+01, 7.10000e+01, 3.10000e+01, 0.00000e+00, 0.00000e+00,\n",
              "        1.92000e+02, 2.30000e+01, 0.00000e+00, 0.00000e+00, 6.91000e+02,\n",
              "        0.00000e+00, 1.49000e+02, 0.00000e+00, 0.00000e+00, 1.44000e+02,\n",
              "        1.28000e+02, 8.70000e+01, 2.70000e+01, 2.85000e+02, 1.60000e+01,\n",
              "        0.00000e+00, 1.64000e+02, 0.00000e+00, 1.26000e+02, 1.30000e+01,\n",
              "        0.00000e+00, 0.00000e+00, 2.03000e+02, 1.23000e+02, 0.00000e+00,\n",
              "        0.00000e+00, 0.00000e+00, 0.00000e+00, 4.15000e+02, 0.00000e+00,\n",
              "        5.00000e+01, 0.00000e+00, 6.00000e+01, 4.00000e+00, 1.80000e+02,\n",
              "        1.63000e+02, 0.00000e+00, 2.70000e+01, 1.88000e+02, 0.00000e+00,\n",
              "        0.00000e+00, 4.54000e+02, 2.70000e+01, 1.49000e+02, 3.00000e+00,\n",
              "        0.00000e+00, 0.00000e+00, 1.19000e+02, 1.20000e+01, 8.90000e+01,\n",
              "        3.00000e+00, 0.00000e+00, 4.50000e+01, 0.00000e+00, 3.40000e+01,\n",
              "        0.00000e+00, 1.41000e+02, 2.25000e+02, 0.00000e+00, 0.00000e+00,\n",
              "        1.61000e+02, 8.00000e+00, 1.60000e+01, 0.00000e+00, 0.00000e+00,\n",
              "        4.89000e+02, 3.00000e+00, 0.00000e+00, 5.50000e+01, 9.90000e+01,\n",
              "        2.04000e+02, 2.00000e+00, 0.00000e+00, 0.00000e+00, 0.00000e+00,\n",
              "        1.11000e+02, 2.00000e+00, 6.90000e+01, 2.10000e+01, 0.00000e+00,\n",
              "        2.40000e+01, 1.82000e+02, 0.00000e+00, 0.00000e+00, 2.10000e+01,\n",
              "        1.65000e+02, 6.90000e+01, 1.62000e+02, 0.00000e+00, 4.30000e+01,\n",
              "        1.63000e+02, 4.42000e+02, 7.00000e+00, 0.00000e+00, 1.28000e+02,\n",
              "        0.00000e+00, 1.18000e+02, 1.35000e+02, 2.70000e+01, 3.00000e+00,\n",
              "        0.00000e+00, 1.28000e+02, 0.00000e+00, 7.30000e+01, 2.20000e+01,\n",
              "        0.00000e+00, 1.88000e+02, 0.00000e+00, 1.72000e+02, 3.50000e+01,\n",
              "        2.19000e+02, 1.61000e+02, 0.00000e+00, 1.42000e+02, 0.00000e+00,\n",
              "        1.61000e+02, 4.07000e+02, 0.00000e+00, 0.00000e+00, 6.68000e+02,\n",
              "        1.60000e+01, 0.00000e+00, 0.00000e+00, 0.00000e+00, 3.99000e+02,\n",
              "        0.00000e+00, 0.00000e+00, 1.70000e+01, 0.00000e+00, 0.00000e+00,\n",
              "        0.00000e+00, 0.00000e+00, 0.00000e+00, 2.99000e+02, 3.80000e+01,\n",
              "        2.11000e+02, 0.00000e+00, 0.00000e+00, 0.00000e+00, 0.00000e+00,\n",
              "        0.00000e+00, 0.00000e+00, 0.00000e+00, 8.30000e+01, 0.00000e+00,\n",
              "        0.00000e+00, 0.00000e+00, 0.00000e+00, 0.00000e+00, 7.10000e+02]),\n",
              " array([ 27.        ,  27.89411765,  28.78823529,  29.68235294,\n",
              "         30.57647059,  31.47058824,  32.36470588,  33.25882353,\n",
              "         34.15294118,  35.04705882,  35.94117647,  36.83529412,\n",
              "         37.72941176,  38.62352941,  39.51764706,  40.41176471,\n",
              "         41.30588235,  42.2       ,  43.09411765,  43.98823529,\n",
              "         44.88235294,  45.77647059,  46.67058824,  47.56470588,\n",
              "         48.45882353,  49.35294118,  50.24705882,  51.14117647,\n",
              "         52.03529412,  52.92941176,  53.82352941,  54.71764706,\n",
              "         55.61176471,  56.50588235,  57.4       ,  58.29411765,\n",
              "         59.18823529,  60.08235294,  60.97647059,  61.87058824,\n",
              "         62.76470588,  63.65882353,  64.55294118,  65.44705882,\n",
              "         66.34117647,  67.23529412,  68.12941176,  69.02352941,\n",
              "         69.91764706,  70.81176471,  71.70588235,  72.6       ,\n",
              "         73.49411765,  74.38823529,  75.28235294,  76.17647059,\n",
              "         77.07058824,  77.96470588,  78.85882353,  79.75294118,\n",
              "         80.64705882,  81.54117647,  82.43529412,  83.32941176,\n",
              "         84.22352941,  85.11764706,  86.01176471,  86.90588235,\n",
              "         87.8       ,  88.69411765,  89.58823529,  90.48235294,\n",
              "         91.37647059,  92.27058824,  93.16470588,  94.05882353,\n",
              "         94.95294118,  95.84705882,  96.74117647,  97.63529412,\n",
              "         98.52941176,  99.42352941, 100.31764706, 101.21176471,\n",
              "        102.10588235, 103.        , 103.89411765, 104.78823529,\n",
              "        105.68235294, 106.57647059, 107.47058824, 108.36470588,\n",
              "        109.25882353, 110.15294118, 111.04705882, 111.94117647,\n",
              "        112.83529412, 113.72941176, 114.62352941, 115.51764706,\n",
              "        116.41176471, 117.30588235, 118.2       , 119.09411765,\n",
              "        119.98823529, 120.88235294, 121.77647059, 122.67058824,\n",
              "        123.56470588, 124.45882353, 125.35294118, 126.24705882,\n",
              "        127.14117647, 128.03529412, 128.92941176, 129.82352941,\n",
              "        130.71764706, 131.61176471, 132.50588235, 133.4       ,\n",
              "        134.29411765, 135.18823529, 136.08235294, 136.97647059,\n",
              "        137.87058824, 138.76470588, 139.65882353, 140.55294118,\n",
              "        141.44705882, 142.34117647, 143.23529412, 144.12941176,\n",
              "        145.02352941, 145.91764706, 146.81176471, 147.70588235,\n",
              "        148.6       , 149.49411765, 150.38823529, 151.28235294,\n",
              "        152.17647059, 153.07058824, 153.96470588, 154.85882353,\n",
              "        155.75294118, 156.64705882, 157.54117647, 158.43529412,\n",
              "        159.32941176, 160.22352941, 161.11764706, 162.01176471,\n",
              "        162.90588235, 163.8       , 164.69411765, 165.58823529,\n",
              "        166.48235294, 167.37647059, 168.27058824, 169.16470588,\n",
              "        170.05882353, 170.95294118, 171.84705882, 172.74117647,\n",
              "        173.63529412, 174.52941176, 175.42352941, 176.31764706,\n",
              "        177.21176471, 178.10588235, 179.        , 179.89411765,\n",
              "        180.78823529, 181.68235294, 182.57647059, 183.47058824,\n",
              "        184.36470588, 185.25882353, 186.15294118, 187.04705882,\n",
              "        187.94117647, 188.83529412, 189.72941176, 190.62352941,\n",
              "        191.51764706, 192.41176471, 193.30588235, 194.2       ,\n",
              "        195.09411765, 195.98823529, 196.88235294, 197.77647059,\n",
              "        198.67058824, 199.56470588, 200.45882353, 201.35294118,\n",
              "        202.24705882, 203.14117647, 204.03529412, 204.92941176,\n",
              "        205.82352941, 206.71764706, 207.61176471, 208.50588235,\n",
              "        209.4       , 210.29411765, 211.18823529, 212.08235294,\n",
              "        212.97647059, 213.87058824, 214.76470588, 215.65882353,\n",
              "        216.55294118, 217.44705882, 218.34117647, 219.23529412,\n",
              "        220.12941176, 221.02352941, 221.91764706, 222.81176471,\n",
              "        223.70588235, 224.6       , 225.49411765, 226.38823529,\n",
              "        227.28235294, 228.17647059, 229.07058824, 229.96470588,\n",
              "        230.85882353, 231.75294118, 232.64705882, 233.54117647,\n",
              "        234.43529412, 235.32941176, 236.22352941, 237.11764706,\n",
              "        238.01176471, 238.90588235, 239.8       , 240.69411765,\n",
              "        241.58823529, 242.48235294, 243.37647059, 244.27058824,\n",
              "        245.16470588, 246.05882353, 246.95294118, 247.84705882,\n",
              "        248.74117647, 249.63529412, 250.52941176, 251.42352941,\n",
              "        252.31764706, 253.21176471, 254.10588235, 255.        ]),\n",
              " <BarContainer object of 255 artists>)"
            ]
          },
          "execution_count": 90,
          "metadata": {},
          "output_type": "execute_result"
        },
        {
          "data": {
            "image/png": "[encoded data removed]",
            "text/plain": [
              "<Figure size 640x480 with 1 Axes>"
            ]
          },
          "metadata": {},
          "output_type": "display_data"
        }
      ],
      "source": [
        "# plot histogram\n",
        "plt.hist(img.flatten(),bins=255)"
      ]
    },
    {
      "cell_type": "code",
      "execution_count": 91,
      "metadata": {
        "id": "tCwm2AkKFJjJ"
      },
      "outputs": [],
      "source": [
        "# More manipulations\n",
        "# https://www.analyticsvidhya.com/blog/2021/05/image-processing-using-numpy-with-practical-implementation-and-code/"
      ]
    },
    {
      "cell_type": "code",
      "execution_count": 92,
      "metadata": {
        "colab": {
          "base_uri": "https://localhost:8080/"
        },
        "id": "jEFkZgjcBZnZ",
        "outputId": "4cc48c39-0a95-4f89-c97e-b085e0a11f19"
      },
      "outputs": [
        {
          "data": {
            "text/plain": [
              "array(['1', 'hello', 'True', '1.5'], dtype='<U32')"
            ]
          },
          "execution_count": 92,
          "metadata": {},
          "output_type": "execute_result"
        }
      ],
      "source": [
        "# structured arrays\n",
        "a = np.array([1,'hello',True,1.5])\n",
        "a"
      ]
    },
    {
      "cell_type": "code",
      "execution_count": 93,
      "metadata": {
        "colab": {
          "base_uri": "https://localhost:8080/",
          "height": 167
        },
        "id": "6F3hdh6h5mr2",
        "outputId": "b7948ce2-b876-48f0-db46-19b71064670b"
      },
      "outputs": [
        {
          "ename": "TypeError",
          "evalue": "unsupported operand type(s) for /: 'numpy.str_' and 'int'",
          "output_type": "error",
          "traceback": [
            "\u001b[1;31m---------------------------------------------------------------------------\u001b[0m",
            "\u001b[1;31mTypeError\u001b[0m                                 Traceback (most recent call last)",
            "Cell \u001b[1;32mIn[93], line 1\u001b[0m\n\u001b[1;32m----> 1\u001b[0m \u001b[43ma\u001b[49m\u001b[43m[\u001b[49m\u001b[38;5;241;43m0\u001b[39;49m\u001b[43m]\u001b[49m\u001b[43m \u001b[49m\u001b[38;5;241;43m/\u001b[39;49m\u001b[43m \u001b[49m\u001b[38;5;241;43m100\u001b[39;49m\n",
            "\u001b[1;31mTypeError\u001b[0m: unsupported operand type(s) for /: 'numpy.str_' and 'int'"
          ]
        }
      ],
      "source": [
        "a[0] / 100"
      ]
    },
    {
      "cell_type": "code",
      "execution_count": 94,
      "metadata": {
        "id": "b76yf5o20GAF"
      },
      "outputs": [],
      "source": [
        "# name,iq,cgpa,placed\n",
        "\n",
        "dt = np.dtype(\n",
        "    [\n",
        "        ('name','U20'),\n",
        "        ('iq',np.int32),\n",
        "        ('cgpa',np.float64),\n",
        "        ('placed','U20')\n",
        "    ]\n",
        ")"
      ]
    },
    {
      "cell_type": "code",
      "execution_count": 95,
      "metadata": {
        "colab": {
          "base_uri": "https://localhost:8080/"
        },
        "id": "xr3CeKE00x7S",
        "outputId": "a24665b3-d050-4c45-e847-93e13a322b91"
      },
      "outputs": [
        {
          "data": {
            "text/plain": [
              "dtype([('name', '<U20'), ('iq', '<i4'), ('cgpa', '<f8'), ('placed', '<U20')])"
            ]
          },
          "execution_count": 95,
          "metadata": {},
          "output_type": "execute_result"
        }
      ],
      "source": [
        "dt"
      ]
    },
    {
      "cell_type": "code",
      "execution_count": null,
      "metadata": {
        "colab": {
          "base_uri": "https://localhost:8080/"
        },
        "id": "yhTsdPzo1Iy-",
        "outputId": "5f325245-598c-4a82-e01c-7c298b72e703"
      },
      "outputs": [
        {
          "data": {
            "text/plain": [
              "array([('nitish', 100, 6.66, 'Yes'), ('ankit', 120, 8.9 , 'Yes'),\n",
              "       ('rahul',  80, 7.3 , 'No')],\n",
              "      dtype=[('name', '<U20'), ('iq', '<i4'), ('cgpa', '<f8'), ('placed', '<U20')])"
            ]
          },
          "execution_count": 103,
          "metadata": {},
          "output_type": "execute_result"
        }
      ],
      "source": [
        "stu = np.array(\n",
        "    [\n",
        "        ('nitish',100,6.66,'Yes'),\n",
        "        ('ankit',120,8.9,'Yes'),\n",
        "        ('rahul',80,7.3,'No')\n",
        "    ],dtype=dt\n",
        ")\n",
        "\n",
        "stu"
      ]
    },
    {
      "cell_type": "code",
      "execution_count": null,
      "metadata": {
        "colab": {
          "base_uri": "https://localhost:8080/"
        },
        "id": "UoV-BcN4Qdcq",
        "outputId": "ffb6cb23-877a-4977-bc0c-49aef50b2a0c"
      },
      "outputs": [
        {
          "data": {
            "text/plain": [
              "array(['Yes', 'Yes', 'No'], dtype='<U20')"
            ]
          },
          "execution_count": 113,
          "metadata": {},
          "output_type": "execute_result"
        }
      ],
      "source": [
        "stu['placed']"
      ]
    },
    {
      "cell_type": "code",
      "execution_count": null,
      "metadata": {
        "id": "dDqGiA4aFW1N"
      },
      "outputs": [],
      "source": [
        "# save and load numpy objects\n",
        "np.save('student.npy',stu)"
      ]
    },
    {
      "cell_type": "code",
      "execution_count": null,
      "metadata": {
        "id": "Ybf3-QxbF-cy"
      },
      "outputs": [],
      "source": [
        "# remaining functions\n",
        "# --> np.swapaxes\n",
        "# --> np.uniform\n",
        "# --> np.count_nonzero\n",
        "# --> np.tile\n",
        "# --> np.repeat\n",
        "# --> np.allclose"
      ]
    },
    {
      "cell_type": "markdown",
      "metadata": {
        "id": "uyIdcfJrUBOu"
      },
      "source": [
        "###`np.swapaxes(arr, axis1, axis2)`\n",
        "```\n",
        "Interchange two axes of an array.\n",
        "\n",
        "Syntax : numpy.swapaxes(arr, axis1, axis2)\n",
        "Parameters :\n",
        "arr : [array_like] input array.\n",
        "axis1 : [int] First axis.\n",
        "axis2 : [int] Second axis.\n",
        "Return : [ndarray]\n",
        "```"
      ]
    },
    {
      "cell_type": "code",
      "execution_count": null,
      "metadata": {
        "colab": {
          "base_uri": "https://localhost:8080/"
        },
        "id": "sNWyZKq8PP0g",
        "outputId": "76827025-60be-42c4-f0dc-465866635589"
      },
      "outputs": [
        {
          "name": "stdout",
          "output_type": "stream",
          "text": [
            "[[1 2 3]\n",
            " [4 5 6]]\n",
            "(2, 3)\n",
            "Swapped\n",
            "[[1 4]\n",
            " [2 5]\n",
            " [3 6]]\n",
            "(3, 2)\n"
          ]
        }
      ],
      "source": [
        "#Example\n",
        "x = np.array([[1,2,3],[4,5,6]])\n",
        "print(x)\n",
        "print(x.shape)\n",
        "print(\"Swapped\")\n",
        "x_swapped = np.swapaxes(x,0,1)\n",
        "print(x_swapped)\n",
        "print(x_swapped.shape)\n"
      ]
    },
    {
      "cell_type": "markdown",
      "metadata": {
        "id": "N5QSqBiSUHao"
      },
      "source": [
        "Note: It is not same as reshaping."
      ]
    },
    {
      "cell_type": "code",
      "execution_count": null,
      "metadata": {
        "colab": {
          "base_uri": "https://localhost:8080/"
        },
        "id": "V_yU-sGKNaxc",
        "outputId": "f0190a71-6735-4318-a16b-5b4fd1ffae44"
      },
      "outputs": [
        {
          "name": "stdout",
          "output_type": "stream",
          "text": [
            "[[1 2]\n",
            " [3 4]\n",
            " [5 6]]\n"
          ]
        }
      ],
      "source": [
        "x_reshaped = x.reshape(3,2)\n",
        "print(x_reshaped)"
      ]
    },
    {
      "cell_type": "markdown",
      "metadata": {
        "id": "TsGD3l74VcZM"
      },
      "source": [
        "###`numpy.random.uniform(low=0.0, high=1.0, size=None)`\n",
        "Draw samples from a uniform distribution in rangge [low - high); high not included.\n",
        "https://numpy.org/doc/stable/reference/random/generated/numpy.random.uniform.html\n",
        "```\n",
        "Syntax : numpy.random.uniform(low, high, size=None)\n",
        "            low -> lower bound of sample; default value is 0\n",
        "            high -> uper bound of sample; defalut value is 1.0\n",
        "            size -> shape of the desired sample. If the given shape is, e.g., (m, n, k), then m * n * k samples are drawn.\n",
        "\n",
        "Return : Return the random samples as numpy array.\n",
        "```\n",
        "When ever we need to test our model on uniform data and we might not get truly uniform data in real scenario, we can use this function to randomly generate data for us."
      ]
    },
    {
      "cell_type": "code",
      "execution_count": null,
      "metadata": {
        "colab": {
          "base_uri": "https://localhost:8080/"
        },
        "id": "DDJu9SYzYAqy",
        "outputId": "d6ecbd11-e57d-4cee-8ba1-d9e53bf8d275"
      },
      "outputs": [
        {
          "name": "stdout",
          "output_type": "stream",
          "text": [
            "[ 7.54634884  8.34285907  3.46529107  8.5453016  10.4852508   4.64808768\n",
            " 10.70041412  3.27949425  0.10020655  8.75951609]\n"
          ]
        }
      ],
      "source": [
        "#Example:\n",
        "uniform = np.random.uniform(0, 11, 10)\n",
        "print(uniform)"
      ]
    },
    {
      "cell_type": "code",
      "execution_count": null,
      "metadata": {
        "colab": {
          "base_uri": "https://localhost:8080/",
          "height": 265
        },
        "id": "3eKH3ELMNbjh",
        "outputId": "4f112c58-b4fb-4452-869d-18515199862f"
      },
      "outputs": [
        {
          "data": {
            "image/png": "[encoded data removed]",
            "text/plain": [
              "<Figure size 432x288 with 1 Axes>"
            ]
          },
          "metadata": {
            "needs_background": "light"
          },
          "output_type": "display_data"
        }
      ],
      "source": [
        "#Example:\n",
        "import matplotlib.pyplot as plt\n",
        "\n",
        "# Using uniform() method\n",
        "uniform = np.random.uniform(-5, 10, 1000)\n",
        "\n",
        "plt.hist(uniform, bins = 30, density = True)\n",
        "plt.show()"
      ]
    },
    {
      "cell_type": "code",
      "execution_count": null,
      "metadata": {
        "id": "VaPBDFXwANgK"
      },
      "outputs": [],
      "source": []
    },
    {
      "cell_type": "markdown",
      "metadata": {
        "id": "KGbOUpgnYhFX"
      },
      "source": [
        "###`np.count_nonzero(arr, axis=None)`\n",
        "This function counts the number of non-zero values in the array\n",
        "https://numpy.org/doc/stable/reference/generated/numpy.count_nonzero.html\n",
        "\n",
        "```\n",
        "Syntax : numpy.count_nonzero(arr, axis=None)\n",
        "\n",
        "Parameters :\n",
        "    arr : [array_like] The array for which to count non-zeros.\n",
        "\n",
        "    axis : [int or tuple, optional] Axis or tuple of axes along which to count non-zeros. Default is None, meaning that non-zeros will be counted along a flattened version of arr.\n",
        "\n",
        "    keepdims : [bool, optional] If this is set to True, the axes that are counted are left in the result as dimensions with size one.\n",
        "\n",
        "Return : [int or array of int] Number of non-zero values in the array along a given axis. Otherwise, the total number of non-zero values in the array is returned.\n",
        "```\n"
      ]
    },
    {
      "cell_type": "code",
      "execution_count": null,
      "metadata": {
        "colab": {
          "base_uri": "https://localhost:8080/"
        },
        "id": "NXTR807WAe6h",
        "outputId": "83bcbefe-7bb8-4a9f-b831-b21250a6e623"
      },
      "outputs": [
        {
          "name": "stdout",
          "output_type": "stream",
          "text": [
            "5\n",
            "[1 1 2 1]\n",
            "[2 3]\n"
          ]
        }
      ],
      "source": [
        "#Example\n",
        "\n",
        "a = np.array([[0, 1, 7, 0],\n",
        "              [3, 0, 2, 19]])\n",
        "\n",
        "print(np.count_nonzero(a))\n",
        "\n",
        "print(np.count_nonzero(a, axis=0))\n",
        "\n",
        "print(np.count_nonzero(a, axis=1))\n"
      ]
    },
    {
      "cell_type": "markdown",
      "metadata": {
        "id": "qGdsqNeRaZoS"
      },
      "source": [
        "###`np.tile(A, reps)`\n",
        "Construct an array by repeating `A` the number of times given by `reps`.\n",
        "If reps has length `d`, the result will have dimension of `max(d, A.ndim)`.\n",
        "```\n",
        "Parameters:\n",
        "\n",
        "    A: array_like\n",
        "        The input array.\n",
        "\n",
        "    reps: array_like\n",
        "        The number of repetitions of A along each axis.\n",
        "\n",
        "Returns\n",
        "    c: ndarray\n",
        "        The tiled output array.\n",
        "```\n",
        "https://numpy.org/doc/stable/reference/generated/numpy.tile.html"
      ]
    },
    {
      "cell_type": "code",
      "execution_count": null,
      "metadata": {
        "colab": {
          "base_uri": "https://localhost:8080/"
        },
        "id": "XYNFhAR2aOi1",
        "outputId": "acd955de-6702-4a0a-afdf-5b048b1e024a"
      },
      "outputs": [
        {
          "name": "stdout",
          "output_type": "stream",
          "text": [
            "[0 1 2]\n",
            "Tiled\n",
            "[0 1 2 0 1 2]\n"
          ]
        }
      ],
      "source": [
        "# np.tile - Example\n",
        "a = np.array([0, 1, 2])\n",
        "print(a)\n",
        "print(\"Tiled\")\n",
        "print(np.tile(a, 2))\n",
        "# Reps is given as 2 so whole array will get repeted 2 times\n"
      ]
    },
    {
      "cell_type": "code",
      "execution_count": null,
      "metadata": {
        "colab": {
          "base_uri": "https://localhost:8080/"
        },
        "id": "HcQlwdhXbnnK",
        "outputId": "b427fa6c-f487-472e-e847-7af08b119bcf"
      },
      "outputs": [
        {
          "data": {
            "text/plain": [
              "array([[0, 1, 2, 0, 1, 2],\n",
              "       [0, 1, 2, 0, 1, 2]])"
            ]
          },
          "execution_count": 15,
          "metadata": {},
          "output_type": "execute_result"
        }
      ],
      "source": [
        "np.tile(a, (2, 2))\n",
        "# Reps is given as (2, 2)\n",
        "# means along axis-0, 2 time repetition and\n",
        "# along axis-1, 2 times repetition\n",
        "# Axis-0 downward along the rows\n",
        "# Axis -1 rightward along columns -> or inside each rows."
      ]
    },
    {
      "cell_type": "code",
      "execution_count": null,
      "metadata": {
        "colab": {
          "base_uri": "https://localhost:8080/"
        },
        "id": "u_V1wzRebqly",
        "outputId": "1063069b-0fef-4fc8-d44f-07223e287150"
      },
      "outputs": [
        {
          "data": {
            "text/plain": [
              "array([[0, 1, 2, 0, 1, 2, 0, 1, 2],\n",
              "       [0, 1, 2, 0, 1, 2, 0, 1, 2]])"
            ]
          },
          "execution_count": 17,
          "metadata": {},
          "output_type": "execute_result"
        }
      ],
      "source": [
        "np.tile(a, (2, 3)) # Along axis-1 3 times repetition"
      ]
    },
    {
      "cell_type": "markdown",
      "metadata": {
        "id": "aEm7D7addAr4"
      },
      "source": [
        "###`np.repeat(a, repeats, axis=None)`\n",
        "Repeat elements of an array. `repeats` parameter says no of time to repeat\n",
        "\n",
        "```\n",
        "Parameters:\n",
        "            a: array_like\n",
        "                    Input array.\n",
        "\n",
        "            repeats: int or array of ints\n",
        "                    The number of repetitions for each element. repeats is broadcasted to fit the shape of the given axis.\n",
        "\n",
        "            axis: int, optional\n",
        "                    The axis along which to repeat values. By default, use the flattened input array, and return a flat output array.\n",
        "\n",
        "Returns:\n",
        "    repeated_array: ndarray\n",
        "                    Output array which has the same shape as a, except along the given axis.\n",
        "```\n",
        "https://numpy.org/doc/stable/reference/generated/numpy.repeat.html"
      ]
    },
    {
      "cell_type": "code",
      "execution_count": null,
      "metadata": {
        "colab": {
          "base_uri": "https://localhost:8080/"
        },
        "id": "R0HBfguMdFrN",
        "outputId": "de268810-45aa-4e6e-bf99-8b7960accadf"
      },
      "outputs": [
        {
          "name": "stdout",
          "output_type": "stream",
          "text": [
            "[[1 2]\n",
            " [3 4]]\n",
            "[1 1 2 2 3 3 4 4]\n"
          ]
        }
      ],
      "source": [
        "x = np.array([[1,2],[3,4]])\n",
        "print(x)\n",
        "print(np.repeat(x, 2)) # Every element is getting repeted 2 times."
      ]
    },
    {
      "cell_type": "code",
      "execution_count": null,
      "metadata": {
        "colab": {
          "base_uri": "https://localhost:8080/"
        },
        "id": "dfVGqGQ3eail",
        "outputId": "d3199c46-2a0a-45b9-e6a2-fc8b1bb52036"
      },
      "outputs": [
        {
          "name": "stdout",
          "output_type": "stream",
          "text": [
            "[[1 2]\n",
            " [3 4]]\n",
            "[[1 1 1 2 2 2]\n",
            " [3 3 3 4 4 4]]\n"
          ]
        }
      ],
      "source": [
        "print(x)\n",
        "print(np.repeat(x, 3, axis=1)) # Alog axis-1 means rightward inside rows/ along columns\n",
        "# Along axis-1 columns will increase"
      ]
    },
    {
      "cell_type": "code",
      "execution_count": null,
      "metadata": {
        "colab": {
          "base_uri": "https://localhost:8080/"
        },
        "id": "hzhGmfkFeyDj",
        "outputId": "c171339a-009b-48ea-da54-5759b5d5832d"
      },
      "outputs": [
        {
          "name": "stdout",
          "output_type": "stream",
          "text": [
            "[[1 2]\n",
            " [1 2]\n",
            " [1 2]\n",
            " [3 4]\n",
            " [3 4]\n",
            " [3 4]]\n"
          ]
        }
      ],
      "source": [
        "print(np.repeat(x, 3, axis=0)) # Alog axis-0 means downward to rows/ along inside a column\n",
        "# Along axis-0 rows will increase\n"
      ]
    },
    {
      "cell_type": "markdown",
      "metadata": {
        "id": "TrChGLOXdDT8"
      },
      "source": [
        "### `np.allclose`\n",
        "Returns True if two arrays are element-wise equal within a tolerance.\n",
        "\n",
        "The tolerance values are positive, typically very small numbers. The relative difference `(rtol * abs(b))` and the absolute difference `atol` are added together to compare against the `absolute difference` between `a and b`.\n",
        "\n",
        "If the following equation is element-wise True, then `allclose` returns `True`.\n",
        "\n",
        "> `absolute(a - b) <= (atol + rtol * absolute(b))`\n",
        "\n",
        "```\n",
        "Syntax : numpy.allclose(arr1, arr2, rtol, atol, equal_nan=False)\n",
        "\n",
        "Parameters :\n",
        "    arr1 : [array_like] Input 1st array.\n",
        "    arr2 : [array_like] Input 2nd array.\n",
        "    rtol : [float] The relative tolerance parameter.\n",
        "    atol : [float] The absolute tolerance parameter.\n",
        "    equal_nan : [bool] Whether to compare NaN’s as equal.\n",
        "            If True, NaN’s in arr1 will be considered equal to NaN’s in arr2 in the output array.\n",
        "\n",
        "Return : [ bool] Returns True if the two arrays are equal within the given tolerance, otherwise it returns False.\n",
        "```\n",
        "https://numpy.org/doc/stable/reference/generated/numpy.allclose.html\n",
        "https://www.geeksforgeeks.org/numpy-allclose-in-python/\n"
      ]
    },
    {
      "cell_type": "code",
      "execution_count": null,
      "metadata": {
        "colab": {
          "base_uri": "https://localhost:8080/"
        },
        "id": "WLQ2klKsbr8c",
        "outputId": "eb672b9b-78e5-4b0b-cbb7-5cb63316afd5"
      },
      "outputs": [
        {
          "name": "stdout",
          "output_type": "stream",
          "text": [
            "[1.1    1.2    1.0001]\n",
            "[1.    1.02  1.001]\n",
            "[0.1    0.18   0.0009]\n",
            "False\n",
            "True\n"
          ]
        }
      ],
      "source": [
        "#np.allclose example\n",
        "#Comparing -\n",
        "a = np.array([1.1, 1.2, 1.0001])\n",
        "b = np.array([1., 1.02, 1.001])\n",
        "print(a)\n",
        "print(b)\n",
        "print(np.abs(a-b))\n",
        "\n",
        "print(np.allclose(a,b)) # will return false\n",
        "print(np.allclose(a,b, atol=0.2)) # will return true, as i incearse the absolute tolerance value\n"
      ]
    },
    {
      "cell_type": "code",
      "execution_count": null,
      "metadata": {
        "colab": {
          "base_uri": "https://localhost:8080/"
        },
        "id": "b1DJ1Ep_h6uW",
        "outputId": "1679f57a-dbe2-4e79-c999-0e7e76ff43c7"
      },
      "outputs": [
        {
          "name": "stdout",
          "output_type": "stream",
          "text": [
            "False\n",
            "True\n"
          ]
        }
      ],
      "source": [
        "print(np.allclose([1.0, np.nan], [1.0, np.nan])) # Nan will be taken as different\n",
        "\n",
        "print(np.allclose([1.0, np.nan], [1.0, np.nan], equal_nan=True)) # Nan will be treated as same"
      ]
    },
    {
      "cell_type": "code",
      "execution_count": null,
      "metadata": {
        "id": "fnJmLYyQiL7M"
      },
      "outputs": [],
      "source": []
    }
  ],
  "metadata": {
    "colab": {
      "collapsed_sections": [
        "uyIdcfJrUBOu",
        "TsGD3l74VcZM",
        "KGbOUpgnYhFX",
        "qGdsqNeRaZoS",
        "aEm7D7addAr4",
        "TrChGLOXdDT8"
      ],
      "provenance": []
    },
    "kernelspec": {
      "display_name": "Python 3",
      "name": "python3"
    },
    "language_info": {
      "codemirror_mode": {
        "name": "ipython",
        "version": 3
      },
      "file_extension": ".py",
      "mimetype": "text/x-python",
      "name": "python",
      "nbconvert_exporter": "python",
      "pygments_lexer": "ipython3",
      "version": "3.12.0"
    }
  },
  "nbformat": 4,
  "nbformat_minor": 0
}
