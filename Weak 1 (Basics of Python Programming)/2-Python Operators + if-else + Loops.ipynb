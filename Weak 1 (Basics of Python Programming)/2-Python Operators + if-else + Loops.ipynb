{
 "cells": [
  {
   "cell_type": "markdown",
   "metadata": {},
   "source": [
    "# 1-Python Operators"
   ]
  },
  {
   "cell_type": "markdown",
   "metadata": {},
   "source": [
    "<h3>Python Operators</h3>\n",
    "Operators are used to perform operations on variables and values.\n",
    "\n",
    "In the example below, we use the + operator to add together two values:"
   ]
  },
  {
   "cell_type": "code",
   "execution_count": null,
   "metadata": {},
   "outputs": [
    {
     "name": "stdout",
     "output_type": "stream",
     "text": [
      "15\n"
     ]
    }
   ],
   "source": [
    "print(10 + 5)"
   ]
  },
  {
   "cell_type": "markdown",
   "metadata": {},
   "source": [
    "Python divides the operators in the following groups:\n",
    "<ul>\n",
    "<li>Arithmetic operators\n",
    "<li>Assignment operators\n",
    "<li>Comparison operators\n",
    "<li>Logical operators\n",
    "<li>Identity operators\n",
    "<li>Membership operators\n",
    "<li>Bitwise operators\n",
    "</ul>"
   ]
  },
  {
   "cell_type": "markdown",
   "metadata": {},
   "source": [
    "<h3>Python Arithmetic Operators</h3>\n",
    "Arithmetic operators are used with numeric values to perform common mathematical operations:\n",
    "\n",
    "\n",
    "<h2>Arithmetic Operators</h2>\n",
    "\n",
    "<table >\n",
    "    <tr>\n",
    "        <th>Operator</th>\n",
    "        <th>Name</th>\n",
    "        <th>Example</th>\n",
    "    </tr>\n",
    "    <tr>\n",
    "        <td>+</td>\n",
    "        <td>Addition</td>\n",
    "        <td>x + y</td>\n",
    "    </tr>\n",
    "    <tr>\n",
    "        <td>-</td>\n",
    "        <td>Subtraction</td>\n",
    "        <td>x - y</td>\n",
    "    </tr>\n",
    "    <tr>\n",
    "        <td>*</td>\n",
    "        <td>Multiplication</td>\n",
    "        <td>x * y</td>\n",
    "    </tr>\n",
    "    <tr>\n",
    "        <td>/</td>\n",
    "        <td>Division</td>\n",
    "        <td>x / y</td>\n",
    "    </tr>\n",
    "    <tr>\n",
    "        <td>%</td>\n",
    "        <td>Modulus</td>\n",
    "        <td>x % y</td>\n",
    "    </tr>\n",
    "    <tr>\n",
    "        <td>**</td>\n",
    "        <td>Exponentiation</td>\n",
    "        <td>x ** y</td>\n",
    "    </tr>\n",
    "    <tr>\n",
    "        <td>//</td>\n",
    "        <td>Floor division</td>\n",
    "        <td>x // y</td>\n",
    "    </tr>\n",
    "</table>\n",
    "\n",
    "<h2>Python Assignment Operators</h2>\n",
    "\n",
    "<table >\n",
    "    <tr>\n",
    "        <th>Operator</th>\n",
    "        <th>Example</th>\n",
    "        <th>Same As</th>\n",
    "    </tr>\n",
    "    <tr>\n",
    "        <td>=</td>\n",
    "        <td>x = 5</td>\n",
    "        <td>x = 5</td>\n",
    "    </tr>\n",
    "    <tr>\n",
    "        <td>+=</td>\n",
    "        <td>x += 3</td>\n",
    "        <td>x = x + 3</td>\n",
    "    </tr>\n",
    "    <tr>\n",
    "        <td>-=</td>\n",
    "        <td>x -= 3</td>\n",
    "        <td>x = x - 3</td>\n",
    "    </tr>\n",
    "    <tr>\n",
    "        <td>*</td>\n",
    "        <td>x *= 3</td>\n",
    "        <td>x = x * 3</td>\n",
    "    </tr>\n",
    "    <tr>\n",
    "        <td>/=</td>\n",
    "        <td>x /= 3</td>\n",
    "        <td>x = x / 3</td>\n",
    "    </tr>\n",
    "    <tr>\n",
    "        <td>%=</td>\n",
    "        <td>x %= 3</td>\n",
    "        <td>x = x % 3</td>\n",
    "    </tr>\n",
    "    <tr>\n",
    "        <td>//=</td>\n",
    "        <td>x //= 3</td>\n",
    "        <td>x = x // 3</td>\n",
    "    </tr>\n",
    "    <tr>\n",
    "        <td>**=</td>\n",
    "        <td>x **= 3</td>\n",
    "        <td>x = x ** 3</td>\n",
    "    </tr>\n",
    "    <tr>\n",
    "        <td>&=</td>\n",
    "        <td>x &= 3</td>\n",
    "        <td>x = x & 3</td>\n",
    "    </tr>\n",
    "    <tr>\n",
    "        <td>|=</td>\n",
    "        <td>x |= 3</td>\n",
    "        <td>x = x | 3</td>\n",
    "    </tr>\n",
    "    <tr>\n",
    "        <td>^=</td>\n",
    "        <td>x ^= 3</td>\n",
    "        <td>x = x ^ 3</td>\n",
    "    </tr>\n",
    "    <tr>\n",
    "        <td>>=</td>\n",
    "        <td>x >>= 3</td>\n",
    "        <td>x = x >> 3</td>\n",
    "    </tr>\n",
    "    <tr>\n",
    "        <td><<=</td>\n",
    "        <td>x <<= 3</td>\n",
    "        <td>x = x << 3</td>\n",
    "    </tr>\n",
    "</table>\n",
    "\n",
    "</body>\n",
    "</html>\n"
   ]
  },
  {
   "cell_type": "markdown",
   "metadata": {},
   "source": [
    "<h2>Python Comparison Operators</h2>\n",
    "<table >\n",
    "    <tr>\n",
    "        <th>Operator</th>\n",
    "        <th>Name</th>\n",
    "        <th>Example</th>\n",
    "    </tr>\n",
    "    <tr>\n",
    "        <td>==</td>\n",
    "        <td>Equal</td>\n",
    "        <td>x == y</td>\n",
    "    </tr>\n",
    "    <tr>\n",
    "        <td>!=</td>\n",
    "        <td>Not equal</td>\n",
    "        <td>x != y</td>\n",
    "    </tr>\n",
    "    <tr>\n",
    "        <td>&gt;</td>\n",
    "        <td>Greater than</td>\n",
    "        <td>x &gt; y</td>\n",
    "    </tr>\n",
    "    <tr>\n",
    "        <td>&lt;</td>\n",
    "        <td>Less than</td>\n",
    "        <td>x &lt; y</td>\n",
    "    </tr>\n",
    "    <tr>\n",
    "        <td>&gt;=</td>\n",
    "        <td>Greater than or equal to</td>\n",
    "        <td>x &gt;= y</td>\n",
    "    </tr>\n",
    "    <tr>\n",
    "        <td>&lt;=</td>\n",
    "        <td>Less than or equal to</td>\n",
    "        <td>x &lt;= y</td>\n",
    "    </tr>\n",
    "</table>\n"
   ]
  },
  {
   "cell_type": "markdown",
   "metadata": {},
   "source": [
    "\n",
    "<h2>Python Logical Operators</h2>\n",
    "\n",
    "<table >\n",
    "    <tr>\n",
    "        <th>Operator</th>\n",
    "        <th>Description</th>\n",
    "        <th>Example</th>\n",
    "    </tr>\n",
    "    <tr>\n",
    "        <td>and</td>\n",
    "        <td>Returns True if both statements are true</td>\n",
    "        <td>x &lt; 5 and x &lt; 10</td>\n",
    "    </tr>\n",
    "    <tr>\n",
    "        <td>or</td>\n",
    "        <td>Returns True if one of the statements is true</td>\n",
    "        <td>x &lt; 5 or x &lt; 4</td>\n",
    "    </tr>\n",
    "    <tr>\n",
    "        <td>not</td>\n",
    "        <td>Reverse the result, returns False if the result is true</td>\n",
    "        <td>not(x &lt; 5 and x &lt; 10)</td>\n",
    "    </tr>\n",
    "</table>\n",
    "\n",
    "<h2>Python Identity Operators</h2>\n",
    "\n",
    "<table >\n",
    "    <tr>\n",
    "        <th>Operator</th>\n",
    "        <th>Description</th>\n",
    "        <th>Example</th>\n",
    "    </tr>\n",
    "    <tr>\n",
    "        <td>is</td>\n",
    "        <td>Returns True if both variables are the same object</td>\n",
    "        <td>x is y</td>\n",
    "    </tr>\n",
    "    <tr>\n",
    "        <td>is not</td>\n",
    "        <td>Returns True if both variables are not the same object</td>\n",
    "        <td>x is not y</td>\n",
    "    </tr>\n",
    "</table>\n",
    "\n",
    "<h2>Python Membership Operators</h2>\n",
    "\n",
    "<table >\n",
    "    <tr>\n",
    "        <th>Operator</th>\n",
    "        <th>Description</th>\n",
    "        <th>Example</th>\n",
    "    </tr>\n",
    "    <tr>\n",
    "        <td>in</td>\n",
    "        <td>Returns True if a sequence with the specified value is present in the object</td>\n",
    "        <td>x in y</td>\n",
    "    </tr>\n",
    "    <tr>\n",
    "        <td>not in</td>\n",
    "        <td>Returns True if a sequence with the specified value is not present in the object</td>\n",
    "        <td>x not in y</td>\n",
    "    </tr>\n",
    "</table>\n",
    "\n",
    "<h2>Python Bitwise Operators</h2>\n",
    "\n",
    "<table >\n",
    "    <tr>\n",
    "        <th>Operator</th>\n",
    "        <th>Name</th>\n",
    "        <th>Description</th>\n",
    "        <th>Example</th>\n",
    "    </tr>\n",
    "    <tr>\n",
    "        <td>&</td>\n",
    "        <td>AND</td>\n",
    "        <td>Sets each bit to 1 if both bits are 1</td>\n",
    "        <td>x &amp; y</td>\n",
    "    </tr>\n",
    "    <tr>\n",
    "        <td>|</td>\n",
    "        <td>OR</td>\n",
    "        <td>Sets each bit to 1 if one of two bits is 1</td>\n",
    "        <td>x | y</td>\n",
    "    </tr>\n",
    "    <tr>\n",
    "        <td>^</td>\n",
    "        <td>XOR</td>\n",
    "        <td>Sets each bit to 1 if only one of two bits is 1</td>\n",
    "        <td>x ^ y</td>\n",
    "    </tr>\n",
    "    <tr>\n",
    "        <td>~</td>\n",
    "        <td>NOT</td>\n",
    "        <td>Inverts all the bits</td>\n",
    "        <td>~x</td>\n",
    "    </tr>\n",
    "    <tr>\n",
    "        <td>&lt;&lt;</td>\n",
    "        <td>Zero fill left shift</td>\n",
    "        <td>Shift left by pushing zeros in from the right and let the leftmost bits fall off</td>\n",
    "        <td>x &lt;&lt; 2</td>\n",
    "    </tr>\n",
    "    <tr>\n",
    "        <td>&gt;&gt;</td>\n",
    "        <td>Signed right shift</td>\n",
    "        <td>Shift right by pushing copies of the leftmost bit in from the left, and let the rightmost bits fall off</td>\n",
    "        <td>x &gt;&gt; 2</td>\n",
    "    </tr>\n",
    "</table>\n",
    "\n"
   ]
  },
  {
   "cell_type": "markdown",
   "metadata": {},
   "source": [
    "<h2>Operator Precedence</h2>\n",
    "<h2>Additional Operators</h2>\n",
    "\n",
    "<table border=\"1\">\n",
    "    <tr>\n",
    "        <th>Operator</th>\n",
    "        <th>Description</th>\n",
    "        <th></th>\n",
    "    </tr>\n",
    "    <tr>\n",
    "        <td>()</td>\n",
    "        <td>Parentheses</td>\n",
    "        <td></td>\n",
    "    </tr>\n",
    "    <tr>\n",
    "        <td>**</td>\n",
    "        <td>Exponentiation</td>\n",
    "        <td></td>\n",
    "    </tr>\n",
    "    <tr>\n",
    "        <td>+x  -x  ~x</td>\n",
    "        <td>Unary plus, unary minus, and bitwise NOT</td>\n",
    "        <td></td>\n",
    "    </tr>\n",
    "    <tr>\n",
    "        <td>*  /  //  %</td>\n",
    "        <td>Multiplication, division, floor division, and modulus</td>\n",
    "        <td></td>\n",
    "    </tr>\n",
    "    <tr>\n",
    "        <td>+  -</td>\n",
    "        <td>Addition and subtraction</td>\n",
    "        <td></td>\n",
    "    </tr>\n",
    "    <tr>\n",
    "        <td>&lt;&lt;  &gt;&gt;</td>\n",
    "        <td>Bitwise left and right shifts</td>\n",
    "        <td></td>\n",
    "    </tr>\n",
    "    <tr>\n",
    "        <td>&amp;</td>\n",
    "        <td>Bitwise AND</td>\n",
    "        <td></td>\n",
    "    </tr>\n",
    "    <tr>\n",
    "        <td>^</td>\n",
    "        <td>Bitwise XOR</td>\n",
    "        <td></td>\n",
    "    </tr>\n",
    "    <tr>\n",
    "        <td>|</td>\n",
    "        <td>Bitwise OR</td>\n",
    "        <td></td>\n",
    "    </tr>\n",
    "    <tr>\n",
    "        <td>==  !=  &gt;  &gt;=  &lt;  &lt;=  is  is not  in  not in</td>\n",
    "        <td>Comparisons, identity, and membership operators</td>\n",
    "        <td></td>\n",
    "    </tr>\n",
    "    <tr>\n",
    "        <td>not</td>\n",
    "        <td>Logical NOT</td>\n",
    "        <td></td>\n",
    "    </tr>\n",
    "    <tr>\n",
    "        <td>and</td>\n",
    "        <td>AND</td>\n",
    "        <td></td>\n",
    "    </tr>\n",
    "    <tr>\n",
    "        <td>or</td>\n",
    "        <td>OR</td>\n",
    "        <td></td>\n",
    "    </tr>\n",
    "</table>\n"
   ]
  },
  {
   "cell_type": "markdown",
   "metadata": {},
   "source": [
    "# 2-Python if-else"
   ]
  },
  {
   "cell_type": "code",
   "execution_count": 2,
   "metadata": {},
   "outputs": [
    {
     "name": "stdout",
     "output_type": "stream",
     "text": [
      "x is true\n"
     ]
    }
   ],
   "source": [
    "x=True\n",
    "if x is True:\n",
    "    print(\"x is true\")\n",
    "else:\n",
    "    print(\"x is false\")"
   ]
  },
  {
   "cell_type": "markdown",
   "metadata": {},
   "source": [
    "# 3-Python Modules"
   ]
  },
  {
   "cell_type": "markdown",
   "metadata": {},
   "source": [
    "Consider a module to be the same as a code library.\n",
    "\n",
    "A file containing a set of functions you want to include in your application.\n",
    "\n"
   ]
  },
  {
   "cell_type": "code",
   "execution_count": 6,
   "metadata": {},
   "outputs": [
    {
     "name": "stdout",
     "output_type": "stream",
     "text": [
      "Hello, John\n"
     ]
    }
   ],
   "source": [
    "def greeting(name):\n",
    "  print(\"Hello, \" + name)\n",
    "greeting(\"John\")"
   ]
  },
  {
   "cell_type": "markdown",
   "metadata": {},
   "source": [
    "Modules means multiples files use by using import modules"
   ]
  },
  {
   "cell_type": "markdown",
   "metadata": {},
   "source": [
    "# 4-While Loop\n",
    "We use for loop when we do not now how many times we run the loop"
   ]
  },
  {
   "cell_type": "code",
   "execution_count": 7,
   "metadata": {},
   "outputs": [
    {
     "name": "stdout",
     "output_type": "stream",
     "text": [
      "10\n",
      "9\n",
      "8\n",
      "7\n",
      "6\n",
      "5\n",
      "4\n",
      "3\n",
      "2\n",
      "1\n"
     ]
    }
   ],
   "source": [
    "i=10\n",
    "while i>0:\n",
    "    print(i)\n",
    "    i=i-1\n"
   ]
  },
  {
   "cell_type": "markdown",
   "metadata": {},
   "source": [
    "# 5-For Loop\n",
    "We use for loop when we now how many times we run the loop"
   ]
  },
  {
   "cell_type": "code",
   "execution_count": 8,
   "metadata": {},
   "outputs": [
    {
     "name": "stdout",
     "output_type": "stream",
     "text": [
      "0\n",
      "1\n",
      "2\n",
      "3\n",
      "4\n",
      "5\n",
      "6\n",
      "7\n",
      "8\n",
      "9\n"
     ]
    }
   ],
   "source": [
    "for i in range(10):\n",
    "    print(i)"
   ]
  },
  {
   "cell_type": "code",
   "execution_count": 9,
   "metadata": {},
   "outputs": [
    {
     "name": "stdout",
     "output_type": "stream",
     "text": [
      "1\n",
      "2\n",
      "3\n",
      "4\n"
     ]
    }
   ],
   "source": [
    "for i in range(1,5):\n",
    "    print(i)"
   ]
  },
  {
   "cell_type": "code",
   "execution_count": 11,
   "metadata": {},
   "outputs": [
    {
     "name": "stdout",
     "output_type": "stream",
     "text": [
      "1\n",
      "4\n",
      "7\n"
     ]
    }
   ],
   "source": [
    "for i in range(1,10,3):\n",
    "    print(i)"
   ]
  }
 ],
 "metadata": {
  "kernelspec": {
   "display_name": "base",
   "language": "python",
   "name": "python3"
  },
  "language_info": {
   "codemirror_mode": {
    "name": "ipython",
    "version": 3
   },
   "file_extension": ".py",
   "mimetype": "text/x-python",
   "name": "python",
   "nbconvert_exporter": "python",
   "pygments_lexer": "ipython3",
   "version": "3.11.5"
  }
 },
 "nbformat": 4,
 "nbformat_minor": 2
}
