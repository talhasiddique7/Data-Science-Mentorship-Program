{
 "cells": [
  {
   "cell_type": "markdown",
   "metadata": {},
   "source": [
    "# 1-Solving Loops Problems\n"
   ]
  },
  {
   "cell_type": "markdown",
   "metadata": {},
   "source": [
    "<a src=https://csiplearninghub.com/practice-questions-of-loops-in-python/>Python Problems<a>"
   ]
  },
  {
   "cell_type": "markdown",
   "metadata": {},
   "source": [
    "# 2-Break, Continue and Pass Statement"
   ]
  },
  {
   "cell_type": "markdown",
   "metadata": {},
   "source": [
    "<b>break</b><br>\tTerminate the current loop. Use the break statement to come out of the loop instantly.<br>\n",
    "<b>continue</b>\t<br>Skip the current iteration of a loop and move to the next iteration<br>\n",
    "<b>pass</b>\t<br>Do nothing. Ignore the condition in which it occurred and proceed to run the program as usual<br>"
   ]
  },
  {
   "cell_type": "code",
   "execution_count": 1,
   "metadata": {},
   "outputs": [
    {
     "name": "stdout",
     "output_type": "stream",
     "text": [
      "current number 10\n",
      "current number 40\n"
     ]
    }
   ],
   "source": [
    "#break\n",
    "numbers = [10, 40, 120, 230]\n",
    "for i in numbers:\n",
    "    if i > 100:\n",
    "        break\n",
    "    print('current number', i)"
   ]
  },
  {
   "cell_type": "code",
   "execution_count": 2,
   "metadata": {},
   "outputs": [
    {
     "name": "stdout",
     "output_type": "stream",
     "text": [
      "Current Number is 2\n",
      "Square of a current number is 4\n",
      "Current Number is 3\n",
      "Square of a current number is 9\n",
      "Current Number is 11\n",
      "Current Number is 7\n",
      "Square of a current number is 49\n"
     ]
    }
   ],
   "source": [
    "#continue\n",
    "numbers = [2, 3, 11, 7]\n",
    "for i in numbers:\n",
    "    print('Current Number is', i)\n",
    "    # skip below statement if number is greater than 10\n",
    "    if i > 10:\n",
    "        continue\n",
    "    square = i * i\n",
    "    print('Square of a current number is', square)"
   ]
  },
  {
   "cell_type": "code",
   "execution_count": 3,
   "metadata": {},
   "outputs": [
    {
     "name": "stdout",
     "output_type": "stream",
     "text": [
      "['January', 'June', 'March', 'April']\n"
     ]
    }
   ],
   "source": [
    "#pass\n",
    "months = ['January', 'June', 'March', 'April']\n",
    "for mon in months:\n",
    "    pass\n",
    "print(months)"
   ]
  },
  {
   "cell_type": "markdown",
   "metadata": {},
   "source": [
    "# 3-Strings\n"
   ]
  },
  {
   "cell_type": "markdown",
   "metadata": {},
   "source": [
    "Strings in python are surrounded by either single quotation marks, or double quotation marks.\n",
    "\n",
    "'hello' is the same as \"hello\".\n",
    "\n",
    "You can display a string literal with the print() function:"
   ]
  },
  {
   "cell_type": "code",
   "execution_count": 4,
   "metadata": {},
   "outputs": [
    {
     "name": "stdout",
     "output_type": "stream",
     "text": [
      "Hello\n",
      "Hello\n"
     ]
    }
   ],
   "source": [
    "print(\"Hello\")\n",
    "print('Hello')"
   ]
  },
  {
   "cell_type": "code",
   "execution_count": null,
   "metadata": {},
   "outputs": [],
   "source": [
    "#assign string to a variable\n",
    "a = \"Hello\"\n",
    "print(a)"
   ]
  },
  {
   "cell_type": "markdown",
   "metadata": {},
   "source": [
    "<h3>Multiline strings</h3>\n",
    "You can assign a multiline string to a variable by using three quotes:"
   ]
  },
  {
   "cell_type": "code",
   "execution_count": 5,
   "metadata": {},
   "outputs": [
    {
     "name": "stdout",
     "output_type": "stream",
     "text": [
      "Lorem ipsum dolor sit amet,\n",
      "consectetur adipiscing elit,\n",
      "sed do eiusmod tempor incididunt\n",
      "ut labore et dolore magna aliqua.\n"
     ]
    }
   ],
   "source": [
    "a = \"\"\"Lorem ipsum dolor sit amet,\n",
    "consectetur adipiscing elit,\n",
    "sed do eiusmod tempor incididunt\n",
    "ut labore et dolore magna aliqua.\"\"\"\n",
    "print(a)"
   ]
  },
  {
   "cell_type": "markdown",
   "metadata": {},
   "source": [
    "# 4-String Indexing\n",
    "Like many other popular programming languages, strings in Python are arrays of bytes representing unicode characters.\n",
    "\n",
    "However, Python does not have a character data type, a single character is simply a string with a length of 1.\n",
    "\n",
    "Square brackets can be used to access elements of the string."
   ]
  },
  {
   "cell_type": "code",
   "execution_count": 6,
   "metadata": {},
   "outputs": [
    {
     "name": "stdout",
     "output_type": "stream",
     "text": [
      "H\n"
     ]
    }
   ],
   "source": [
    "a='Hello World'\n",
    "print(a[0])"
   ]
  },
  {
   "cell_type": "code",
   "execution_count": 7,
   "metadata": {},
   "outputs": [
    {
     "name": "stdout",
     "output_type": "stream",
     "text": [
      "Hello World\n"
     ]
    }
   ],
   "source": [
    "#print whole string using slice operator\n",
    "a='Hello World'\n",
    "print(a[:])"
   ]
  },
  {
   "cell_type": "code",
   "execution_count": 10,
   "metadata": {},
   "outputs": [
    {
     "name": "stdout",
     "output_type": "stream",
     "text": [
      "Hello World"
     ]
    }
   ],
   "source": [
    "#print whole string by using loop\n",
    "a='Hello World'\n",
    "for i in a:\n",
    "    print(i,end=\"\")"
   ]
  },
  {
   "cell_type": "markdown",
   "metadata": {},
   "source": [
    "# 5-String Slicing\n",
    "You can return a range of characters by using the slice syntax.\n",
    "\n",
    "Specify the start index and the end index, separated by a colon, to return a part of the string."
   ]
  },
  {
   "cell_type": "code",
   "execution_count": 11,
   "metadata": {},
   "outputs": [
    {
     "name": "stdout",
     "output_type": "stream",
     "text": [
      "llo\n"
     ]
    }
   ],
   "source": [
    "b = \"Hello, World!\"\n",
    "print(b[2:5])"
   ]
  },
  {
   "cell_type": "markdown",
   "metadata": {},
   "source": [
    "Negative Indexing\n",
    "Use negative indexes to start the slice from the end of the string:\n",
    "Example\n",
    "Get the characters:\n",
    "\n",
    "From: \"o\" in \"World!\" (position -5)\n",
    "\n",
    "To, but not included: \"d\" in \"World!\" (position -2):"
   ]
  },
  {
   "cell_type": "code",
   "execution_count": 12,
   "metadata": {},
   "outputs": [
    {
     "name": "stdout",
     "output_type": "stream",
     "text": [
      "orl\n"
     ]
    }
   ],
   "source": [
    "b = \"Hello, World!\"\n",
    "print(b[-5:-2])"
   ]
  },
  {
   "cell_type": "markdown",
   "metadata": {},
   "source": [
    "# 6-Edit and Delete a String"
   ]
  },
  {
   "cell_type": "code",
   "execution_count": 14,
   "metadata": {},
   "outputs": [
    {
     "name": "stdout",
     "output_type": "stream",
     "text": [
      "Jello World\n"
     ]
    }
   ],
   "source": [
    "#edit string by using replace function\n",
    "a='Hello World'\n",
    "a=a.replace('H','J')\n",
    "print(a)"
   ]
  },
  {
   "cell_type": "code",
   "execution_count": 16,
   "metadata": {},
   "outputs": [
    {
     "name": "stdout",
     "output_type": "stream",
     "text": [
      "Jessica \n"
     ]
    }
   ],
   "source": [
    "developer = 'Jessica Wilkins'\n",
    "developer=developer.replace('Wilkins', '')\n",
    "print(developer)"
   ]
  },
  {
   "cell_type": "markdown",
   "metadata": {},
   "source": [
    "# 7-Operation on String\n",
    "Python has a set of built-in methods that you can use on strings."
   ]
  },
  {
   "cell_type": "markdown",
   "metadata": {},
   "source": [
    "<!DOCTYPE html>\n",
    "<html>\n",
    "<head>\n",
    "    <title>String Methods in Python</title>\n",
    "</head>\n",
    "<body>\n",
    "\n",
    "<h2>String Methods in Python</h2>\n",
    "\n",
    "<table border=\"1\">\n",
    "    <tr>\n",
    "        <th>Method</th>\n",
    "        <th>Description</th>\n",
    "    </tr>\n",
    "    <tr>\n",
    "        <td>capitalize()</td>\n",
    "        <td>Converts the first character to upper case</td>\n",
    "    </tr>\n",
    "    <tr>\n",
    "        <td>casefold()</td>\n",
    "        <td>Converts string into lower case</td>\n",
    "    </tr>\n",
    "    <tr>\n",
    "        <td>center()</td>\n",
    "        <td>Returns a centered string</td>\n",
    "    </tr>\n",
    "    <tr>\n",
    "        <td>count()</td>\n",
    "        <td>Returns the number of times a specified value occurs in a string</td>\n",
    "    </tr>\n",
    "    <tr>\n",
    "        <td>encode()</td>\n",
    "        <td>Returns an encoded version of the string</td>\n",
    "    </tr>\n",
    "    <tr>\n",
    "        <td>endswith()</td>\n",
    "        <td>Returns true if the string ends with the specified value</td>\n",
    "    </tr>\n",
    "    <tr>\n",
    "        <td>expandtabs()</td>\n",
    "        <td>Sets the tab size of the string</td>\n",
    "    </tr>\n",
    "    <tr>\n",
    "        <td>find()</td>\n",
    "        <td>Searches the string for a specified value and returns the position of where it was found</td>\n",
    "    </tr>\n",
    "    <tr>\n",
    "        <td>format()</td>\n",
    "        <td>Formats specified values in a string</td>\n",
    "    </tr>\n",
    "    <tr>\n",
    "        <td>format_map()</td>\n",
    "        <td>Formats specified values in a string</td>\n",
    "    </tr>\n",
    "    <tr>\n",
    "        <td>index()</td>\n",
    "        <td>Searches the string for a specified value and returns the position of where it was found</td>\n",
    "    </tr>\n",
    "    <tr>\n",
    "        <td>isalnum()</td>\n",
    "        <td>Returns True if all characters in the string are alphanumeric</td>\n",
    "    </tr>\n",
    "    <tr>\n",
    "        <td>isalpha()</td>\n",
    "        <td>Returns True if all characters in the string are in the alphabet</td>\n",
    "    </tr>\n",
    "    <tr>\n",
    "        <td>isascii()</td>\n",
    "        <td>Returns True if all characters in the string are ascii characters</td>\n",
    "    </tr>\n",
    "    <tr>\n",
    "        <td>isdecimal()</td>\n",
    "        <td>Returns True if all characters in the string are decimals</td>\n",
    "    </tr>\n",
    "    <tr>\n",
    "        <td>isdigit()</td>\n",
    "        <td>Returns True if all characters in the string are digits</td>\n",
    "    </tr>\n",
    "    <tr>\n",
    "        <td>isidentifier()</td>\n",
    "        <td>Returns True if the string is an identifier</td>\n",
    "    </tr>\n",
    "    <tr>\n",
    "        <td>islower()</td>\n",
    "        <td>Returns True if all characters in the string are lower case</td>\n",
    "    </tr>\n",
    "    <tr>\n",
    "        <td>isnumeric()</td>\n",
    "        <td>Returns True if all characters in the string are numeric</td>\n",
    "    </tr>\n",
    "    <tr>\n",
    "        <td>isprintable()</td>\n",
    "        <td>Returns True if all characters in the string are printable</td>\n",
    "    </tr>\n",
    "    <tr>\n",
    "        <td>isspace()</td>\n",
    "        <td>Returns True if all characters in the string are whitespaces</td>\n",
    "    </tr>\n",
    "    <tr>\n",
    "        <td>istitle()</td>\n",
    "        <td>Returns True if the string follows the rules of a title</td>\n",
    "    </tr>\n",
    "    <tr>\n",
    "        <td>isupper()</td>\n",
    "        <td>Returns True if all characters in the string are upper case</td>\n",
    "    </tr>\n",
    "    <tr>\n",
    "        <td>join()</td>\n",
    "        <td>Converts the elements of an iterable into a string</td>\n",
    "    </tr>\n",
    "    <tr>\n",
    "        <td>ljust()</td>\n",
    "        <td>Returns a left justified version of the string</td>\n",
    "    </tr>\n",
    "    <tr>\n",
    "        <td>lower()</td>\n",
    "        <td>Converts a string into lower case</td>\n",
    "    </tr>\n",
    "    <tr>\n",
    "        <td>lstrip()</td>\n",
    "        <td>Returns a left trim version of the string</td>\n",
    "    </tr>\n",
    "    <tr>\n",
    "        <td>maketrans()</td>\n",
    "        <td>Returns a translation table to be used in translations</td>\n",
    "    </tr>\n",
    "    <tr>\n",
    "        <td>partition()</td>\n",
    "        <td>Returns a tuple where the string is parted into three parts</td>\n",
    "    </tr>\n",
    "    <tr>\n",
    "        <td>replace()</td>\n",
    "        <td>Returns a string where a specified value is replaced with a specified value</td>\n",
    "    </tr>\n",
    "    <tr>\n",
    "        <td>rfind()</td>\n",
    "        <td>Searches the string for a specified value and returns the last position of where it was found</td>\n",
    "    </tr>\n",
    "    <tr>\n",
    "        <td>rindex()</td>\n",
    "        <td>Searches the string for a specified value and returns the last position of where it was found</td>\n",
    "    </tr>\n",
    "    <tr>\n",
    "        <td>rjust()</td>\n",
    "        <td>Returns a right justified version of the string</td>\n",
    "    </tr>\n",
    "    <tr>\n",
    "        <td>rpartition()</td>\n",
    "        <td>Returns a tuple where the string is parted into three parts</td>\n",
    "    </tr>\n",
    "    <tr>\n",
    "        <td>rsplit()</td>\n",
    "        <td>Splits the string at the specified separator, and returns a list</td>\n",
    "    </tr>\n",
    "    <tr>\n",
    "        <td>rstrip()</td>\n",
    "        <td>Returns a right trim version of the string</td>\n",
    "    </tr>\n",
    "    <tr>\n",
    "        <td>split()</td>\n",
    "        <td>Splits the string at the specified separator, and returns a list</td>\n",
    "    </tr>\n",
    "    <tr>\n",
    "        <td>splitlines()</td>\n",
    "        <td>Splits the string at line breaks and returns a list</td>\n",
    "    </tr>\n",
    "    <tr>\n",
    "        <td>startswith()</td>\n",
    "        <td>Returns true if the string starts with the specified value</td>\n",
    "    </tr>\n",
    "    <tr>\n",
    "        <td>strip()</td>\n",
    "        <td>Returns a trimmed version of the string</td>\n",
    "    </tr>\n",
    "    <tr>\n",
    "        <td>swapcase()</td>\n",
    "        <td>Swaps cases, lower case becomes upper case and vice versa</td>\n",
    "    </tr>\n",
    "    <tr>\n",
    "        <td>title()</td>\n",
    "        <td>Converts the first character of each word to upper case</td>\n",
    "    </tr>\n",
    "    <tr>\n",
    "        <td>translate()</td>\n",
    "        <td>Returns a translated string</td>\n",
    "    </tr>\n",
    "    <tr>\n",
    "        <td>upper()</td>\n",
    "        <td>Converts a string into upper case</td>\n",
    "    </tr>\n",
    "    <tr>\n",
    "        <td>zfill()</td>\n",
    "        <td>Fills the string with a specified number of 0 values at the beginning</td>\n",
    "    </tr>\n",
    "</table>\n",
    "\n",
    "</body>\n",
    "</html>\n"
   ]
  },
  {
   "cell_type": "markdown",
   "metadata": {},
   "source": [
    "# 8-Common String Functions"
   ]
  },
  {
   "cell_type": "markdown",
   "metadata": {},
   "source": [
    "See heading no 7"
   ]
  }
 ],
 "metadata": {
  "kernelspec": {
   "display_name": "Python 3",
   "language": "python",
   "name": "python3"
  },
  "language_info": {
   "codemirror_mode": {
    "name": "ipython",
    "version": 3
   },
   "file_extension": ".py",
   "mimetype": "text/x-python",
   "name": "python",
   "nbconvert_exporter": "python",
   "pygments_lexer": "ipython3",
   "version": "3.12.0"
  }
 },
 "nbformat": 4,
 "nbformat_minor": 2
}
