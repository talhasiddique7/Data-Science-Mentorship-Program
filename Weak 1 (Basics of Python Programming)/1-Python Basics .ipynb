{
 "cells": [
  {
   "cell_type": "markdown",
   "id": "6e3b5884",
   "metadata": {},
   "source": [
    "# Python introduction"
   ]
  },
  {
   "cell_type": "markdown",
   "id": "c9735446",
   "metadata": {},
   "source": [
    "<h2>What is Python?</h2>\n",
    "<p>Python is a popular programming language. It was created by Guido van Rossum, and released in 1991.</p>\n",
    "\n",
    "<h2>It is used for:</h2>\n",
    "<ul>\n",
    "<li>web development (server-side)</li>\n",
    "<li>software development</li>\n",
    "<li>mathematics</li>\n",
    "<li>system scripting</li>\n",
    "</ul>\n",
    "\n",
    "<h2>What can Python do?</h2>\n",
    "<ul>\n",
    "<li>Python can be used on a server to create web applications.</li>\n",
    "<li>Python can be used alongside software to create workflows.</li>\n",
    "<li>Python can connect to database systems. It can also read and modify files.</li>\n",
    "<li>Python can be used to handle big data and perform complex mathematics.</li>\n",
    "<li>Python can be used for rapid prototyping, or for production-ready software development.</li>\n",
    "</ul>   \n",
    "<h2>Why Python?</h2>\n",
    "<ul>\n",
    "<li>Python works on different platforms (Windows, Mac, Linux, Raspberry Pi, etc).</li>\n",
    "<li>Python has a simple syntax similar to the English language.</li>\n",
    "<li>Python has syntax that allows developers to write programs with fewer lines than some other programming languages.</li>\n",
    "<li>Python runs on an interpreter system, meaning that code can be executed as soon as it is written. This means that prototyping can be very quick.</li>\n",
    "<li>Python can be treated in a procedural way, an object-oriented way or a functional way.</li>\n",
    "\n",
    "<li>The most recent major version of Python is Python 3, which we shall be using in this tutorial. However, Python 2, although not being updated with anything other than security updates, is still quite popular.</li>\n",
    "<li>In this tutorial Python will be written in a text editor. It is possible to write Python in an Integrated Development Environment, such as Thonny, Pycharm, Netbeans or Eclipse which are particularly useful when managing larger collections of Python files.</li>\n",
    "<li>Python Syntax compared to other programming languages.</li>\n",
    "<li>Python was designed for readability, and has some similarities to the English language with influence from mathematics.</li>\n",
    "<li>Python uses new lines to complete a command, as opposed to other programming languages which often use semicolons or parentheses.</li>\n",
    "<li>Python relies on indentation, using whitespace, to define scope; such as the scope of loops, functions and classes. Other programming languages often use curly-brackets for this purpose.</li>\n",
    "    </ul>"
   ]
  },
  {
   "cell_type": "markdown",
   "id": "37486219",
   "metadata": {},
   "source": [
    "# 1-Python Setups"
   ]
  },
  {
   "cell_type": "markdown",
   "id": "d2a92755",
   "metadata": {},
   "source": [
    "<a>https://www.python.org/downloads/</a>"
   ]
  },
  {
   "cell_type": "markdown",
   "id": "c8341e30",
   "metadata": {},
   "source": [
    "# 2-Print or Output Function"
   ]
  },
  {
   "cell_type": "code",
   "execution_count": 1,
   "id": "cee23a21",
   "metadata": {},
   "outputs": [
    {
     "name": "stdout",
     "output_type": "stream",
     "text": [
      "Hello World\n"
     ]
    }
   ],
   "source": [
    "#Output String\n",
    "print(\"Hello World\")"
   ]
  },
  {
   "cell_type": "code",
   "execution_count": 2,
   "id": "32177ae8",
   "metadata": {},
   "outputs": [
    {
     "name": "stdout",
     "output_type": "stream",
     "text": [
      "Hello World\n"
     ]
    }
   ],
   "source": [
    "#Output String\n",
    "print('Hello World')"
   ]
  },
  {
   "cell_type": "markdown",
   "id": "8cecc9e2",
   "metadata": {},
   "source": [
    "# 3-Python Varaibles"
   ]
  },
  {
   "cell_type": "markdown",
   "id": "97ce247c",
   "metadata": {},
   "source": [
    "<h2>Variables</h2>\n",
    "Variables are containers for storing data values."
   ]
  },
  {
   "cell_type": "markdown",
   "id": "3de84a1f",
   "metadata": {},
   "source": [
    "<h2>Creating Variables</h2>\n",
    "Python has no command for declaring a variable.\n",
    "\n",
    "A variable is created the moment you first assign a value to it."
   ]
  },
  {
   "cell_type": "code",
   "execution_count": 3,
   "id": "faa9ab7c",
   "metadata": {},
   "outputs": [
    {
     "name": "stdout",
     "output_type": "stream",
     "text": [
      "5\n",
      "John\n"
     ]
    }
   ],
   "source": [
    "x = 5\n",
    "y = \"John\"\n",
    "print(x)\n",
    "print(y)"
   ]
  },
  {
   "cell_type": "markdown",
   "id": "055d0337",
   "metadata": {},
   "source": [
    "Variables do not need to be declared with any particular type, and can even change type after they have been set."
   ]
  },
  {
   "cell_type": "code",
   "execution_count": 4,
   "id": "b8bce5fa",
   "metadata": {},
   "outputs": [
    {
     "name": "stdout",
     "output_type": "stream",
     "text": [
      "Sally\n"
     ]
    }
   ],
   "source": [
    "x = 4       # x is of type int\n",
    "x = \"Sally\" # x is now of type str\n",
    "print(x)"
   ]
  },
  {
   "cell_type": "markdown",
   "id": "397b51f5",
   "metadata": {},
   "source": [
    "<h2>Casting</h2>\n",
    "If you want to specify the data type of a variable, this can be done with casting."
   ]
  },
  {
   "cell_type": "code",
   "execution_count": 5,
   "id": "fd997816",
   "metadata": {},
   "outputs": [],
   "source": [
    "x = str(3)    # x will be '3'\n",
    "y = int(3)    # y will be 3\n",
    "z = float(3)  # z will be 3.0"
   ]
  },
  {
   "cell_type": "markdown",
   "id": "795e6b01",
   "metadata": {},
   "source": [
    "<h2>Get the Type</h2>\n",
    "You can get the data type of a variable with the type() function."
   ]
  },
  {
   "cell_type": "code",
   "execution_count": 6,
   "id": "b95a1ca1",
   "metadata": {},
   "outputs": [
    {
     "name": "stdout",
     "output_type": "stream",
     "text": [
      "<class 'int'>\n",
      "<class 'str'>\n"
     ]
    }
   ],
   "source": [
    "x = 5\n",
    "y = \"John\"\n",
    "print(type(x))\n",
    "print(type(y))"
   ]
  },
  {
   "cell_type": "markdown",
   "id": "5240f011",
   "metadata": {},
   "source": [
    "<h2>Case-Sensitive</h2>\n",
    "Variable names are case-sensitive."
   ]
  },
  {
   "cell_type": "code",
   "execution_count": 7,
   "id": "d71ebe5c",
   "metadata": {},
   "outputs": [],
   "source": [
    "a = 4\n",
    "A = \"Sally\"\n",
    "#A will not overwrite a"
   ]
  },
  {
   "cell_type": "markdown",
   "id": "cdd8e1e5",
   "metadata": {},
   "source": [
    "<h2>Variable Names</h2>\n",
    "A variable can have a short name (like x and y) or a more descriptive name (age, carname, total_volume). Rules for Python variables:\n",
    "\n",
    "<li>A variable name must start with a letter or the underscore character</li>\n",
    "<li>A variable name cannot start with a number</li>\n",
    "<li>A variable name can only contain alpha-numeric characters and underscores (A-z, 0-9, and _ )</li>\n",
    "<li>Variable names are case-sensitive (age, Age and AGE are three different variables)</li>\n",
    "<li>A variable name cannot be any of the Python keywords.</li>"
   ]
  },
  {
   "cell_type": "code",
   "execution_count": 8,
   "id": "7cd7c18c",
   "metadata": {},
   "outputs": [],
   "source": [
    "myvar = \"John\"\n",
    "my_var = \"John\"\n",
    "_my_var = \"John\"\n",
    "myVar = \"John\"\n",
    "MYVAR = \"John\"\n",
    "myvar2 = \"John\""
   ]
  },
  {
   "cell_type": "markdown",
   "id": "52233275",
   "metadata": {},
   "source": [
    "<h2>Multi Words Variable Names</h2>\n",
    "Variable names with more than one word can be difficult to read.\n",
    "\n",
    "There are several techniques you can use to make them more readable:\n",
    "\n",
    "<h2>Camel Case</h2>\n",
    "Each word, except the first, starts with a capital letter:"
   ]
  },
  {
   "cell_type": "code",
   "execution_count": 9,
   "id": "ebf8867c",
   "metadata": {},
   "outputs": [],
   "source": [
    "myVariableName = \"John\""
   ]
  },
  {
   "cell_type": "markdown",
   "id": "a3405f07",
   "metadata": {},
   "source": [
    "<h2>Pascal Case</h2>\n",
    "Each word starts with a capital letter:"
   ]
  },
  {
   "cell_type": "code",
   "execution_count": 10,
   "id": "6b5e1877",
   "metadata": {},
   "outputs": [],
   "source": [
    "MyVariableName = \"John\""
   ]
  },
  {
   "cell_type": "markdown",
   "id": "4aadd290",
   "metadata": {},
   "source": [
    "<h2>Snake Case</h2>\n",
    "Each word is separated by an underscore character:"
   ]
  },
  {
   "cell_type": "code",
   "execution_count": 11,
   "id": "d3efb06f",
   "metadata": {},
   "outputs": [],
   "source": [
    "my_variable_name = \"John\""
   ]
  },
  {
   "cell_type": "markdown",
   "id": "aa9b5f8d",
   "metadata": {},
   "source": [
    "<h2>Many Values to Multiple Variables</h2>\n",
    "Python allows you to assign values to multiple variables in one line:"
   ]
  },
  {
   "cell_type": "code",
   "execution_count": 12,
   "id": "2a165147",
   "metadata": {},
   "outputs": [
    {
     "name": "stdout",
     "output_type": "stream",
     "text": [
      "Orange\n",
      "Banana\n",
      "Cherry\n"
     ]
    }
   ],
   "source": [
    "x, y, z = \"Orange\", \"Banana\", \"Cherry\"\n",
    "print(x)\n",
    "print(y)\n",
    "print(z)"
   ]
  },
  {
   "cell_type": "markdown",
   "id": "9ccc3c7e",
   "metadata": {},
   "source": [
    "<h2>One Value to Multiple Variables</h2>\n",
    "And you can assign the same value to multiple variables in one line:"
   ]
  },
  {
   "cell_type": "code",
   "execution_count": 13,
   "id": "ccee4fdb",
   "metadata": {},
   "outputs": [
    {
     "name": "stdout",
     "output_type": "stream",
     "text": [
      "Orange\n",
      "Orange\n",
      "Orange\n"
     ]
    }
   ],
   "source": [
    "x = y = z = \"Orange\"\n",
    "print(x)\n",
    "print(y)\n",
    "print(z)"
   ]
  },
  {
   "cell_type": "markdown",
   "id": "76027644",
   "metadata": {},
   "source": [
    "<h2>Global Variables</h2>\n",
    "Variables that are created outside of a function (as in all of the examples above) are known as global variables.\n",
    "\n",
    "Global variables can be used by everyone, both inside of functions and outside.\n",
    "\n",
    "Create a variable outside of a function, and use it inside the function\n"
   ]
  },
  {
   "cell_type": "code",
   "execution_count": 14,
   "id": "f5a297e8",
   "metadata": {},
   "outputs": [
    {
     "name": "stdout",
     "output_type": "stream",
     "text": [
      "Python is awesome\n"
     ]
    }
   ],
   "source": [
    "x = \"awesome\"\n",
    "\n",
    "def myfunc():\n",
    "  print(\"Python is \" + x)\n",
    "\n",
    "myfunc()"
   ]
  },
  {
   "cell_type": "markdown",
   "id": "50d3b4cb",
   "metadata": {},
   "source": [
    "<h2>The global Keyword</h2>\n",
    "Normally, when you create a variable inside a function, that variable is local, and can only be used inside that function.\n",
    "\n",
    "To create a global variable inside a function, you can use the global keyword."
   ]
  },
  {
   "cell_type": "code",
   "execution_count": 15,
   "id": "ea151a95",
   "metadata": {},
   "outputs": [
    {
     "name": "stdout",
     "output_type": "stream",
     "text": [
      "Python is fantastic\n"
     ]
    }
   ],
   "source": [
    "def myfunc():\n",
    "  global x\n",
    "  x = \"fantastic\"\n",
    "\n",
    "myfunc()\n",
    "\n",
    "print(\"Python is \" + x)"
   ]
  },
  {
   "cell_type": "markdown",
   "id": "8c99210d",
   "metadata": {},
   "source": [
    "# 4-Input Function"
   ]
  },
  {
   "cell_type": "code",
   "execution_count": 16,
   "id": "15a00279",
   "metadata": {},
   "outputs": [
    {
     "name": "stdout",
     "output_type": "stream",
     "text": [
      "\n"
     ]
    }
   ],
   "source": [
    "#Take input by using input Function \n",
    "inp=input(\"Enter your Name\")\n",
    "print(inp)\n",
    "#by default the input taken is string type"
   ]
  },
  {
   "cell_type": "markdown",
   "id": "a29c89c0",
   "metadata": {},
   "source": [
    "# 5-Python Data Types"
   ]
  },
  {
   "cell_type": "markdown",
   "id": "d890d3d2",
   "metadata": {},
   "source": [
    "<h2>Built-in Data Types</h2>\n",
    "In programming, data type is an important concept.\n",
    "\n",
    "Variables can store data of different types, and different types can do different things.\n",
    "\n",
    "Python has the following data types built-in by default, in these categories:\n",
    "\n",
    "Text Type:\tstr <br>\n",
    "Numeric Types:\tint, float, complex<br>\n",
    "Sequence Types:\tlist, tuple, range<br>\n",
    "Mapping Type:\tdict<br>\n",
    "Set Types:\tset, frozenset<br>\n",
    "Boolean Type:\tbool<br>\n",
    "Binary Types:\tbytes, bytearray, memoryview<br>\n",
    "None Type:\tNoneType<br>"
   ]
  },
  {
   "cell_type": "markdown",
   "id": "98dbfae5",
   "metadata": {},
   "source": [
    "<h2>Setting the Data Type</h2>\n",
    "In Python, the data type is set when you assign a value to a variable:"
   ]
  },
  {
   "cell_type": "markdown",
   "id": "f052ffe0",
   "metadata": {},
   "source": [
    "\n",
    "\n",
    "<table>\n",
    "    <tr>\n",
    "        <th>Example</th>\n",
    "        <th>Data Type</th>\n",
    "        <th></th>\n",
    "    </tr>\n",
    "    <tr>\n",
    "        <td>x = \"Hello World\"</td>\n",
    "        <td>str</td>\n",
    "        <td></td>\n",
    "    </tr>\n",
    "    <tr>\n",
    "        <td>x = 20</td>\n",
    "        <td>int</td>\n",
    "        <td></td>\n",
    "    </tr>\n",
    "    <tr>\n",
    "        <td>x = 20.5</td>\n",
    "        <td>float</td>\n",
    "        <td></td>\n",
    "    </tr>\n",
    "    <tr>\n",
    "        <td>x = 1j</td>\n",
    "        <td>complex</td>\n",
    "        <td></td>\n",
    "    </tr>\n",
    "    <tr>\n",
    "        <td>x = [\"apple\", \"banana\", \"cherry\"]</td>\n",
    "        <td>list</td>\n",
    "        <td></td>\n",
    "    </tr>\n",
    "    <tr>\n",
    "        <td>x = (\"apple\", \"banana\", \"cherry\")</td>\n",
    "        <td>tuple</td>\n",
    "        <td></td>\n",
    "    </tr>\n",
    "    <tr>\n",
    "        <td>x = range(6)</td>\n",
    "        <td>range</td>\n",
    "        <td></td>\n",
    "    </tr>\n",
    "    <tr>\n",
    "        <td>x = {\"name\" : \"John\", \"age\" : 36}</td>\n",
    "        <td>dict</td>\n",
    "        <td></td>\n",
    "    </tr>\n",
    "    <tr>\n",
    "        <td>x = {\"apple\", \"banana\", \"cherry\"}</td>\n",
    "        <td>set</td>\n",
    "        <td></td>\n",
    "    </tr>\n",
    "    <tr>\n",
    "        <td>x = frozenset({\"apple\", \"banana\", \"cherry\"})</td>\n",
    "        <td>frozenset</td>\n",
    "        <td></td>\n",
    "    </tr>\n",
    "    <tr>\n",
    "        <td>x = True</td>\n",
    "        <td>bool</td>\n",
    "        <td></td>\n",
    "    </tr>\n",
    "    <tr>\n",
    "        <td>x = b\"Hello\"</td>\n",
    "        <td>bytes</td>\n",
    "        <td></td>\n",
    "    </tr>\n",
    "    <tr>\n",
    "        <td>x = bytearray(5)</td>\n",
    "        <td>bytearray</td>\n",
    "        <td></td>\n",
    "    </tr>\n",
    "    <tr>\n",
    "        <td>x = memoryview(bytes(5))</td>\n",
    "        <td>memoryview</td>\n",
    "        <td></td>\n",
    "    </tr>\n",
    "    <tr>\n",
    "        <td>x = None</td>\n",
    "        <td>NoneType</td>\n",
    "        <td></td>\n",
    "    </tr>\n",
    "</table>\n"
   ]
  },
  {
   "cell_type": "markdown",
   "id": "0d2df113",
   "metadata": {},
   "source": [
    "<h2>Setting the Specific Data Type</h2>\n",
    "If you want to specify the data type, you can use the following constructor functions:"
   ]
  },
  {
   "cell_type": "markdown",
   "id": "05c75356",
   "metadata": {},
   "source": [
    "\n",
    "<table>\n",
    "    <tr>\n",
    "        <th>Example</th>\n",
    "        <th>Data Type</th>\n",
    "        <th></th>\n",
    "    </tr>\n",
    "    <tr>\n",
    "        <td>x = \"Hello World\"</td>\n",
    "        <td>str</td>\n",
    "        <td></td>\n",
    "    </tr>\n",
    "    <tr>\n",
    "        <td>x = 20</td>\n",
    "        <td>int</td>\n",
    "        <td></td>\n",
    "    </tr>\n",
    "    <tr>\n",
    "        <td>x = 20.5</td>\n",
    "        <td>float</td>\n",
    "        <td></td>\n",
    "    </tr>\n",
    "    <tr>\n",
    "        <td>x = 1j</td>\n",
    "        <td>complex</td>\n",
    "        <td></td>\n",
    "    </tr>\n",
    "    <tr>\n",
    "        <td>x = [\"apple\", \"banana\", \"cherry\"]</td>\n",
    "        <td>list</td>\n",
    "        <td></td>\n",
    "    </tr>\n",
    "    <tr>\n",
    "        <td>x = (\"apple\", \"banana\", \"cherry\")</td>\n",
    "        <td>tuple</td>\n",
    "        <td></td>\n",
    "    </tr>\n",
    "    <tr>\n",
    "        <td>x = range(6)</td>\n",
    "        <td>range</td>\n",
    "        <td></td>\n",
    "    </tr>\n",
    "    <tr>\n",
    "        <td>x = {\"name\" : \"John\", \"age\" : 36}</td>\n",
    "        <td>dict</td>\n",
    "        <td></td>\n",
    "    </tr>\n",
    "    <tr>\n",
    "        <td>x = {\"apple\", \"banana\", \"cherry\"}</td>\n",
    "        <td>set</td>\n",
    "        <td></td>\n",
    "    </tr>\n",
    "    <tr>\n",
    "        <td>x = frozenset({\"apple\", \"banana\", \"cherry\"})</td>\n",
    "        <td>frozenset</td>\n",
    "        <td></td>\n",
    "    </tr>\n",
    "    <tr>\n",
    "        <td>x = True</td>\n",
    "        <td>bool</td>\n",
    "        <td></td>\n",
    "    </tr>\n",
    "    <tr>\n",
    "        <td>x = b\"Hello\"</td>\n",
    "        <td>bytes</td>\n",
    "        <td></td>\n",
    "    </tr>\n",
    "    <tr>\n",
    "        <td>x = bytearray(5)</td>\n",
    "        <td>bytearray</td>\n",
    "        <td></td>\n",
    "    </tr>\n",
    "    <tr>\n",
    "        <td>x = memoryview(bytes(5))</td>\n",
    "        <td>memoryview</td>\n",
    "        <td></td>\n",
    "    </tr>\n",
    "    <tr>\n",
    "        <td>x = None</td>\n",
    "        <td>NoneType</td>\n",
    "        <td></td>\n",
    "    </tr>\n",
    "    <!-- Additional data -->\n",
    "    <tr>\n",
    "        <td>x = str(\"Hello World\")</td>\n",
    "        <td>str</td>\n",
    "        <td></td>\n",
    "    </tr>\n",
    "    <tr>\n",
    "        <td>x = int(20)</td>\n",
    "        <td>int</td>\n",
    "        <td></td>\n",
    "    </tr>\n",
    "    <tr>\n",
    "        <td>x = float(20.5)</td>\n",
    "        <td>float</td>\n",
    "        <td></td>\n",
    "    </tr>\n",
    "    <tr>\n",
    "        <td>x = complex(1j)</td>\n",
    "        <td>complex</td>\n",
    "        <td></td>\n",
    "    </tr>\n",
    "    <tr>\n",
    "        <td>x = list((\"apple\", \"banana\", \"cherry\"))</td>\n",
    "        <td>list</td>\n",
    "        <td></td>\n",
    "    </tr>\n",
    "    <tr>\n",
    "        <td>x = tuple((\"apple\", \"banana\", \"cherry\"))</td>\n",
    "        <td>tuple</td>\n",
    "        <td></td>\n",
    "    </tr>\n",
    "    <tr>\n",
    "        <td>x = range(6)</td>\n",
    "        <td>range</td>\n",
    "        <td></td>\n",
    "    </tr>\n",
    "    <tr>\n",
    "        <td>x = dict(name=\"John\", age=36)</td>\n",
    "        <td>dict</td>\n",
    "        <td></td>\n",
    "    </tr>\n",
    "    <tr>\n",
    "        <td>x = set((\"apple\", \"banana\", \"cherry\"))</td>\n",
    "        <td>set</td>\n",
    "        <td></td>\n",
    "    </tr>\n",
    "    <tr>\n",
    "        <td>x = frozenset((\"apple\", \"banana\", \"cherry\"))</td>\n",
    "        <td>frozenset</td>\n",
    "        <td></td>\n",
    "    </tr>\n",
    "    <tr>\n",
    "        <td>x = bool(5)</td>\n",
    "        <td>bool</td>\n",
    "        <td></td>\n",
    "    </tr>\n",
    "    <tr>\n",
    "        <td>x = bytes(5)</td>\n",
    "        <td>bytes</td>\n",
    "        <td></td>\n",
    "    </tr>\n",
    "    <tr>\n",
    "        <td>x = bytearray(5)</td>\n",
    "        <td>bytearray</td>\n",
    "        <td></td>\n",
    "    </tr>\n",
    "    <tr>\n",
    "        <td>x = memoryview(bytes(5))</td>\n",
    "        <td>memoryview</td>\n",
    "        <td></td>\n",
    "    </tr>\n",
    "</table>\n",
    "\n"
   ]
  },
  {
   "cell_type": "markdown",
   "id": "762da4da",
   "metadata": {},
   "source": [
    "# 6-Python Casting"
   ]
  },
  {
   "cell_type": "markdown",
   "id": "7db4cbff",
   "metadata": {},
   "source": [
    "<h3>Specify a Variable Type</h3>\n",
    "There may be times when you want to specify a type on to a variable. This can be done with casting. Python is an object-orientated language, and as such it uses classes to define data types, including its primitive types.<br>\n",
    "\n",
    "Casting in python is therefore done using constructor functions:\n",
    "\n",
    "<li>int() - constructs an integer number from an integer literal, a float literal (by removing all decimals), or a string literal (providing the string represents a whole number)\n",
    "<li>float() - constructs a float number from an integer literal, a float literal or a string literal (providing the string represents a float or an integer)\n",
    "<li>str() - constructs a string from a wide variety of data types, including strings, integer literals and float literals"
   ]
  },
  {
   "cell_type": "code",
   "execution_count": null,
   "id": "ccdb76f7",
   "metadata": {},
   "outputs": [],
   "source": [
    "#Integers:\n",
    "x = int(1)   # x will be 1\n",
    "y = int(2.8) # y will be 2\n",
    "z = int(\"3\") # z will be 3"
   ]
  },
  {
   "cell_type": "code",
   "execution_count": null,
   "id": "7ef55169",
   "metadata": {},
   "outputs": [
    {
     "data": {
      "text/plain": [
       "(1, 2, 3)"
      ]
     },
     "metadata": {},
     "output_type": "display_data"
    }
   ],
   "source": [
    "x,y,z"
   ]
  },
  {
   "cell_type": "code",
   "execution_count": null,
   "id": "a9e43b94",
   "metadata": {},
   "outputs": [],
   "source": [
    "#Floats:\n",
    "x = float(1)     # x will be 1.0\n",
    "y = float(2.8)   # y will be 2.8\n",
    "z = float(\"3\")   # z will be 3.0\n",
    "w = float(\"4.2\") # w will be 4.2"
   ]
  },
  {
   "cell_type": "code",
   "execution_count": null,
   "id": "0280b90e",
   "metadata": {},
   "outputs": [],
   "source": [
    "#string:\n",
    "x = str(\"s1\") # x will be 's1'\n",
    "y = str(2)    # y will be '2'\n",
    "z = str(3.0)  # z will be '3.0'"
   ]
  },
  {
   "cell_type": "code",
   "execution_count": null,
   "id": "d0f1320c",
   "metadata": {},
   "outputs": [
    {
     "name": "stdout",
     "output_type": "stream",
     "text": [
      "15\n"
     ]
    }
   ],
   "source": [
    "print(10 + 5)"
   ]
  },
  {
   "cell_type": "markdown",
   "metadata": {},
   "source": [
    "# 7-Python keywords and indefiers\n"
   ]
  },
  {
   "cell_type": "markdown",
   "metadata": {},
   "source": [
    "Keywords are predefined, reserved words used in Python programming that have special meanings to the compiler.\n",
    "\n",
    "We cannot use a keyword as a variable name, function name, or any other identifier. They are used to define the syntax and structure of the Python language.\n",
    "\n",
    "All the keywords except True, False and None are in lowercase and they must be written as they are. The list of all the keywords is given below."
   ]
  },
  {
   "cell_type": "markdown",
   "metadata": {},
   "source": [
    " Python Keywords List\t \t <br>\n",
    "False\t<br>await<br>\telse<br>\timport<br>\tpass<br>\n",
    "None<br>\tbreak\t<br>except<br>\tin<br>\traise<br>\n",
    "True<br>\tclass<br>\tfinally\t<br>is<br>\treturn<br>\n",
    "and<br>\tcontinue<br>\tfor\t<br>lambda<br>\ttry<br>\n",
    "as<br>\tdef<br>\tfrom<br>\tnonlocal<br>\twhile<br>\n",
    "assert<br>\tdel\t<br>global\t<br>not<br>\twith<br>\n",
    "async<br>\telif<br>\tif<br>\tor<br>\tyield<br>"
   ]
  },
  {
   "cell_type": "markdown",
   "metadata": {},
   "source": [
    "Identifiers are the vairaibles we cannot use keyword as a vairiable name."
   ]
  },
  {
   "cell_type": "markdown",
   "metadata": {},
   "source": [
    "# 8-Python Comments"
   ]
  },
  {
   "cell_type": "markdown",
   "metadata": {},
   "source": [
    "<h3>Single line Comment</h3>\n"
   ]
  },
  {
   "cell_type": "code",
   "execution_count": 2,
   "metadata": {},
   "outputs": [],
   "source": [
    "#hello"
   ]
  },
  {
   "cell_type": "markdown",
   "metadata": {},
   "source": [
    "<h3>Multi line Comment</h3>\n"
   ]
  },
  {
   "cell_type": "code",
   "execution_count": 1,
   "metadata": {},
   "outputs": [
    {
     "data": {
      "text/plain": [
       "'Hello, World!\\ns = \"Hello, World!\"\\n'"
      ]
     },
     "execution_count": 1,
     "metadata": {},
     "output_type": "execute_result"
    }
   ],
   "source": [
    "\"\"\"Hello, World!\n",
    "s = \"Hello, World!\"\n",
    "\"\"\""
   ]
  }
 ],
 "metadata": {
  "kernelspec": {
   "display_name": "Python 3 (ipykernel)",
   "language": "python",
   "name": "python3"
  },
  "language_info": {
   "codemirror_mode": {
    "name": "ipython",
    "version": 3
   },
   "file_extension": ".py",
   "mimetype": "text/x-python",
   "name": "python",
   "nbconvert_exporter": "python",
   "pygments_lexer": "ipython3",
   "version": "3.11.5"
  }
 },
 "nbformat": 4,
 "nbformat_minor": 5
}
