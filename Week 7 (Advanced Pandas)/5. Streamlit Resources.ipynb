{
 "cells": [
  {
   "cell_type": "markdown",
   "metadata": {},
   "source": [
    "# Introduction to Streamlit\n",
    "\n",
    "Streamlit is an open-source app framework specifically designed for machine learning and data science projects. It allows data scientists and machine learning engineers to create interactive web applications in Python quickly.\n",
    "\n",
    "## Features of Streamlit\n",
    "\n",
    "- **Ease of Use:** Streamlit provides a straightforward API that makes it easy to create web applications with only a few lines of code.\n",
    "- **Widgets:** It includes a variety of widgets (sliders, buttons, file uploaders, etc.) to build interactive user interfaces.\n",
    "- **Reactivity:** Streamlit automatically updates the app in real-time as the user interacts with the widgets or the underlying data changes.\n",
    "- **Data Visualization:** It supports various visualization libraries like Matplotlib, Altair, and Plotly, making it easy to embed charts and graphs.\n",
    "- **Deployment:** Streamlit applications can be deployed easily using Streamlit Sharing, Docker, or cloud platforms like AWS, GCP, and Azure.\n",
    "\n",
    "## Benefits of Streamlit\n",
    "\n",
    "- **Rapid Development:** Streamlit's simplicity and powerful features allow for quick prototyping and development of data applications.\n",
    "- **No Frontend Development Required:** Streamlit abstracts away the need to write HTML, CSS, or JavaScript, enabling developers to focus on Python code.\n",
    "- **Interactive Exploration:** Streamlit apps enable interactive data exploration and visualization, which is essential for data analysis and model evaluation.\n",
    "- **Open Source:** Being an open-source tool, Streamlit has a growing community and a wealth of resources for support and learning.\n",
    "\n",
    "## Flask vs Streamlit\n",
    "\n",
    "- **Purpose:**\n",
    "  - **Flask:** A micro web framework used for building web applications with Python. It requires more setup and configuration, and developers need to handle routing, HTML templating, and JavaScript for interactivity.\n",
    "  - **Streamlit:** Specifically designed for data apps with built-in support for interactive widgets and real-time updates without the need for JavaScript or HTML.\n",
    "\n",
    "- **Ease of Use:**\n",
    "  - **Flask:** Requires knowledge of web development concepts and additional tools for interactivity and visualization.\n",
    "  - **Streamlit:** Simplifies the creation of interactive apps, allowing developers to build and deploy apps with minimal code.\n",
    "\n",
    "- **Flexibility:**\n",
    "  - **Flask:** Offers more flexibility and control over the web application's structure and design, suitable for more complex and custom applications.\n",
    "  - **Streamlit:** Provides a more straightforward and faster way to create data-focused apps but with less flexibility compared to Flask.\n",
    "\n",
    "- **Deployment:**\n",
    "  - **Flask:** Can be deployed on any platform that supports WSGI (Web Server Gateway Interface) applications. Requires more setup for deployment.\n",
    "  - **Streamlit:** Easier deployment options, including Streamlit Sharing and compatibility with various cloud services.\n",
    "\n",
    "- **Use Cases:**\n",
    "  - **Flask:** Ideal for building full-fledged web applications, APIs, and services.\n",
    "  - **Streamlit:** Best suited for creating interactive data visualizations, dashboards, and prototypes for data science and machine learning projects.\n"
   ]
  },
  {
   "cell_type": "markdown",
   "metadata": {},
   "source": [
    "Code - https://github.com/campusx-official/streamlit-basics\n",
    "\n",
    "Learn LaTeX - https://www.overleaf.com/learn/latex/Learn_LaTeX_in_30_minutes#What_is_LaTeX.3F\n",
    "\n",
    "Learn Markdown - https://www.markdownguide.org/basic-syntax/#images-1\n",
    "\n",
    "Streamlit docs - https://docs.streamlit.io/develop/api-reference\n",
    "\n",
    "Dataset link -https://www.kaggle.com/datasets/sudalairajkumar/indian-startup-funding\n",
    "\n",
    "Plan of Action - https://docs.google.com/document/d/1zk4751zmG2b4XnYGW06tu0MWyr2PgLlMaSci7eUVL2M/edit"
   ]
  },
  {
   "cell_type": "markdown",
   "metadata": {},
   "source": []
  }
 ],
 "metadata": {
  "language_info": {
   "name": "python"
  }
 },
 "nbformat": 4,
 "nbformat_minor": 2
}
