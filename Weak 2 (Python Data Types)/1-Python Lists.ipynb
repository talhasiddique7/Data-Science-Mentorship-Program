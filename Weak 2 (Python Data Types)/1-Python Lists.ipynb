{
 "cells": [
  {
   "cell_type": "markdown",
   "metadata": {},
   "source": [
    "<h2>Python Collections (Arrays)</h2>\n",
    "\n",
    "There are four collection data types in the Python programming language:\n",
    "\n",
    "<li><b>List</b> is a collection which is ordered and changeable. Allows duplicate members.</li>\n",
    "<li><b>Tuple</b> is a collection which is ordered and unchangeable. Allows duplicate members.</li>\n",
    "<li><b>Set</b> is a collection which is unordered, unchangeable*, and unindexed. No duplicate members.</li>\n",
    "<li><b>Dictionary</b> is a collection which is ordered** and changeable. No duplicate members.</li>"
   ]
  },
  {
   "cell_type": "markdown",
   "metadata": {},
   "source": [
    "# 1-Introduction"
   ]
  },
  {
   "cell_type": "markdown",
   "metadata": {},
   "source": [
    "Lists are used to store multiple items in a single variable.\n",
    "\n",
    "Lists are one of 4 built-in data types in Python used to store collections of data, the other 3 are Tuple, Set, and Dictionary, all with different qualities and usage.\n",
    "\n",
    "Lists are created using square brackets:"
   ]
  },
  {
   "cell_type": "code",
   "execution_count": 1,
   "metadata": {},
   "outputs": [
    {
     "name": "stdout",
     "output_type": "stream",
     "text": [
      "['apple', 'banana', 'cherry']\n"
     ]
    }
   ],
   "source": [
    "thislist = [\"apple\", \"banana\", \"cherry\"]\n",
    "print(thislist)"
   ]
  },
  {
   "cell_type": "markdown",
   "metadata": {},
   "source": [
    "# 2-Array vs List"
   ]
  },
  {
   "cell_type": "markdown",
   "metadata": {},
   "source": [
    "<!DOCTYPE html>\n",
    "<html>\n",
    "<head>\n",
    "    <title>Difference Between List and Array in Python</title>\n",
    "</head>\n",
    "<body>\n",
    "\n",
    "<h2>Difference Between List and Array in Python</h2>\n",
    "\n",
    "<table border=\"1\">\n",
    "    <tr>\n",
    "        <th>S.No.</th>\n",
    "        <th>List</th>\n",
    "        <th>Array</th>\n",
    "    </tr>\n",
    "    <tr>\n",
    "        <td>1</td>\n",
    "        <td>List is used to collect items that usually consist of elements of multiple data types.</td>\n",
    "        <td>An array is also a vital component that collects several items of the same data type.</td>\n",
    "    </tr>\n",
    "    <tr>\n",
    "        <td>2</td>\n",
    "        <td>List cannot manage arithmetic operations.</td>\n",
    "        <td>Array can manage arithmetic operations.</td>\n",
    "    </tr>\n",
    "    <tr>\n",
    "        <td>3</td>\n",
    "        <td>It consists of elements that belong to different data types.</td>\n",
    "        <td>It consists of elements that belong to the same data type.</td>\n",
    "    </tr>\n",
    "    <tr>\n",
    "        <td>4</td>\n",
    "        <td>When it comes to flexibility, the list is perfect as it allows easy modification of data.</td>\n",
    "        <td>When it comes to flexibility, the array is not suitable as it does not allow easy modification of data.</td>\n",
    "    </tr>\n",
    "    <tr>\n",
    "        <td>5</td>\n",
    "        <td>It consumes a larger memory.</td>\n",
    "        <td>It consumes less memory than a list.</td>\n",
    "    </tr>\n",
    "    <tr>\n",
    "        <td>6</td>\n",
    "        <td>In a list, the complete list can be accessed without any specific looping.</td>\n",
    "        <td>In an array, a loop is mandatory to access the components of the array.</td>\n",
    "    </tr>\n",
    "    <tr>\n",
    "        <td>7</td>\n",
    "        <td>It favors a shorter sequence of data.</td>\n",
    "        <td>It favors a longer sequence of data.</td>\n",
    "    </tr>\n",
    "</table>\n",
    "\n",
    "</body>\n",
    "</html>\n"
   ]
  },
  {
   "cell_type": "markdown",
   "metadata": {},
   "source": [
    "# 3-How List are Stored in a Memory"
   ]
  },
  {
   "cell_type": "markdown",
   "metadata": {},
   "source": [
    "A list in Python is an array that contains elements pointers to objects of a specific size only and this is a common feature of all dynamically typed languages. For the implementation of a list a contiguous array of references to other objects is used. Python keeps a pointer to this array and the array’s length is stored in a list head structure. This makes indexing of a list independent of the size of the list or the value of the index. When items are appended or inserted the array of references is resized."
   ]
  },
  {
   "cell_type": "markdown",
   "metadata": {},
   "source": [
    "# 4-Characteristics of Python List"
   ]
  },
  {
   "cell_type": "markdown",
   "metadata": {},
   "source": [
    "The crucial characteristics of Python List are listed below-\n",
    "<ol>\n",
    "<li>Lists can contain any arbitrary objects.</li>\n",
    "<li>Lists are ordered.</li>\n",
    "<li>Lists elements can be accessed by index.</li>\n",
    "<li>Lists are mutable.</li>\n",
    "<li>Lists can be nested to arbitrary depth.</li>"
   ]
  },
  {
   "cell_type": "markdown",
   "metadata": {},
   "source": [
    "<h3>1. Lists can contain any arbitrary objects</h3>\n",
    "A list can contain the same types of values<br>\n",
    "list = [ 10, 20, 12, 9 ]<br>\n",
    "print( list )<br>\n",
    "Output<br>\n",
    "[ 10, 20, 12, 9 ]<br>\n",
    "<br>\n",
    "list = [ ‘Ajay’ , ‘Raju’, ‘Vipin’]<br>\n",
    "print( list )<br>\n",
    "Output<br>\n",
    "[ ‘Ajay’ , ‘Raju’, ‘Vipin’]<br>\n",
    "<br>\n",
    "Or it can contain mixed values<br>\n",
    "<br>\n",
    "list = [10, ‘Ajay’, 20 ]<br>\n",
    "print( list )<br>\n",
    "Output<br>\n",
    "[10, ‘Ajay’, 20 ]<br>\n",
    "<br>\n",
    "<h3>2. Lists are ordered</h3>\n",
    "The order in which we specify the list elements. It maintains the order of the list lifetime.<br>\n",
    "Example 1:- <br>\n",
    "    a = [5, 7, 1, 15]<br>\n",
    "    print(a)<br>\n",
    "    Output<br>\n",
    "    [5, 7, 1, 15]<br>\n",
    "\n",
    "a =[5, 7, 1, 15]<br>\n",
    "[5, 7, 1, 15] <br>\n",
    "\n",
    "Example 2:-<br>\n",
    "list = [10, 20, 30, 40, 50 ]<br>\n",
    "if we want to get element 30 then we will write-<br>\n",
    "print( list [2] )<br>\n",
    "output<br>\n",
    "30<br>\n",
    "\n",
    "<h3>3. Lists elements can be accessed by index</h3>\n",
    "The indexing of a list is the same as an array starting from 0, 1 , 2 ….<br>\n",
    "we can easily access any element of the list from its index.<br>\n",
    "\n",
    "Example 1:- <br>\n",
    "list = [10, 20, 30, 40, 50 ]<br>\n",
    "if we want to get element 30 then we will write-<br>\n",
    "print( list [2] )<br>\n",
    "output<br>\n",
    "30<br>\n",
    "\n",
    "Example 2:-<br>\n",
    "list = [10, 20, 30, 40, 50 ]<br>\n",
    "if we want to get element 20 then<br>\n",
    "print( list[-4 ])<br>\n",
    "output<br>\n",
    "20<br>\n",
    "\n",
    "<h3>4. List are mutable</h3>\n",
    "Once a list has been created, elements can be added, deleted, and shifted. Python provides a wide range of ways to modify a list. <br>\n",
    "Example :-<br>\n",
    "list = [10, 20, 30, 40, 50 ]<br>\n",
    "if we want to change the fourth element then<br>\n",
    "list[3] = 7<br>\n",
    "print(list)<br>\n",
    "Output<br>\n",
    "[10, 20, 30, 7, 50 ]<br>\n",
    "\n",
    "<h3>5. Lists can be nested to arbitrary depth</h3>\n",
    "A list can contain sublists, which in turn can contain sublists themselves and so on to arbitrary depth.<br>\n",
    "a = [ 1, 2, [ 10, 20, 30, [100, 500 ], 40, 50 ], 3, 4, 5 ]<br>\n",
    "print( a )<br>\n",
    "Output<br>\n",
    " [ 1, 2, [ 10, 20, 30, [100, 500 ], 40, 50 ], 3, 4, 5 ]<br>"
   ]
  },
  {
   "cell_type": "markdown",
   "metadata": {},
   "source": [
    "# 5-Code Examples of List"
   ]
  },
  {
   "cell_type": "markdown",
   "metadata": {},
   "source": [
    "<h3>1-Create and access a list</h3>"
   ]
  },
  {
   "cell_type": "code",
   "execution_count": 2,
   "metadata": {},
   "outputs": [
    {
     "name": "stdout",
     "output_type": "stream",
     "text": [
      "['apple', 'banana', 'cherry', 'orange', 'kiwi', 'melon', 'mango']\n"
     ]
    }
   ],
   "source": [
    "fruits=[\"apple\",\"banana\",\"cherry\",\"orange\",\"kiwi\",\"melon\",\"mango\"]\n",
    "print(fruits)"
   ]
  },
  {
   "cell_type": "code",
   "execution_count": 3,
   "metadata": {},
   "outputs": [
    {
     "name": "stdout",
     "output_type": "stream",
     "text": [
      "apple\n",
      "banana\n",
      "cherry\n",
      "orange\n",
      "kiwi\n",
      "melon\n",
      "mango\n"
     ]
    }
   ],
   "source": [
    "for i in fruits:\n",
    "    print(i)"
   ]
  },
  {
   "cell_type": "markdown",
   "metadata": {},
   "source": [
    "<h3>2-append(), extend(), insert()</h3>"
   ]
  },
  {
   "cell_type": "code",
   "execution_count": 4,
   "metadata": {},
   "outputs": [
    {
     "name": "stdout",
     "output_type": "stream",
     "text": [
      "['apple', 'banana', 'cherry', 'orange', 'kiwi', 'melon', 'mango', 'grapes']\n"
     ]
    }
   ],
   "source": [
    "#append()\n",
    "fruits.append(\"grapes\")\n",
    "print(fruits)"
   ]
  },
  {
   "cell_type": "code",
   "execution_count": 5,
   "metadata": {},
   "outputs": [
    {
     "name": "stdout",
     "output_type": "stream",
     "text": [
      "['apple', 'banana', 'cherry', 'orange', 'kiwi', 'melon', 'mango', 'grapes', 'grapes', 'pineapple']\n"
     ]
    }
   ],
   "source": [
    "#extend()\n",
    "fruits.extend([\"grapes\",\"pineapple\"])\n",
    "print(fruits)"
   ]
  },
  {
   "cell_type": "code",
   "execution_count": 6,
   "metadata": {},
   "outputs": [
    {
     "name": "stdout",
     "output_type": "stream",
     "text": [
      "['apple', 'banana', 'watermelon', 'cherry', 'orange', 'kiwi', 'melon', 'mango', 'grapes', 'grapes', 'pineapple']\n"
     ]
    }
   ],
   "source": [
    "#insert()\n",
    "fruits.insert(2,\"watermelon\")\n",
    "print(fruits)"
   ]
  },
  {
   "cell_type": "markdown",
   "metadata": {},
   "source": [
    "<h3>3-Edit Items in a List</h3>"
   ]
  },
  {
   "cell_type": "code",
   "execution_count": 7,
   "metadata": {},
   "outputs": [
    {
     "name": "stdout",
     "output_type": "stream",
     "text": [
      "['strawberry', 'banana', 'watermelon', 'cherry', 'orange', 'kiwi', 'melon', 'mango', 'grapes', 'grapes', 'pineapple']\n"
     ]
    }
   ],
   "source": [
    "#edit\n",
    "fruits[0]=\"strawberry\"\n",
    "print(fruits)"
   ]
  },
  {
   "cell_type": "markdown",
   "metadata": {},
   "source": [
    "<h3>4-Deleting items from a list</h3>"
   ]
  },
  {
   "cell_type": "code",
   "execution_count": 8,
   "metadata": {},
   "outputs": [
    {
     "name": "stdout",
     "output_type": "stream",
     "text": [
      "['banana', 'watermelon', 'cherry', 'orange', 'kiwi', 'melon', 'mango', 'grapes', 'grapes', 'pineapple']\n"
     ]
    }
   ],
   "source": [
    "#remove()\n",
    "fruits.remove(\"strawberry\")\n",
    "print(fruits)"
   ]
  },
  {
   "cell_type": "markdown",
   "metadata": {},
   "source": [
    "<h3>5-Arithmetic, membership and loop operations on a List</h3>"
   ]
  },
  {
   "cell_type": "code",
   "execution_count": 9,
   "metadata": {},
   "outputs": [
    {
     "name": "stdout",
     "output_type": "stream",
     "text": [
      "\n",
      "The List Items after Addition =   [15, 22, 33]\n",
      "The List Items after Subtraction =   [5, 18, 27]\n",
      "The List Items after Multiplication =   [50, 40, 90]\n",
      "The List Items after Division =   [2.0, 10.0, 10.0]\n",
      "The List Items after Modulus =   [0, 0, 0]\n",
      "The List Items after Exponent =   [100000, 400, 27000]\n"
     ]
    }
   ],
   "source": [
    "NumList1 = [10, 20, 30]\n",
    "NumList2 = [5, 2, 3]\n",
    "add = []\n",
    "sub = []\n",
    "multi = []\n",
    "div = []\n",
    "mod = []\n",
    "expo = []\n",
    " \n",
    "for j in range(3):\n",
    "    add.append( NumList1[j] + NumList2[j])\n",
    "    sub.append( NumList1[j] - NumList2[j])\n",
    "    multi.append( NumList1[j] * NumList2[j])\n",
    "    div.append( NumList1[j] / NumList2[j])\n",
    "    mod.append( NumList1[j] % NumList2[j])\n",
    "    expo.append( NumList1[j] ** NumList2[j])\n",
    " \n",
    "print(\"\\nThe List Items after Addition =  \", add)\n",
    "print(\"The List Items after Subtraction =  \", sub)\n",
    "print(\"The List Items after Multiplication =  \", multi)\n",
    "print(\"The List Items after Division =  \", div)\n",
    "print(\"The List Items after Modulus =  \", mod)\n",
    "print(\"The List Items after Exponent =  \", expo)"
   ]
  },
  {
   "cell_type": "markdown",
   "metadata": {},
   "source": [
    "<h3>6-Various List Functions</h3>"
   ]
  },
  {
   "cell_type": "markdown",
   "metadata": {},
   "source": [
    "<!DOCTYPE html>\n",
    "<html>\n",
    "<head>\n",
    "    <title>List Methods in Python</title>\n",
    "</head>\n",
    "<body>\n",
    "\n",
    "<h2>List Methods in Python</h2>\n",
    "\n",
    "<table border=\"1\">\n",
    "    <tr>\n",
    "        <th>Method</th>\n",
    "        <th>Description</th>\n",
    "    </tr>\n",
    "    <tr>\n",
    "        <td>append()</td>\n",
    "        <td>Adds an element at the end of the list</td>\n",
    "    </tr>\n",
    "    <tr>\n",
    "        <td>clear()</td>\n",
    "        <td>Removes all the elements from the list</td>\n",
    "    </tr>\n",
    "    <tr>\n",
    "        <td>copy()</td>\n",
    "        <td>Returns a copy of the list</td>\n",
    "    </tr>\n",
    "    <tr>\n",
    "        <td>count()</td>\n",
    "        <td>Returns the number of elements with the specified value</td>\n",
    "    </tr>\n",
    "    <tr>\n",
    "        <td>extend()</td>\n",
    "        <td>Add the elements of a list (or any iterable), to the end of the current list</td>\n",
    "    </tr>\n",
    "    <tr>\n",
    "        <td>index()</td>\n",
    "        <td>Returns the index of the first element with the specified value</td>\n",
    "    </tr>\n",
    "    <tr>\n",
    "        <td>insert()</td>\n",
    "        <td>Adds an element at the specified position</td>\n",
    "    </tr>\n",
    "    <tr>\n",
    "        <td>pop()</td>\n",
    "        <td>Removes the element at the specified position</td>\n",
    "    </tr>\n",
    "    <tr>\n",
    "        <td>remove()</td>\n",
    "        <td>Removes the first item with the specified value</td>\n",
    "    </tr>\n",
    "    <tr>\n",
    "        <td>reverse()</td>\n",
    "        <td>Reverses the order of the list</td>\n",
    "    </tr>\n",
    "    <tr>\n",
    "        <td>sort()</td>\n",
    "        <td>Sorts the list</td>\n",
    "    </tr>\n",
    "</table>\n",
    "\n",
    "</body>\n",
    "</html>\n"
   ]
  },
  {
   "cell_type": "markdown",
   "metadata": {},
   "source": [
    "<h3>7-Python - List Comprehension</h3>"
   ]
  },
  {
   "cell_type": "markdown",
   "metadata": {},
   "source": [
    "List comprehension offers a shorter syntax when you want to create a new list based on the values of an existing list.\n",
    "\n",
    "Example:\n",
    "\n",
    "Based on a list of fruits, you want a new list, containing only the fruits with the letter \"a\" in the name.\n",
    "\n",
    "Without list comprehension you will have to write a for statement with a conditional test inside:"
   ]
  },
  {
   "cell_type": "code",
   "execution_count": 10,
   "metadata": {},
   "outputs": [
    {
     "name": "stdout",
     "output_type": "stream",
     "text": [
      "['apple', 'banana', 'mango']\n"
     ]
    }
   ],
   "source": [
    "fruits = [\"apple\", \"banana\", \"cherry\", \"kiwi\", \"mango\"]\n",
    "newlist = []\n",
    "\n",
    "for x in fruits:\n",
    "  if \"a\" in x:\n",
    "    newlist.append(x)\n",
    "\n",
    "print(newlist)"
   ]
  },
  {
   "cell_type": "code",
   "execution_count": 11,
   "metadata": {},
   "outputs": [
    {
     "name": "stdout",
     "output_type": "stream",
     "text": [
      "['apple', 'banana', 'mango']\n"
     ]
    }
   ],
   "source": [
    "fruits = [\"apple\", \"banana\", \"cherry\", \"kiwi\", \"mango\"]\n",
    "\n",
    "newlist = [x for x in fruits if \"a\" in x]\n",
    "\n",
    "print(newlist)"
   ]
  },
  {
   "cell_type": "markdown",
   "metadata": {},
   "source": [
    "The Syntax\n",
    "\n",
    "newlist = [expression for item in iterable if condition == True]"
   ]
  },
  {
   "cell_type": "markdown",
   "metadata": {},
   "source": [
    "<h3>8-Different Ways to traverse a list</h3>"
   ]
  },
  {
   "cell_type": "markdown",
   "metadata": {},
   "source": [
    "Python range () method\n",
    "\n",
    "List Comprehension\n",
    "\n",
    "Python enumerate () method\n",
    "\n",
    "Lambda function\n",
    "\n",
    "\n",
    "\n",
    "By using a for Loop\n",
    "\n",
    "By using a while Loop"
   ]
  },
  {
   "cell_type": "code",
   "execution_count": 12,
   "metadata": {},
   "outputs": [
    {
     "name": "stdout",
     "output_type": "stream",
     "text": [
      "2\n",
      "4\n",
      "6\n",
      "8\n",
      "10\n"
     ]
    }
   ],
   "source": [
    "#range()\n",
    "\n",
    "# Python3 code to iterate over a list\n",
    "\n",
    "list = [2, 4, 6, 8, 10]\n",
    "\n",
    "# getting length of list\n",
    "\n",
    "length = len(list)\n",
    "\n",
    "# Iterating the index\n",
    "\n",
    "# same as 'for i in range(len(list))'\n",
    "\n",
    "for i in range(length):\n",
    "\n",
    "    print(list[i])\n"
   ]
  },
  {
   "cell_type": "code",
   "execution_count": 13,
   "metadata": {},
   "outputs": [
    {
     "name": "stdout",
     "output_type": "stream",
     "text": [
      "2\n",
      "4\n",
      "6\n",
      "8\n",
      "10\n"
     ]
    },
    {
     "data": {
      "text/plain": [
       "[None, None, None, None, None]"
      ]
     },
     "execution_count": 13,
     "metadata": {},
     "output_type": "execute_result"
    }
   ],
   "source": [
    "#list comprehension\n",
    "\n",
    "# Python3 code to iterate over a list\n",
    "\n",
    "list = [2, 4, 6, 8, 10]\n",
    "\n",
    "# Using list comprehension\n",
    "\n",
    "[print(i) for i in list]\n"
   ]
  },
  {
   "cell_type": "code",
   "execution_count": 14,
   "metadata": {},
   "outputs": [
    {
     "name": "stdout",
     "output_type": "stream",
     "text": [
      "0 , 1\n",
      "1 , 3\n",
      "2 , 5\n",
      "3 , 7\n",
      "4 , 9\n"
     ]
    }
   ],
   "source": [
    "#enumerate()\n",
    "\n",
    "# Python3 code to iterate over a list\n",
    "\n",
    "list = [1, 3, 5, 7, 9]\n",
    "\n",
    "# Using enumerate()\n",
    "\n",
    "for i, val in enumerate(list):\n",
    "\n",
    "    print (i, \",\",val)\n"
   ]
  },
  {
   "cell_type": "code",
   "execution_count": null,
   "metadata": {},
   "outputs": [],
   "source": []
  },
  {
   "cell_type": "code",
   "execution_count": 15,
   "metadata": {},
   "outputs": [
    {
     "name": "stdout",
     "output_type": "stream",
     "text": [
      "2\n",
      "4\n",
      "6\n",
      "8\n",
      "10\n"
     ]
    }
   ],
   "source": [
    "#for loop\n",
    "\n",
    "# Python3 code to iterate over a list\n",
    "\n",
    "list = [2, 4, 6, 8, 10]\n",
    "\n",
    "# getting length of list\n",
    "\n",
    "length = len(list)\n",
    "\n",
    "# Iterating the index\n",
    "\n",
    "# same as 'for i in range(len(list))'\n",
    "\n",
    "for i in range(length):\n",
    "\n",
    "    print(list[i])\n"
   ]
  },
  {
   "cell_type": "code",
   "execution_count": 16,
   "metadata": {},
   "outputs": [
    {
     "name": "stdout",
     "output_type": "stream",
     "text": [
      "2\n",
      "4\n",
      "6\n",
      "8\n",
      "10\n"
     ]
    }
   ],
   "source": [
    "#while loop\n",
    "\n",
    "# Python3 code to iterate over a list\n",
    "\n",
    "list = [2, 4, 6, 8, 10]\n",
    "\n",
    "# Getting length of list\n",
    "\n",
    "length = len(list)\n",
    "\n",
    "i = 0\n",
    "\n",
    "# Iterating using while loop\n",
    "\n",
    "while i < length:\n",
    "\n",
    "    print(list[i])\n",
    "    i+= 1"
   ]
  },
  {
   "cell_type": "markdown",
   "metadata": {},
   "source": [
    "<h3>9-Zip() Function</h3>"
   ]
  },
  {
   "cell_type": "markdown",
   "metadata": {},
   "source": [
    "Definition and Usage\n",
    "\n",
    "The zip() function returns a zip object, which is an iterator of tuples where the first item in each passed iterator is paired together, and then the second item in each passed iterator are paired together etc.\n",
    "\n",
    "If the passed iterables have different lengths, the iterable with the least items decides the length of the new iterator.\n",
    "\n",
    "Syntax\n",
    "\n",
    "zip(iterator1, iterator2, iterator3 ...)"
   ]
  },
  {
   "cell_type": "code",
   "execution_count": 17,
   "metadata": {},
   "outputs": [
    {
     "data": {
      "text/plain": [
       "<zip at 0x177d8048fc0>"
      ]
     },
     "execution_count": 17,
     "metadata": {},
     "output_type": "execute_result"
    }
   ],
   "source": [
    "a = (\"John\", \"Charles\", \"Mike\")\n",
    "b = (\"Jenny\", \"Christy\", \"Monica\", \"Vicky\")\n",
    "\n",
    "x = zip(a, b)\n",
    "x"
   ]
  },
  {
   "cell_type": "markdown",
   "metadata": {},
   "source": [
    "<h3>10-Python List can store any kind of objects</h3>"
   ]
  },
  {
   "cell_type": "code",
   "execution_count": 18,
   "metadata": {},
   "outputs": [
    {
     "data": {
      "text/plain": [
       "['John', 'Charles', 'Mike']"
      ]
     },
     "execution_count": 18,
     "metadata": {},
     "output_type": "execute_result"
    }
   ],
   "source": [
    "a=[\"John\",\"Charles\",\"Mike\"]\n",
    "a"
   ]
  },
  {
   "cell_type": "markdown",
   "metadata": {},
   "source": [
    "# 6-Advantages and Disadvantages of Python List"
   ]
  },
  {
   "cell_type": "markdown",
   "metadata": {},
   "source": [
    "A major difference between Lists and the rest that you 're asking is that Lists are mutable. Tuples and Dictionaries are immutable so their values are fixed. There can be no precise explanation to your question since the real question is what do you want your program to do? If you want to collect values and store them somewhere then Lists is the solution you are searching for, since they can be mutated. If you want to get values from something like a database then Tuples or Dictionaries might be a good solution. Dictionaries give you the perk of a key usage also. So it all depends on what you want to achieve. I'm not sure if this helps."
   ]
  },
  {
   "cell_type": "markdown",
   "metadata": {},
   "source": [
    "<!DOCTYPE html>\n",
    "<html>\n",
    "<head>\n",
    "    <title>Advantages and Disadvantages of Python Lists</title>\n",
    "</head>\n",
    "<body>\n",
    "\n",
    "<h2>Advantages and Disadvantages of Python Lists</h2>\n",
    "\n",
    "<table border=\"1\">\n",
    "    <tr>\n",
    "        <th>Aspect</th>\n",
    "        <th>Advantages</th>\n",
    "        <th>Disadvantages</th>\n",
    "    </tr>\n",
    "    <tr>\n",
    "        <td>1. Data Structure</td>\n",
    "        <td>Flexible and versatile data structure for storing elements of different data types.</td>\n",
    "        <td>Not suitable for highly specialized data structures like stacks and queues.</td>\n",
    "    </tr>\n",
    "    <tr>\n",
    "        <td>2. Dynamic Sizing</td>\n",
    "        <td>Automatically resizes to accommodate more or fewer elements.</td>\n",
    "        <td>Resizing can result in increased memory usage and occasional performance overhead.</td>\n",
    "    </tr>\n",
    "    <tr>\n",
    "        <td>3. Built-in Functions</td>\n",
    "        <td>Offers a wide range of built-in functions for manipulating and processing lists.</td>\n",
    "        <td>Some operations, like removing elements by value, can be inefficient for large lists.</td>\n",
    "    </tr>\n",
    "    <tr>\n",
    "        <td>4. Indexing</td>\n",
    "        <td>Supports efficient indexing and slicing for quick access to elements.</td>\n",
    "        <td>Inserting or deleting elements at the beginning or middle can be slow for large lists.</td>\n",
    "    </tr>\n",
    "    <tr>\n",
    "        <td>5. Heterogeneous Data</td>\n",
    "        <td>Allows mixing different data types within the same list.</td>\n",
    "        <td>May lead to type-related errors if not used carefully.</td>\n",
    "    </tr>\n",
    "    <tr>\n",
    "        <td>6. Iteration</td>\n",
    "        <td>Provides simple and efficient iteration over elements using for loops.</td>\n",
    "        <td>Not the most memory-efficient data structure for very large datasets.</td>\n",
    "    </tr>\n",
    "    <tr>\n",
    "        <td>7. Popularity</td>\n",
    "        <td>Widely used and supported in the Python community with extensive documentation.</td>\n",
    "        <td>Not as memory-efficient as arrays for large datasets with uniform data types.</td>\n",
    "    </tr>\n",
    "</table>\n",
    "\n",
    "</body>\n",
    "</html>\n"
   ]
  },
  {
   "cell_type": "markdown",
   "metadata": {},
   "source": []
  },
  {
   "cell_type": "markdown",
   "metadata": {},
   "source": [
    "# Extra About Lists"
   ]
  },
  {
   "cell_type": "markdown",
   "metadata": {},
   "source": [
    "# Data Structures"
   ]
  },
  {
   "cell_type": "markdown",
   "metadata": {},
   "source": [
    "There are two things to keep in mind for each of the data types you are using:\n",
    "\n",
    "1. Are they **mutable**?\n",
    "    - Mutability is about whether or not we can change an object once it has been created. A list can be changed so it is mutable. However, strings cannot be changed without creating a completely new object, so they are immutable.\n",
    "2. Are they **ordered**?\n",
    "    - Order is about whether the order of the elements in an object matters, and whether this position of an element can be used to access the element. Both strings and lists are ordered. We can use the order to access parts of a list and string.\n",
    "- For each of the upcoming data structures you see, it is useful to understand how you index, are they mutable, and are they ordered.\n",
    "- Additionally, you will see how these each have different methods, so why you would use one data structure vs. another is largely dependent on these properties, and what you can easily do with it!"
   ]
  },
  {
   "cell_type": "markdown",
   "metadata": {},
   "source": [
    "## Lists[]\n",
    "**mutable, ordered sequence of elements.**\n",
    "- Mix of data types.\n",
    "- Are ordered - can lookup elements by index.\n",
    "- Are mutable - can be changed."
   ]
  },
  {
   "cell_type": "markdown",
   "metadata": {},
   "source": [
    "### List Comprehensions - (do.. for)"
   ]
  },
  {
   "cell_type": "code",
   "execution_count": 19,
   "metadata": {},
   "outputs": [
    {
     "data": {
      "text/plain": [
       "['Dumbledore', 'Beeblebrox', 'Skywalker', 'Hermione', 'Leia']"
      ]
     },
     "execution_count": 19,
     "metadata": {},
     "output_type": "execute_result"
    }
   ],
   "source": [
    "names = ['dumbledore', 'beeblebrox', 'skywalker', 'hermione', 'leia']\n",
    "capitalized_names = []\n",
    "for name in names:\n",
    "    capitalized_names.append(name.title())\n",
    "\n",
    "# equals (do.. for)\n",
    "capitalized_names = [name.title() for name in names]\n",
    "capitalized_names"
   ]
  },
  {
   "cell_type": "markdown",
   "metadata": {},
   "source": [
    "### adding conditionals (do.. for.. if)"
   ]
  },
  {
   "cell_type": "code",
   "execution_count": 20,
   "metadata": {},
   "outputs": [],
   "source": [
    "squares = [x**2 for x in range(9) if x % 2 == 0]\n",
    "# to add else statements, move the conditionals to the beginning\n",
    "squares = [x**2 if x % 2 == 0 else x + 3 for x in range(9)]"
   ]
  },
  {
   "cell_type": "markdown",
   "metadata": {},
   "source": [
    "### examples"
   ]
  },
  {
   "cell_type": "code",
   "execution_count": 21,
   "metadata": {},
   "outputs": [
    {
     "name": "stdout",
     "output_type": "stream",
     "text": [
      "['Rick', 'Morty', 'Summer', 'Jerry', 'Beth']\n",
      "[3, 6, 9, 12, 15, 18, 21, 24, 27, 30, 33, 36, 39, 42, 45, 48, 51, 54, 57, 60]\n",
      "['Rick', 'Summer Smith', 'Beth Smith']\n"
     ]
    }
   ],
   "source": [
    "# example\n",
    "names = [\"Rick S\", \"Morty Smith\", \"Summer Smith\", \"Jerry Smith\", \"Beth Smith\"]\n",
    "first_names = [name.split(' ')[0] for name in names]\n",
    "print(first_names)\n",
    "# ['Rick', 'Morty', 'Summer', 'Jerry', 'Beth']\n",
    "\n",
    "# example\n",
    "multiples_3 = [i*3 for i in range(1,21)]\n",
    "print(multiples_3)\n",
    "# [3, 6, 9, 12, 15, 18, 21, 24, 27, 30, 33, 36, 39, 42, 45, 48, 51, 54, 57, 60]\n",
    "\n",
    "# example\n",
    "scores = {\n",
    "             \"Rick\": 70,\n",
    "             \"Morty Smith\": 35,\n",
    "             \"Summer Smith\": 82,\n",
    "             \"Jerry Smith\": 23,\n",
    "             \"Beth Smith\": 98\n",
    "          }\n",
    "passed = [name for name, score in scores.items() if score>=65]\n",
    "print(passed)\n",
    "# ['Rick', 'Summer Smith', 'Beth Smith']"
   ]
  },
  {
   "cell_type": "markdown",
   "metadata": {},
   "source": [
    "### Lambda Functions"
   ]
  },
  {
   "cell_type": "code",
   "execution_count": 22,
   "metadata": {},
   "outputs": [
    {
     "data": {
      "text/plain": [
       "28"
      ]
     },
     "execution_count": 22,
     "metadata": {},
     "output_type": "execute_result"
    }
   ],
   "source": [
    "# Lambda Functions - lambda (arg1, arg2): do_a_thing_and_return_it\n",
    "multiply = lambda x, y: x * y\n",
    "\n",
    "# Equivalent of:\n",
    "def multiply(x, y):\n",
    "    return x * y\n",
    "\n",
    "# Can call both of the above like:\n",
    "multiply(4, 7)"
   ]
  },
  {
   "cell_type": "markdown",
   "metadata": {},
   "source": [
    "### map() - apply lambda function to a list"
   ]
  },
  {
   "cell_type": "code",
   "execution_count": null,
   "metadata": {},
   "outputs": [],
   "source": []
  },
  {
   "cell_type": "markdown",
   "metadata": {},
   "source": [
    "### filter() - apply lambda function to a list"
   ]
  },
  {
   "cell_type": "code",
   "execution_count": null,
   "metadata": {},
   "outputs": [],
   "source": []
  },
  {
   "cell_type": "markdown",
   "metadata": {},
   "source": [
    "### Generators"
   ]
  },
  {
   "cell_type": "code",
   "execution_count": 23,
   "metadata": {},
   "outputs": [
    {
     "name": "stdout",
     "output_type": "stream",
     "text": [
      "0\n",
      "1\n",
      "2\n",
      "3\n",
      "4\n",
      "Lesson 1: Why Python Programming\n",
      "Lesson 2: Data Types and Operators\n",
      "Lesson 3: Control Flow\n",
      "Lesson 4: Functions\n",
      "Lesson 5: Scripting\n",
      "range(0, 4)\n",
      "range(4, 8)\n",
      "range(8, 12)\n",
      "range(12, 16)\n",
      "range(16, 20)\n",
      "range(20, 24)\n",
      "range(24, 25)\n"
     ]
    }
   ],
   "source": [
    "# Generators\n",
    "def my_range(x):\n",
    "    i = 0\n",
    "    while i < x:\n",
    "        yield i\n",
    "        i += 1\n",
    "# since this returns an iterator, we can convert it to a list\n",
    "# or iterate through it in a loop to view its contents\n",
    "for x in my_range(5):\n",
    "    print(x)\n",
    "'''\n",
    "0\n",
    "1\n",
    "2\n",
    "3\n",
    "4\n",
    "'''\n",
    "\n",
    "# You can create a generator in the same way you'd normally write a list comprehension, except with\n",
    "# parentheses instead of square brackets.\n",
    "# this list comprehension produces a list of squares\n",
    "sq_list = [x**2 for x in range(10)]\n",
    "# this generator produces an iterator of squares\n",
    "sq_iterator = (x**2 for x in range(10))\n",
    "\n",
    "# example\n",
    "# generator function that works like the built-in function enumerate\n",
    "lessons = [\"Why Python Programming\", \"Data Types and Operators\", \"Control Flow\", \"Functions\", \"Scripting\"]\n",
    "def my_enumerate(iterable, start=0):\n",
    "    i = start\n",
    "    for element in iterable:\n",
    "        yield i, element\n",
    "        i = i + 1\n",
    "for i, lesson in my_enumerate(lessons, 1):\n",
    "    print(\"Lesson {}: {}\".format(i, lesson))\n",
    "'''\n",
    "Lesson 1: Why Python Programming\n",
    "Lesson 2: Data Types and Operators\n",
    "Lesson 3: Control Flow\n",
    "Lesson 4: Functions\n",
    "Lesson 5: Scripting\n",
    "'''\n",
    "\n",
    "# example\n",
    "# If you have an iterable that is too large to fit in memory in full\n",
    "# (e.g., when dealing with large files), being able to take and use\n",
    "# chunks of it at a time can be very valuable.\n",
    "# Implementing a generator function, chunker, that takes in an\n",
    "# iterable and yields a chunk of a specified size at a time.\n",
    "def chunker(iterable, size):\n",
    "    for i in range(0, len(iterable), size):\n",
    "        yield iterable[i:i + size]\n",
    "for chunk in chunker(range(25), 4):\n",
    "    print((chunk))"
   ]
  },
  {
   "cell_type": "markdown",
   "metadata": {},
   "source": [
    "### create list"
   ]
  },
  {
   "cell_type": "code",
   "execution_count": 24,
   "metadata": {},
   "outputs": [],
   "source": [
    "list_of_random_things = [1, 3.4, 'a string', True]"
   ]
  },
  {
   "cell_type": "markdown",
   "metadata": {},
   "source": [
    "### access list elements"
   ]
  },
  {
   "cell_type": "code",
   "execution_count": 25,
   "metadata": {},
   "outputs": [],
   "source": [
    "list_of_random_things[0]\n",
    "list_of_random_things[-1]; #last element\n",
    "list_of_random_things[len(list_of_random_things) - 1]; #last element"
   ]
  },
  {
   "cell_type": "markdown",
   "metadata": {},
   "source": [
    "### slicing [,)"
   ]
  },
  {
   "cell_type": "code",
   "execution_count": 26,
   "metadata": {},
   "outputs": [
    {
     "data": {
      "text/plain": [
       "[3.4, 'a string', True]"
      ]
     },
     "execution_count": 26,
     "metadata": {},
     "output_type": "execute_result"
    }
   ],
   "source": [
    "list_of_random_things[1:3] # returns [3.4, 'a string']\n",
    "list_of_random_things[:2] # returns [1, 3.4]\n",
    "list_of_random_things[1:] # returns all of the elements to the end of the list [3.4, 'a string', True]"
   ]
  },
  {
   "cell_type": "markdown",
   "metadata": {},
   "source": [
    "### in, not in"
   ]
  },
  {
   "cell_type": "code",
   "execution_count": 27,
   "metadata": {},
   "outputs": [
    {
     "data": {
      "text/plain": [
       "False"
      ]
     },
     "execution_count": 27,
     "metadata": {},
     "output_type": "execute_result"
    }
   ],
   "source": [
    "# in, not in\n",
    "'this' in 'this is a string' # True\n",
    "'in' in 'this is a string' # True\n",
    "'isa' in 'this is a string' # False\n",
    "5 not in [1, 2, 3, 4, 6] # True\n",
    "5 in [1, 2, 3, 4, 6] # False"
   ]
  },
  {
   "cell_type": "markdown",
   "metadata": {},
   "source": [
    "### Mutable and ordered"
   ]
  },
  {
   "cell_type": "code",
   "execution_count": 28,
   "metadata": {},
   "outputs": [
    {
     "name": "stdout",
     "output_type": "stream",
     "text": [
      "[0, 2, 3, 4, 5]\n"
     ]
    }
   ],
   "source": [
    "# Mutable and ordered\n",
    "my_lst = [1, 2, 3, 4, 5]\n",
    "my_lst[0] = 0\n",
    "print(my_lst)"
   ]
  },
  {
   "cell_type": "markdown",
   "metadata": {},
   "source": [
    "### length of list"
   ]
  },
  {
   "cell_type": "code",
   "execution_count": 29,
   "metadata": {},
   "outputs": [
    {
     "data": {
      "text/plain": [
       "4"
      ]
     },
     "execution_count": 29,
     "metadata": {},
     "output_type": "execute_result"
    }
   ],
   "source": [
    "# length of list\n",
    "len(list_of_random_things)"
   ]
  },
  {
   "cell_type": "markdown",
   "metadata": {},
   "source": [
    "### smallest and greatest element in list"
   ]
  },
  {
   "cell_type": "code",
   "execution_count": 30,
   "metadata": {},
   "outputs": [
    {
     "name": "stdout",
     "output_type": "stream",
     "text": [
      "0\n",
      "5\n"
     ]
    }
   ],
   "source": [
    "# returns the smallest element of the list\n",
    "print(min(my_lst))\n",
    "\n",
    "# returns the greatest element of the list. This works because the the max function is defined in terms of the greater than comparison operator. The max function is undefined for lists that contain elements from different, incomparable types.\n",
    "print(max(my_lst))"
   ]
  },
  {
   "cell_type": "markdown",
   "metadata": {},
   "source": [
    "### sort list"
   ]
  },
  {
   "cell_type": "code",
   "execution_count": 31,
   "metadata": {},
   "outputs": [
    {
     "data": {
      "text/plain": [
       "[0, 2, 3, 4, 5]"
      ]
     },
     "execution_count": 31,
     "metadata": {},
     "output_type": "execute_result"
    }
   ],
   "source": [
    "# returns a copy of a list in order from smallest to largest,\n",
    "# leaving the list unchanged.\n",
    "sorted(my_lst)"
   ]
  },
  {
   "cell_type": "markdown",
   "metadata": {},
   "source": [
    "### join()"
   ]
  },
  {
   "cell_type": "code",
   "execution_count": 32,
   "metadata": {},
   "outputs": [
    {
     "name": "stdout",
     "output_type": "stream",
     "text": [
      "Grace-Kelly\n"
     ]
    }
   ],
   "source": [
    "# join() returns a string consisting of the list elements joined by a separator string.\n",
    "# Takes only a list of strings as an argument\n",
    "name = \"-\".join([\"Grace\", \"Kelly\"])\n",
    "print(name) # Grace-Kelly"
   ]
  },
  {
   "cell_type": "markdown",
   "metadata": {},
   "source": [
    "### Creating a new list"
   ]
  },
  {
   "cell_type": "code",
   "execution_count": 33,
   "metadata": {},
   "outputs": [],
   "source": [
    "cities = ['new york city', 'mountain view', 'chicago', 'los angeles']\n",
    "capitalized_cities = []\n",
    "for city in cities:\n",
    "    capitalized_cities.append(city.title())"
   ]
  },
  {
   "cell_type": "markdown",
   "metadata": {},
   "source": [
    "### Adding an element to the end of a list - append()"
   ]
  },
  {
   "cell_type": "code",
   "execution_count": 34,
   "metadata": {},
   "outputs": [
    {
     "name": "stdout",
     "output_type": "stream",
     "text": [
      "['a', 'b', 'c', 'd', 'z']\n"
     ]
    }
   ],
   "source": [
    "letters = ['a', 'b', 'c', 'd']\n",
    "letters.append('z')\n",
    "print(letters) # ['a', 'b', 'c', 'd', 'z']\n",
    "# Note: letters[i] = 'z'; wouldn't work, use append()"
   ]
  },
  {
   "cell_type": "markdown",
   "metadata": {},
   "source": [
    "### Modifying a new list"
   ]
  },
  {
   "cell_type": "code",
   "execution_count": 35,
   "metadata": {},
   "outputs": [],
   "source": [
    "cities = ['new york city', 'mountain view', 'chicago', 'los angeles']\n",
    "for index in range(len(cities)):\n",
    "    cities[index] = cities[index].title()"
   ]
  },
  {
   "cell_type": "markdown",
   "metadata": {},
   "source": [
    "### Print a formatted string from parameters in list"
   ]
  },
  {
   "cell_type": "code",
   "execution_count": 36,
   "metadata": {},
   "outputs": [
    {
     "name": "stdout",
     "output_type": "stream",
     "text": [
      "<ul>\n",
      "<li>first string</li>\n",
      "<li>second string</li>\n",
      "</ul>\n"
     ]
    }
   ],
   "source": [
    "items = ['first string', 'second string']\n",
    "html_str = \"<ul>\\n\"\n",
    "for item in items:\n",
    "    html_str += \"<li>{}</li>\\n\".format(item)\n",
    "html_str += \"</ul>\"\n",
    "print(html_str)"
   ]
  },
  {
   "cell_type": "markdown",
   "metadata": {},
   "source": [
    "### Convert an iterable (tuple, string, set, dictionary) to a list - list()"
   ]
  },
  {
   "cell_type": "code",
   "execution_count": 37,
   "metadata": {},
   "outputs": [
    {
     "ename": "TypeError",
     "evalue": "'list' object is not callable",
     "output_type": "error",
     "traceback": [
      "\u001b[1;31m---------------------------------------------------------------------------\u001b[0m",
      "\u001b[1;31mTypeError\u001b[0m                                 Traceback (most recent call last)",
      "\u001b[1;32mc:\\Users\\PROFESSOR\\Desktop\\PC DESKTOP\\PC\\Data Science Mentorship Program\\Weak 2 (Python Data Types)\\1-Python Lists.ipynb Cell 95\u001b[0m line \u001b[0;36m2\n\u001b[0;32m      <a href='vscode-notebook-cell:/c%3A/Users/PROFESSOR/Desktop/PC%20DESKTOP/PC/Data%20Science%20Mentorship%20Program/Weak%202%20%28Python%20Data%20Types%29/1-Python%20Lists.ipynb#Y163sZmlsZQ%3D%3D?line=0'>1</a>\u001b[0m a\u001b[39m=\u001b[39m(\u001b[39m1\u001b[39m,\u001b[39m2\u001b[39m,\u001b[39m3\u001b[39m,\u001b[39m4\u001b[39m)\n\u001b[1;32m----> <a href='vscode-notebook-cell:/c%3A/Users/PROFESSOR/Desktop/PC%20DESKTOP/PC/Data%20Science%20Mentorship%20Program/Weak%202%20%28Python%20Data%20Types%29/1-Python%20Lists.ipynb#Y163sZmlsZQ%3D%3D?line=1'>2</a>\u001b[0m x\u001b[39m=\u001b[39m\u001b[39mlist\u001b[39m(a)\n",
      "\u001b[1;31mTypeError\u001b[0m: 'list' object is not callable"
     ]
    }
   ],
   "source": [
    "a=(1,2,3,4)\n",
    "x=list(a)"
   ]
  },
  {
   "cell_type": "code",
   "execution_count": null,
   "metadata": {},
   "outputs": [],
   "source": []
  }
 ],
 "metadata": {
  "kernelspec": {
   "display_name": "Python 3",
   "language": "python",
   "name": "python3"
  },
  "language_info": {
   "codemirror_mode": {
    "name": "ipython",
    "version": 3
   },
   "file_extension": ".py",
   "mimetype": "text/x-python",
   "name": "python",
   "nbconvert_exporter": "python",
   "pygments_lexer": "ipython3",
   "version": "3.11.5"
  }
 },
 "nbformat": 4,
 "nbformat_minor": 2
}
