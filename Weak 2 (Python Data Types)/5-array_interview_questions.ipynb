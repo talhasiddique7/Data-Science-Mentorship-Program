{
  "cells": [
    {
      "cell_type": "markdown",
      "metadata": {},
      "source": [
        "for practice https://www.geeksforgeeks.org/explore?page=1&sortBy=submissions"
      ]
    },
    {
      "cell_type": "markdown",
      "metadata": {
        "id": "lymMOnZVdJ_B"
      },
      "source": [
        "## Points to remember\n",
        "\n",
        "- Codes asked are relatively easier in comparison to SDE roles\n",
        "- Pythonic syntax is preferred in most companies\n",
        "- Focus is on optimized code\n",
        "- Start with the simplest solution and then improve\n",
        "- A lot of questions are repeated so mugging up the approaches help\n",
        "- Build intuition using Python Tutor"
      ]
    },
    {
      "cell_type": "code",
      "execution_count": null,
      "metadata": {
        "colab": {
          "base_uri": "https://localhost:8080/"
        },
        "id": "ztJVsbJ-dK3x",
        "outputId": "a2f598cc-39cc-47b3-a355-4d7e6b80d99d"
      },
      "outputs": [
        {
          "name": "stdout",
          "output_type": "stream",
          "text": [
            "23\n"
          ]
        }
      ],
      "source": [
        "# 1. Find the kth largest/smallest item from a list\n",
        "\n",
        "L = [12,23,1,4,56,34,22,3]\n",
        "k=3\n",
        "\n",
        "L.sort(reverse=True)\n",
        "print(L[k-1])\n"
      ]
    },
    {
      "cell_type": "code",
      "execution_count": null,
      "metadata": {
        "colab": {
          "base_uri": "https://localhost:8080/"
        },
        "id": "arS5n6xI3BY5",
        "outputId": "c6678111-377a-40bb-e38a-69a56f4a734b"
      },
      "outputs": [
        {
          "name": "stdout",
          "output_type": "stream",
          "text": [
            "sorted\n"
          ]
        }
      ],
      "source": [
        "# 2. Check if an array is sorted\n",
        "L = [1,2,3,4,5]\n",
        "\n",
        "flag = True\n",
        "\n",
        "for i in range(0,len(L)-1):\n",
        "  if L[i] > L[i+1]:\n",
        "    flag = False\n",
        "\n",
        "if flag:\n",
        "  print('sorted')\n",
        "else:\n",
        "  print('not sorted')\n"
      ]
    },
    {
      "cell_type": "code",
      "execution_count": null,
      "metadata": {
        "colab": {
          "base_uri": "https://localhost:8080/"
        },
        "id": "s4iDxzcy3Ht0",
        "outputId": "5571dac8-a4ca-40dd-fad6-0913529c8adf"
      },
      "outputs": [
        {
          "name": "stdout",
          "output_type": "stream",
          "text": [
            "54\n"
          ]
        }
      ],
      "source": [
        "# 3. Find Min/Max in a given array\n",
        "\n",
        "L = [21,1,34,23,54,11,10]\n",
        "\n",
        "max_val = L[0]\n",
        "\n",
        "for i in L:\n",
        "  if i > max_val:\n",
        "    max_val = i\n",
        "\n",
        "print(max_val)"
      ]
    },
    {
      "cell_type": "code",
      "execution_count": null,
      "metadata": {
        "colab": {
          "base_uri": "https://localhost:8080/"
        },
        "id": "2AsUw6fh3UmZ",
        "outputId": "85b7227c-9dba-4633-c9ee-24d9e1a27c12"
      },
      "outputs": [
        {
          "name": "stdout",
          "output_type": "stream",
          "text": [
            "1\n"
          ]
        }
      ],
      "source": [
        "# 4. Find the first element to occur k times in an array\n",
        "\n",
        "L = [1,1,2,3,4,4,5,5]\n",
        "\n",
        "k = 2\n",
        "\n",
        "d = {}\n",
        "\n",
        "for i in L:\n",
        "  if i in d:\n",
        "    d[i] = d[i] + 1\n",
        "  else:\n",
        "    d[i] = 1\n",
        "\n",
        "for i in d:\n",
        "  if d[i] == k:\n",
        "    print(i)\n",
        "    break"
      ]
    },
    {
      "cell_type": "code",
      "execution_count": null,
      "metadata": {
        "colab": {
          "base_uri": "https://localhost:8080/"
        },
        "id": "b7WwScW6SRHN",
        "outputId": "76be21c0-4f43-46ff-b0a2-42cdcc6e3793"
      },
      "outputs": [
        {
          "name": "stdout",
          "output_type": "stream",
          "text": [
            "1\n",
            "4\n",
            "5\n"
          ]
        }
      ],
      "source": [
        "# 5. Find duplicates in an array\n",
        "L = [1,1,2,3,4,4,5,5]\n",
        "\n",
        "d = {}\n",
        "\n",
        "for i in L:\n",
        "  if i in d:\n",
        "    d[i] = d[i] + 1\n",
        "  else:\n",
        "    d[i] = 1\n",
        "\n",
        "for i in d:\n",
        "  if d[i] > 1:\n",
        "    print(i)\n",
        "\n",
        "\n"
      ]
    },
    {
      "cell_type": "code",
      "execution_count": null,
      "metadata": {
        "colab": {
          "base_uri": "https://localhost:8080/"
        },
        "id": "w7QY2t7M3rhI",
        "outputId": "0377962a-aefa-4869-fb42-9f40fdcc6c36"
      },
      "outputs": [
        {
          "name": "stdout",
          "output_type": "stream",
          "text": [
            "[3, 4, 5, 1, 2]\n"
          ]
        }
      ],
      "source": [
        "# 6. Rotate array to left d items\n",
        "\n",
        "L = [1,2,3,4,5]\n",
        "rotate = 2\n",
        "\n",
        "for i in range(rotate):\n",
        "  temp = L[0]\n",
        "  for j in range(0,len(L)-1):\n",
        "    L[j] = L[j+1]\n",
        "  L[len(L)-1] = temp\n",
        "\n",
        "print(L)"
      ]
    },
    {
      "cell_type": "code",
      "execution_count": null,
      "metadata": {
        "colab": {
          "base_uri": "https://localhost:8080/"
        },
        "id": "FEhak99y3wgo",
        "outputId": "67c0e00d-49e0-4632-e8d2-9e6a7b61b3c8"
      },
      "outputs": [
        {
          "name": "stdout",
          "output_type": "stream",
          "text": [
            "3\n",
            "8\n"
          ]
        }
      ],
      "source": [
        "# 7. Find intersection of 2 sorted arrays\n",
        "\n",
        "a = [1,2,3,4,5,8]\n",
        "b = [3,6,7,8]\n",
        "\n",
        "for i in a:\n",
        "  if i in b:\n",
        "    print(i)\n",
        "\n",
        "\n"
      ]
    },
    {
      "cell_type": "code",
      "execution_count": null,
      "metadata": {
        "colab": {
          "base_uri": "https://localhost:8080/"
        },
        "id": "0zCQuVT4-OHk",
        "outputId": "55c899a2-52ad-4214-d3b0-55cfbd1c51c7"
      },
      "outputs": [
        {
          "name": "stdout",
          "output_type": "stream",
          "text": [
            "3\n",
            "8\n"
          ]
        }
      ],
      "source": [
        "a = [1,2,3,4,5,8]\n",
        "b = [3,6,7,8]\n",
        "\n",
        "i=j=0\n",
        "\n",
        "while i<len(a) and j<len(b):\n",
        "  if a[i] == b[j]:\n",
        "    print(a[i])\n",
        "    i+=1\n",
        "    j+=1\n",
        "  elif a[i] > b[j]:\n",
        "    j+=1\n",
        "  else:\n",
        "    i+=1"
      ]
    },
    {
      "cell_type": "code",
      "execution_count": null,
      "metadata": {
        "colab": {
          "base_uri": "https://localhost:8080/"
        },
        "id": "qamyLwBnZZxw",
        "outputId": "95b2bb30-23ef-497c-a4ae-0939e58e5b6f"
      },
      "outputs": [
        {
          "name": "stdout",
          "output_type": "stream",
          "text": [
            "[11, 10]\n"
          ]
        }
      ],
      "source": [
        "# 8. Find continous subarray with a given sum(given non-negative numbers)\n",
        "# return the starting and ending index of the subarray\n",
        "# return 1st subarray in case of multiple\n",
        "\n",
        "L = [1,22,13,7,9,11,10]\n",
        "S = 16\n",
        "\n",
        "for i in range(0,len(L)):\n",
        "  subarray = []\n",
        "  for j in range(i,len(L)):\n",
        "    subarray.append(L[j])\n",
        "    if sum(subarray) == S:\n",
        "      print(subarray)\n"
      ]
    },
    {
      "cell_type": "code",
      "execution_count": null,
      "metadata": {
        "colab": {
          "base_uri": "https://localhost:8080/"
        },
        "id": "ijwLqR6w6H0U",
        "outputId": "abda76ba-1410-4972-ef0a-c9bd18ce8c08"
      },
      "outputs": [
        {
          "name": "stdout",
          "output_type": "stream",
          "text": [
            "1 2\n"
          ]
        }
      ],
      "source": [
        "L = [1,22,13,7,9,11,10]\n",
        "\n",
        "S = 35\n",
        "\n",
        "d = {}\n",
        "curr_sum = 0\n",
        "\n",
        "for i in range(len(L)):\n",
        "  curr_sum = curr_sum + L[i]\n",
        "\n",
        "  if (curr_sum - S) in d:\n",
        "    print(d[curr_sum - S]+1,i)\n",
        "    break\n",
        "\n",
        "  d[curr_sum] = i\n",
        "\n",
        "\n",
        "\n"
      ]
    },
    {
      "cell_type": "code",
      "execution_count": null,
      "metadata": {
        "id": "CVwCKt5U3yb8"
      },
      "outputs": [],
      "source": [
        "# 9. Find element with left side smaller/right side greater in an array\n",
        "\n",
        "L = [3,1,2,5,8,7,9]\n",
        "\n",
        "for i in range(1,len(L)-1):\n",
        "  flag = True\n",
        "\n",
        "  for j in range(0,i):\n",
        "    if L[j] > L[i]:\n",
        "      flag = False\n",
        "\n",
        "  for k in range(i+1,len(L)):\n",
        "    if L[k] < L[i]:\n",
        "      flag = False\n",
        "\n",
        "  if flag:\n",
        "    print(L[i])\n",
        "\n"
      ]
    },
    {
      "cell_type": "code",
      "execution_count": null,
      "metadata": {
        "colab": {
          "base_uri": "https://localhost:8080/"
        },
        "id": "Mfsc-3kTxmNT",
        "outputId": "6e965738-1c25-4e4d-87e9-6ba77d0a032a"
      },
      "outputs": [
        {
          "name": "stdout",
          "output_type": "stream",
          "text": [
            "5\n"
          ]
        }
      ],
      "source": [
        "L = [3,1,2,5,8,7,9]\n",
        "\n",
        "for i in range(1,len(L)-1):\n",
        "  if max(L[:i]) < L[i] < min(L[i+1:]):\n",
        "    print(L[i])"
      ]
    },
    {
      "cell_type": "code",
      "execution_count": null,
      "metadata": {
        "colab": {
          "base_uri": "https://localhost:8080/"
        },
        "id": "lTcOuVZ91AtQ",
        "outputId": "2f5b67bf-c2c3-4c61-ad16-1c4e603d2a11"
      },
      "outputs": [
        {
          "name": "stdout",
          "output_type": "stream",
          "text": [
            "5\n"
          ]
        }
      ],
      "source": [
        "L = [3,1,2,5,8,7,9]\n",
        "\n",
        "max_arr = []\n",
        "min_arr = []\n",
        "\n",
        "max_val = L[0]\n",
        "min_val = L[-1]\n",
        "\n",
        "for i in L:\n",
        "  if i>max_val:\n",
        "    max_val = i\n",
        "  max_arr.append(max_val)\n",
        "\n",
        "for i in range(len(L)-1,-1,-1):\n",
        "  if L[i] < min_val:\n",
        "    min_val = L[i]\n",
        "\n",
        "  min_arr.insert(0,min_val)\n",
        "\n",
        "\n",
        "for i in range(1,len(L)-1):\n",
        "  if max_arr[i-1] < L[i] < min_arr[i+1]:\n",
        "    print(L[i])"
      ]
    },
    {
      "cell_type": "code",
      "execution_count": null,
      "metadata": {
        "colab": {
          "base_uri": "https://localhost:8080/"
        },
        "id": "jnBIIWSf36ZW",
        "outputId": "67902095-3bbe-4242-92d9-fb60d3682b1b"
      },
      "outputs": [
        {
          "name": "stdout",
          "output_type": "stream",
          "text": [
            "[4, 7, -1, 6, -11, 14, 3, -1, -6]\n"
          ]
        }
      ],
      "source": [
        "# 10. Maximum sum subarray\n",
        "L = [-2,4,7,-1,6,-11,14,3,-1,-6]\n",
        "\n",
        "d = {}\n",
        "\n",
        "for i in range(0,len(L)):\n",
        "  subarray = []\n",
        "  for j in range(i,len(L)):\n",
        "    subarray.append(L[j])\n",
        "    d[sum(subarray)] = subarray\n",
        "\n",
        "max_val = max(d.keys())\n",
        "\n",
        "for i in d:\n",
        "  if i == max_val:\n",
        "    print(d[i])"
      ]
    },
    {
      "cell_type": "code",
      "execution_count": null,
      "metadata": {
        "colab": {
          "base_uri": "https://localhost:8080/"
        },
        "id": "znzMPw9xsRsk",
        "outputId": "4f191001-f131-4a2d-94a0-6ed04e56f285"
      },
      "outputs": [
        {
          "name": "stdout",
          "output_type": "stream",
          "text": [
            "22 [4, 7, -1, 6, -11, 14, 3, -1, -6]\n"
          ]
        }
      ],
      "source": [
        "\n",
        "L = [-2,4,7,-1,6,-11,14,3,-1,-6]\n",
        "\n",
        "\n",
        "curr_sum = 0\n",
        "curr_seq = []\n",
        "best_sum = L[0]\n",
        "best_seq = []\n",
        "\n",
        "for i in L:\n",
        "  if i + curr_sum > i:\n",
        "    curr_sum = curr_sum + i\n",
        "    curr_seq.append(i)\n",
        "  else:\n",
        "    curr_sum = i\n",
        "    curr_seq.clear()\n",
        "    curr_seq.append(i)\n",
        "\n",
        "  if curr_sum > best_sum:\n",
        "    best_sum = curr_sum\n",
        "    best_seq = curr_seq\n",
        "\n",
        "print(best_sum,best_seq)\n",
        "\n",
        "\n"
      ]
    },
    {
      "cell_type": "code",
      "execution_count": null,
      "metadata": {
        "colab": {
          "base_uri": "https://localhost:8080/"
        },
        "id": "YAqi4jMGuK0V",
        "outputId": "cf9e2a89-e882-40e2-f4e6-6f06a72b9e8b"
      },
      "outputs": [
        {
          "data": {
            "text/plain": [
              "-9223372036854775808"
            ]
          },
          "execution_count": 27,
          "metadata": {},
          "output_type": "execute_result"
        }
      ],
      "source": []
    },
    {
      "cell_type": "code",
      "execution_count": null,
      "metadata": {
        "id": "TEJ4_fAA38pT"
      },
      "outputs": [],
      "source": [
        "# 11. Sort arrays with items 1 and 0"
      ]
    },
    {
      "cell_type": "code",
      "execution_count": null,
      "metadata": {
        "id": "QwxCLiXs3-s9"
      },
      "outputs": [],
      "source": [
        "# 12. Move all -ve numbers to the end"
      ]
    },
    {
      "cell_type": "code",
      "execution_count": null,
      "metadata": {
        "id": "VWa9FDKr7Dyl"
      },
      "outputs": [],
      "source": [
        "# 13. Maximum Product Subarray"
      ]
    },
    {
      "cell_type": "code",
      "execution_count": null,
      "metadata": {
        "id": "czP57bDP7H04"
      },
      "outputs": [],
      "source": [
        "# 14. Find union of 2 arrays"
      ]
    },
    {
      "cell_type": "code",
      "execution_count": null,
      "metadata": {
        "id": "alYVlMK9ZKIy"
      },
      "outputs": [],
      "source": [
        "# 15. Find Pythagorean triplets in an array"
      ]
    }
  ],
  "metadata": {
    "colab": {
      "provenance": []
    },
    "kernelspec": {
      "display_name": "Python 3",
      "name": "python3"
    },
    "language_info": {
      "name": "python"
    }
  },
  "nbformat": 4,
  "nbformat_minor": 0
}
